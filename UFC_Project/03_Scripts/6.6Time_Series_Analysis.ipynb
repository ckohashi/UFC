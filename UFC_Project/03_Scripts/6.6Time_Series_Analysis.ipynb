{
 "cells": [
  {
   "cell_type": "markdown",
   "id": "2afed6ec",
   "metadata": {},
   "source": [
    "# UFC Sourcing & Analyzing Time-Series Data"
   ]
  },
  {
   "cell_type": "markdown",
   "id": "90f692f4",
   "metadata": {},
   "source": [
    "## List of Contents:\n",
    "## 01. Importing Libraries\n",
    "## 02. Importing Data\n",
    "## 03. Preparing Data for Analysis\n",
    "## 04. Decomposition\n",
    "## 05. Initial Stationarity Test\n",
    "## 06. Stationarizing Data\n",
    "## 07. Checking Autocorrelations\n",
    "\n",
    "## --"
   ]
  },
  {
   "cell_type": "markdown",
   "id": "6deab496",
   "metadata": {},
   "source": [
    "## 01. Importing Libraries"
   ]
  },
  {
   "cell_type": "code",
   "execution_count": 1,
   "id": "15092b5c",
   "metadata": {},
   "outputs": [],
   "source": [
    "import pandas as pd\n",
    "import numpy as np\n",
    "import seaborn as sns\n",
    "import matplotlib\n",
    "import matplotlib.pyplot as plt\n",
    "import statsmodels.api as sm \n",
    "import os\n",
    "import warnings \n",
    "warnings.filterwarnings(\"ignore\")\n",
    "plt.style.use('fivethirtyeight')"
   ]
  },
  {
   "cell_type": "code",
   "execution_count": 2,
   "id": "181fff33",
   "metadata": {},
   "outputs": [],
   "source": [
    "#Option to display charts without call\n",
    "%matplotlib inline"
   ]
  },
  {
   "cell_type": "code",
   "execution_count": 3,
   "id": "acc56e09",
   "metadata": {},
   "outputs": [],
   "source": [
    "#To view all columns of dataset at once\n",
    "pd.set_option('display.max_columns', 300)\n",
    "pd.set_option('display.max_rows', 300)"
   ]
  },
  {
   "cell_type": "markdown",
   "id": "4af103d7",
   "metadata": {},
   "source": [
    "## 02. Importing Data"
   ]
  },
  {
   "cell_type": "code",
   "execution_count": 4,
   "id": "17fae1ce",
   "metadata": {},
   "outputs": [],
   "source": [
    "#Defining path for data import\n",
    "path = r'C:\\Users\\Mosspants\\Desktop\\CareerFoundry\\A6_Advanced Analytics & Dashboard Design\\UFC_Project'"
   ]
  },
  {
   "cell_type": "code",
   "execution_count": 5,
   "id": "4434082a",
   "metadata": {},
   "outputs": [],
   "source": [
    "#Importing data\n",
    "df_ufc = pd.read_csv(os.path.join(path, '02_Data', 'Original_Data', 'raw_total_fight_data.csv'), index_col=False, sep=';')"
   ]
  },
  {
   "cell_type": "code",
   "execution_count": 6,
   "id": "8501bf2b",
   "metadata": {},
   "outputs": [
    {
     "data": {
      "text/html": [
       "<div>\n",
       "<style scoped>\n",
       "    .dataframe tbody tr th:only-of-type {\n",
       "        vertical-align: middle;\n",
       "    }\n",
       "\n",
       "    .dataframe tbody tr th {\n",
       "        vertical-align: top;\n",
       "    }\n",
       "\n",
       "    .dataframe thead th {\n",
       "        text-align: right;\n",
       "    }\n",
       "</style>\n",
       "<table border=\"1\" class=\"dataframe\">\n",
       "  <thead>\n",
       "    <tr style=\"text-align: right;\">\n",
       "      <th></th>\n",
       "      <th>R_fighter</th>\n",
       "      <th>B_fighter</th>\n",
       "      <th>R_KD</th>\n",
       "      <th>B_KD</th>\n",
       "      <th>R_SIG_STR.</th>\n",
       "      <th>B_SIG_STR.</th>\n",
       "      <th>R_SIG_STR_pct</th>\n",
       "      <th>B_SIG_STR_pct</th>\n",
       "      <th>R_TOTAL_STR.</th>\n",
       "      <th>B_TOTAL_STR.</th>\n",
       "      <th>R_TD</th>\n",
       "      <th>B_TD</th>\n",
       "      <th>R_TD_pct</th>\n",
       "      <th>B_TD_pct</th>\n",
       "      <th>R_SUB_ATT</th>\n",
       "      <th>B_SUB_ATT</th>\n",
       "      <th>R_REV</th>\n",
       "      <th>B_REV</th>\n",
       "      <th>R_CTRL</th>\n",
       "      <th>B_CTRL</th>\n",
       "      <th>R_HEAD</th>\n",
       "      <th>B_HEAD</th>\n",
       "      <th>R_BODY</th>\n",
       "      <th>B_BODY</th>\n",
       "      <th>R_LEG</th>\n",
       "      <th>B_LEG</th>\n",
       "      <th>R_DISTANCE</th>\n",
       "      <th>B_DISTANCE</th>\n",
       "      <th>R_CLINCH</th>\n",
       "      <th>B_CLINCH</th>\n",
       "      <th>R_GROUND</th>\n",
       "      <th>B_GROUND</th>\n",
       "      <th>win_by</th>\n",
       "      <th>last_round</th>\n",
       "      <th>last_round_time</th>\n",
       "      <th>Format</th>\n",
       "      <th>Referee</th>\n",
       "      <th>date</th>\n",
       "      <th>location</th>\n",
       "      <th>Fight_type</th>\n",
       "      <th>Winner</th>\n",
       "    </tr>\n",
       "  </thead>\n",
       "  <tbody>\n",
       "    <tr>\n",
       "      <th>0</th>\n",
       "      <td>Adrian Yanez</td>\n",
       "      <td>Gustavo Lopez</td>\n",
       "      <td>2</td>\n",
       "      <td>0</td>\n",
       "      <td>41 of 103</td>\n",
       "      <td>23 of 51</td>\n",
       "      <td>39%</td>\n",
       "      <td>45%</td>\n",
       "      <td>41 of 103</td>\n",
       "      <td>23 of 51</td>\n",
       "      <td>0 of 0</td>\n",
       "      <td>0 of 1</td>\n",
       "      <td>---</td>\n",
       "      <td>0%</td>\n",
       "      <td>0</td>\n",
       "      <td>0</td>\n",
       "      <td>0</td>\n",
       "      <td>0</td>\n",
       "      <td>0:03</td>\n",
       "      <td>0:00</td>\n",
       "      <td>32 of 83</td>\n",
       "      <td>14 of 40</td>\n",
       "      <td>8 of 19</td>\n",
       "      <td>5 of 7</td>\n",
       "      <td>1 of 1</td>\n",
       "      <td>4 of 4</td>\n",
       "      <td>41 of 102</td>\n",
       "      <td>23 of 51</td>\n",
       "      <td>0 of 0</td>\n",
       "      <td>0 of 0</td>\n",
       "      <td>0 of 1</td>\n",
       "      <td>0 of 0</td>\n",
       "      <td>KO/TKO</td>\n",
       "      <td>3</td>\n",
       "      <td>0:27</td>\n",
       "      <td>3 Rnd (5-5-5)</td>\n",
       "      <td>Chris Tognoni</td>\n",
       "      <td>March 20, 2021</td>\n",
       "      <td>Las Vegas, Nevada, USA</td>\n",
       "      <td>Bantamweight Bout</td>\n",
       "      <td>Adrian Yanez</td>\n",
       "    </tr>\n",
       "    <tr>\n",
       "      <th>1</th>\n",
       "      <td>Trevin Giles</td>\n",
       "      <td>Roman Dolidze</td>\n",
       "      <td>0</td>\n",
       "      <td>0</td>\n",
       "      <td>27 of 57</td>\n",
       "      <td>32 of 67</td>\n",
       "      <td>47%</td>\n",
       "      <td>47%</td>\n",
       "      <td>43 of 73</td>\n",
       "      <td>75 of 110</td>\n",
       "      <td>1 of 2</td>\n",
       "      <td>1 of 3</td>\n",
       "      <td>50%</td>\n",
       "      <td>33%</td>\n",
       "      <td>1</td>\n",
       "      <td>2</td>\n",
       "      <td>0</td>\n",
       "      <td>1</td>\n",
       "      <td>1:15</td>\n",
       "      <td>4:15</td>\n",
       "      <td>22 of 51</td>\n",
       "      <td>10 of 37</td>\n",
       "      <td>4 of 4</td>\n",
       "      <td>7 of 14</td>\n",
       "      <td>1 of 2</td>\n",
       "      <td>15 of 16</td>\n",
       "      <td>15 of 42</td>\n",
       "      <td>28 of 59</td>\n",
       "      <td>4 of 5</td>\n",
       "      <td>3 of 6</td>\n",
       "      <td>8 of 10</td>\n",
       "      <td>1 of 2</td>\n",
       "      <td>Decision - Unanimous</td>\n",
       "      <td>3</td>\n",
       "      <td>5:00</td>\n",
       "      <td>3 Rnd (5-5-5)</td>\n",
       "      <td>Herb Dean</td>\n",
       "      <td>March 20, 2021</td>\n",
       "      <td>Las Vegas, Nevada, USA</td>\n",
       "      <td>Middleweight Bout</td>\n",
       "      <td>Trevin Giles</td>\n",
       "    </tr>\n",
       "    <tr>\n",
       "      <th>2</th>\n",
       "      <td>Tai Tuivasa</td>\n",
       "      <td>Harry Hunsucker</td>\n",
       "      <td>1</td>\n",
       "      <td>0</td>\n",
       "      <td>14 of 18</td>\n",
       "      <td>2 of 6</td>\n",
       "      <td>77%</td>\n",
       "      <td>33%</td>\n",
       "      <td>14 of 18</td>\n",
       "      <td>2 of 6</td>\n",
       "      <td>0 of 0</td>\n",
       "      <td>0 of 0</td>\n",
       "      <td>---</td>\n",
       "      <td>---</td>\n",
       "      <td>0</td>\n",
       "      <td>0</td>\n",
       "      <td>0</td>\n",
       "      <td>0</td>\n",
       "      <td>0:10</td>\n",
       "      <td>0:00</td>\n",
       "      <td>10 of 14</td>\n",
       "      <td>1 of 5</td>\n",
       "      <td>0 of 0</td>\n",
       "      <td>0 of 0</td>\n",
       "      <td>4 of 4</td>\n",
       "      <td>1 of 1</td>\n",
       "      <td>9 of 10</td>\n",
       "      <td>2 of 6</td>\n",
       "      <td>0 of 0</td>\n",
       "      <td>0 of 0</td>\n",
       "      <td>5 of 8</td>\n",
       "      <td>0 of 0</td>\n",
       "      <td>KO/TKO</td>\n",
       "      <td>1</td>\n",
       "      <td>0:49</td>\n",
       "      <td>3 Rnd (5-5-5)</td>\n",
       "      <td>Herb Dean</td>\n",
       "      <td>March 20, 2021</td>\n",
       "      <td>Las Vegas, Nevada, USA</td>\n",
       "      <td>Heavyweight Bout</td>\n",
       "      <td>Tai Tuivasa</td>\n",
       "    </tr>\n",
       "    <tr>\n",
       "      <th>3</th>\n",
       "      <td>Cheyanne Buys</td>\n",
       "      <td>Montserrat Conejo</td>\n",
       "      <td>0</td>\n",
       "      <td>0</td>\n",
       "      <td>31 of 65</td>\n",
       "      <td>15 of 41</td>\n",
       "      <td>47%</td>\n",
       "      <td>36%</td>\n",
       "      <td>49 of 87</td>\n",
       "      <td>136 of 168</td>\n",
       "      <td>0 of 0</td>\n",
       "      <td>4 of 5</td>\n",
       "      <td>---</td>\n",
       "      <td>80%</td>\n",
       "      <td>0</td>\n",
       "      <td>2</td>\n",
       "      <td>3</td>\n",
       "      <td>1</td>\n",
       "      <td>1:04</td>\n",
       "      <td>9:53</td>\n",
       "      <td>26 of 60</td>\n",
       "      <td>10 of 35</td>\n",
       "      <td>5 of 5</td>\n",
       "      <td>0 of 1</td>\n",
       "      <td>0 of 0</td>\n",
       "      <td>5 of 5</td>\n",
       "      <td>26 of 56</td>\n",
       "      <td>15 of 41</td>\n",
       "      <td>2 of 2</td>\n",
       "      <td>0 of 0</td>\n",
       "      <td>3 of 7</td>\n",
       "      <td>0 of 0</td>\n",
       "      <td>Decision - Unanimous</td>\n",
       "      <td>3</td>\n",
       "      <td>5:00</td>\n",
       "      <td>3 Rnd (5-5-5)</td>\n",
       "      <td>Mark Smith</td>\n",
       "      <td>March 20, 2021</td>\n",
       "      <td>Las Vegas, Nevada, USA</td>\n",
       "      <td>Women's Strawweight Bout</td>\n",
       "      <td>Montserrat Conejo</td>\n",
       "    </tr>\n",
       "    <tr>\n",
       "      <th>4</th>\n",
       "      <td>Marion Reneau</td>\n",
       "      <td>Macy Chiasson</td>\n",
       "      <td>0</td>\n",
       "      <td>0</td>\n",
       "      <td>30 of 63</td>\n",
       "      <td>51 of 138</td>\n",
       "      <td>47%</td>\n",
       "      <td>36%</td>\n",
       "      <td>59 of 93</td>\n",
       "      <td>92 of 184</td>\n",
       "      <td>2 of 4</td>\n",
       "      <td>1 of 1</td>\n",
       "      <td>50%</td>\n",
       "      <td>100%</td>\n",
       "      <td>0</td>\n",
       "      <td>0</td>\n",
       "      <td>0</td>\n",
       "      <td>1</td>\n",
       "      <td>2:15</td>\n",
       "      <td>3:48</td>\n",
       "      <td>14 of 40</td>\n",
       "      <td>29 of 110</td>\n",
       "      <td>7 of 13</td>\n",
       "      <td>15 of 20</td>\n",
       "      <td>9 of 10</td>\n",
       "      <td>7 of 8</td>\n",
       "      <td>25 of 54</td>\n",
       "      <td>36 of 119</td>\n",
       "      <td>5 of 9</td>\n",
       "      <td>13 of 15</td>\n",
       "      <td>0 of 0</td>\n",
       "      <td>2 of 4</td>\n",
       "      <td>Decision - Unanimous</td>\n",
       "      <td>3</td>\n",
       "      <td>5:00</td>\n",
       "      <td>3 Rnd (5-5-5)</td>\n",
       "      <td>Mark Smith</td>\n",
       "      <td>March 20, 2021</td>\n",
       "      <td>Las Vegas, Nevada, USA</td>\n",
       "      <td>Women's Bantamweight Bout</td>\n",
       "      <td>Macy Chiasson</td>\n",
       "    </tr>\n",
       "  </tbody>\n",
       "</table>\n",
       "</div>"
      ],
      "text/plain": [
       "       R_fighter          B_fighter  R_KD  B_KD R_SIG_STR. B_SIG_STR.  \\\n",
       "0   Adrian Yanez      Gustavo Lopez     2     0  41 of 103   23 of 51   \n",
       "1   Trevin Giles      Roman Dolidze     0     0   27 of 57   32 of 67   \n",
       "2    Tai Tuivasa    Harry Hunsucker     1     0   14 of 18     2 of 6   \n",
       "3  Cheyanne Buys  Montserrat Conejo     0     0   31 of 65   15 of 41   \n",
       "4  Marion Reneau      Macy Chiasson     0     0   30 of 63  51 of 138   \n",
       "\n",
       "  R_SIG_STR_pct B_SIG_STR_pct R_TOTAL_STR. B_TOTAL_STR.    R_TD    B_TD  \\\n",
       "0           39%           45%    41 of 103     23 of 51  0 of 0  0 of 1   \n",
       "1           47%           47%     43 of 73    75 of 110  1 of 2  1 of 3   \n",
       "2           77%           33%     14 of 18       2 of 6  0 of 0  0 of 0   \n",
       "3           47%           36%     49 of 87   136 of 168  0 of 0  4 of 5   \n",
       "4           47%           36%     59 of 93    92 of 184  2 of 4  1 of 1   \n",
       "\n",
       "  R_TD_pct B_TD_pct  R_SUB_ATT  B_SUB_ATT  R_REV  B_REV R_CTRL B_CTRL  \\\n",
       "0      ---       0%          0          0      0      0   0:03   0:00   \n",
       "1      50%      33%          1          2      0      1   1:15   4:15   \n",
       "2      ---      ---          0          0      0      0   0:10   0:00   \n",
       "3      ---      80%          0          2      3      1   1:04   9:53   \n",
       "4      50%     100%          0          0      0      1   2:15   3:48   \n",
       "\n",
       "     R_HEAD     B_HEAD   R_BODY    B_BODY    R_LEG     B_LEG R_DISTANCE  \\\n",
       "0  32 of 83   14 of 40  8 of 19    5 of 7   1 of 1    4 of 4  41 of 102   \n",
       "1  22 of 51   10 of 37   4 of 4   7 of 14   1 of 2  15 of 16   15 of 42   \n",
       "2  10 of 14     1 of 5   0 of 0    0 of 0   4 of 4    1 of 1    9 of 10   \n",
       "3  26 of 60   10 of 35   5 of 5    0 of 1   0 of 0    5 of 5   26 of 56   \n",
       "4  14 of 40  29 of 110  7 of 13  15 of 20  9 of 10    7 of 8   25 of 54   \n",
       "\n",
       "  B_DISTANCE R_CLINCH  B_CLINCH R_GROUND B_GROUND                win_by  \\\n",
       "0   23 of 51   0 of 0    0 of 0   0 of 1   0 of 0                KO/TKO   \n",
       "1   28 of 59   4 of 5    3 of 6  8 of 10   1 of 2  Decision - Unanimous   \n",
       "2     2 of 6   0 of 0    0 of 0   5 of 8   0 of 0                KO/TKO   \n",
       "3   15 of 41   2 of 2    0 of 0   3 of 7   0 of 0  Decision - Unanimous   \n",
       "4  36 of 119   5 of 9  13 of 15   0 of 0   2 of 4  Decision - Unanimous   \n",
       "\n",
       "   last_round last_round_time         Format        Referee            date  \\\n",
       "0           3            0:27  3 Rnd (5-5-5)  Chris Tognoni  March 20, 2021   \n",
       "1           3            5:00  3 Rnd (5-5-5)      Herb Dean  March 20, 2021   \n",
       "2           1            0:49  3 Rnd (5-5-5)      Herb Dean  March 20, 2021   \n",
       "3           3            5:00  3 Rnd (5-5-5)     Mark Smith  March 20, 2021   \n",
       "4           3            5:00  3 Rnd (5-5-5)     Mark Smith  March 20, 2021   \n",
       "\n",
       "                 location                 Fight_type             Winner  \n",
       "0  Las Vegas, Nevada, USA          Bantamweight Bout       Adrian Yanez  \n",
       "1  Las Vegas, Nevada, USA          Middleweight Bout       Trevin Giles  \n",
       "2  Las Vegas, Nevada, USA           Heavyweight Bout        Tai Tuivasa  \n",
       "3  Las Vegas, Nevada, USA   Women's Strawweight Bout  Montserrat Conejo  \n",
       "4  Las Vegas, Nevada, USA  Women's Bantamweight Bout      Macy Chiasson  "
      ]
     },
     "execution_count": 6,
     "metadata": {},
     "output_type": "execute_result"
    }
   ],
   "source": [
    "#Checking import\n",
    "df_ufc.head()"
   ]
  },
  {
   "cell_type": "code",
   "execution_count": 7,
   "id": "44672e77",
   "metadata": {},
   "outputs": [
    {
     "data": {
      "text/plain": [
       "(6012, 41)"
      ]
     },
     "execution_count": 7,
     "metadata": {},
     "output_type": "execute_result"
    }
   ],
   "source": [
    "df_ufc.shape"
   ]
  },
  {
   "cell_type": "markdown",
   "id": "c6316bd3",
   "metadata": {},
   "source": [
    "### I realized that using the prepared data set to total up the number of doctor stoppage wins from the previous 6.5 script was incorrect. That data lists doctor stoppages as the total number of times that has happened in a fighter's career, so adding them was inflating the numbers. \n",
    "### I want to look at doctor stoppages for this analysis, and that means using the raw data where each fight's win is notated by the type of win (ko, submission, doctor stoppage, etc.)"
   ]
  },
  {
   "cell_type": "markdown",
   "id": "1d7d323c",
   "metadata": {},
   "source": [
    "## 03. Preparing Data for Analysis"
   ]
  },
  {
   "cell_type": "markdown",
   "id": "abbfddbe",
   "metadata": {},
   "source": [
    "### Cleaning data:"
   ]
  },
  {
   "cell_type": "code",
   "execution_count": 8,
   "id": "7244dcaa",
   "metadata": {},
   "outputs": [
    {
     "data": {
      "text/plain": [
       "R_fighter            0\n",
       "B_fighter            0\n",
       "R_KD                 0\n",
       "B_KD                 0\n",
       "R_SIG_STR.           0\n",
       "B_SIG_STR.           0\n",
       "R_SIG_STR_pct        0\n",
       "B_SIG_STR_pct        0\n",
       "R_TOTAL_STR.         0\n",
       "B_TOTAL_STR.         0\n",
       "R_TD                 0\n",
       "B_TD                 0\n",
       "R_TD_pct             0\n",
       "B_TD_pct             0\n",
       "R_SUB_ATT            0\n",
       "B_SUB_ATT            0\n",
       "R_REV                0\n",
       "B_REV                0\n",
       "R_CTRL               0\n",
       "B_CTRL               0\n",
       "R_HEAD               0\n",
       "B_HEAD               0\n",
       "R_BODY               0\n",
       "B_BODY               0\n",
       "R_LEG                0\n",
       "B_LEG                0\n",
       "R_DISTANCE           0\n",
       "B_DISTANCE           0\n",
       "R_CLINCH             0\n",
       "B_CLINCH             0\n",
       "R_GROUND             0\n",
       "B_GROUND             0\n",
       "win_by               0\n",
       "last_round           0\n",
       "last_round_time      0\n",
       "Format               0\n",
       "Referee             32\n",
       "date                 0\n",
       "location             0\n",
       "Fight_type           0\n",
       "Winner             110\n",
       "dtype: int64"
      ]
     },
     "execution_count": 8,
     "metadata": {},
     "output_type": "execute_result"
    }
   ],
   "source": [
    "#Checking for missing data\n",
    "df_ufc.isnull().sum()"
   ]
  },
  {
   "cell_type": "markdown",
   "id": "235f09cf",
   "metadata": {},
   "source": [
    "### We will be looking at win_by and date, so I will not remove the missing Referee data. It is not a column we will be using. The same can be said for the Winner column."
   ]
  },
  {
   "cell_type": "code",
   "execution_count": 9,
   "id": "467536b7",
   "metadata": {
    "scrolled": true
   },
   "outputs": [
    {
     "data": {
      "text/html": [
       "<div>\n",
       "<style scoped>\n",
       "    .dataframe tbody tr th:only-of-type {\n",
       "        vertical-align: middle;\n",
       "    }\n",
       "\n",
       "    .dataframe tbody tr th {\n",
       "        vertical-align: top;\n",
       "    }\n",
       "\n",
       "    .dataframe thead th {\n",
       "        text-align: right;\n",
       "    }\n",
       "</style>\n",
       "<table border=\"1\" class=\"dataframe\">\n",
       "  <thead>\n",
       "    <tr style=\"text-align: right;\">\n",
       "      <th></th>\n",
       "      <th>R_fighter</th>\n",
       "      <th>B_fighter</th>\n",
       "      <th>R_KD</th>\n",
       "      <th>B_KD</th>\n",
       "      <th>R_SIG_STR.</th>\n",
       "      <th>B_SIG_STR.</th>\n",
       "      <th>R_SIG_STR_pct</th>\n",
       "      <th>B_SIG_STR_pct</th>\n",
       "      <th>R_TOTAL_STR.</th>\n",
       "      <th>B_TOTAL_STR.</th>\n",
       "      <th>R_TD</th>\n",
       "      <th>B_TD</th>\n",
       "      <th>R_TD_pct</th>\n",
       "      <th>B_TD_pct</th>\n",
       "      <th>R_SUB_ATT</th>\n",
       "      <th>B_SUB_ATT</th>\n",
       "      <th>R_REV</th>\n",
       "      <th>B_REV</th>\n",
       "      <th>R_CTRL</th>\n",
       "      <th>B_CTRL</th>\n",
       "      <th>R_HEAD</th>\n",
       "      <th>B_HEAD</th>\n",
       "      <th>R_BODY</th>\n",
       "      <th>B_BODY</th>\n",
       "      <th>R_LEG</th>\n",
       "      <th>B_LEG</th>\n",
       "      <th>R_DISTANCE</th>\n",
       "      <th>B_DISTANCE</th>\n",
       "      <th>R_CLINCH</th>\n",
       "      <th>B_CLINCH</th>\n",
       "      <th>R_GROUND</th>\n",
       "      <th>B_GROUND</th>\n",
       "      <th>win_by</th>\n",
       "      <th>last_round</th>\n",
       "      <th>last_round_time</th>\n",
       "      <th>Format</th>\n",
       "      <th>Referee</th>\n",
       "      <th>date</th>\n",
       "      <th>location</th>\n",
       "      <th>Fight_type</th>\n",
       "      <th>Winner</th>\n",
       "    </tr>\n",
       "  </thead>\n",
       "  <tbody>\n",
       "  </tbody>\n",
       "</table>\n",
       "</div>"
      ],
      "text/plain": [
       "Empty DataFrame\n",
       "Columns: [R_fighter, B_fighter, R_KD, B_KD, R_SIG_STR., B_SIG_STR., R_SIG_STR_pct, B_SIG_STR_pct, R_TOTAL_STR., B_TOTAL_STR., R_TD, B_TD, R_TD_pct, B_TD_pct, R_SUB_ATT, B_SUB_ATT, R_REV, B_REV, R_CTRL, B_CTRL, R_HEAD, B_HEAD, R_BODY, B_BODY, R_LEG, B_LEG, R_DISTANCE, B_DISTANCE, R_CLINCH, B_CLINCH, R_GROUND, B_GROUND, win_by, last_round, last_round_time, Format, Referee, date, location, Fight_type, Winner]\n",
       "Index: []"
      ]
     },
     "execution_count": 9,
     "metadata": {},
     "output_type": "execute_result"
    }
   ],
   "source": [
    "#Checking for duplicates\n",
    "df_dups = df_ufc[df_ufc.duplicated()]\n",
    "df_dups"
   ]
  },
  {
   "cell_type": "markdown",
   "id": "94b5a041",
   "metadata": {},
   "source": [
    "### There are no duplicates in the data."
   ]
  },
  {
   "cell_type": "code",
   "execution_count": 10,
   "id": "5145f518",
   "metadata": {},
   "outputs": [
    {
     "data": {
      "text/plain": [
       "win_by\n",
       "Decision - Unanimous       2097\n",
       "KO/TKO                     1905\n",
       "Submission                 1211\n",
       "Decision - Split            568\n",
       "TKO - Doctor's Stoppage      80\n",
       "Decision - Majority          66\n",
       "Overturned                   48\n",
       "DQ                           18\n",
       "Could Not Continue           17\n",
       "Other                         2\n",
       "Name: count, dtype: int64"
      ]
     },
     "execution_count": 10,
     "metadata": {},
     "output_type": "execute_result"
    }
   ],
   "source": [
    "#Looking at counts of win_by\n",
    "df_ufc['win_by'].value_counts(dropna = False)"
   ]
  },
  {
   "cell_type": "markdown",
   "id": "4d2c8797",
   "metadata": {},
   "source": [
    "### There are actually not that many wins by doctor's stoppage. I'm not sure that would work for a time-series. Instead I will use the KO/TKO wins. Knockouts are rarer than the judges deciding unanious wins and also something that can lead to more serious injuries."
   ]
  },
  {
   "cell_type": "markdown",
   "id": "9ddb7d6a",
   "metadata": {},
   "source": [
    "### The date will need to be formatted for the analysis. I have also previously removed values before the year 2000. I will take a look a the data to see if this is still needed."
   ]
  },
  {
   "cell_type": "markdown",
   "id": "e26efee7",
   "metadata": {},
   "source": [
    "### Data wrangling:"
   ]
  },
  {
   "cell_type": "code",
   "execution_count": 11,
   "id": "b7ef92eb",
   "metadata": {},
   "outputs": [
    {
     "data": {
      "text/plain": [
       "dtype('O')"
      ]
     },
     "execution_count": 11,
     "metadata": {},
     "output_type": "execute_result"
    }
   ],
   "source": [
    "#Looking at date datatype\n",
    "df_ufc['date'].dtype"
   ]
  },
  {
   "cell_type": "code",
   "execution_count": 12,
   "id": "f49acbd4",
   "metadata": {},
   "outputs": [],
   "source": [
    "#Changing format of date to datetime\n",
    "df_ufc['date'] = pd.to_datetime(df_ufc['date'])"
   ]
  },
  {
   "cell_type": "code",
   "execution_count": 13,
   "id": "5cbdc1c1",
   "metadata": {},
   "outputs": [
    {
     "data": {
      "text/plain": [
       "0   2021-03-20\n",
       "1   2021-03-20\n",
       "2   2021-03-20\n",
       "3   2021-03-20\n",
       "4   2021-03-20\n",
       "Name: date, dtype: datetime64[ns]"
      ]
     },
     "execution_count": 13,
     "metadata": {},
     "output_type": "execute_result"
    }
   ],
   "source": [
    "#Checking change\n",
    "df_ufc['date'].head()"
   ]
  },
  {
   "cell_type": "markdown",
   "id": "0455acee",
   "metadata": {},
   "source": [
    "### I'm sure there are other ways to accomplish this, but what I will do is split the date into columns that act as day, month, and year flags to group the data. Then we can see how many matches took place in each year."
   ]
  },
  {
   "cell_type": "code",
   "execution_count": 14,
   "id": "7f27fe7b",
   "metadata": {},
   "outputs": [],
   "source": [
    "#Creating Day, Month, and Year columns from date\n",
    "df_ufc['Day'] =pd.DatetimeIndex(df_ufc['date']).day\n",
    "df_ufc['Month'] =pd.DatetimeIndex(df_ufc['date']).month\n",
    "df_ufc['Year'] =pd.DatetimeIndex(df_ufc['date']).year"
   ]
  },
  {
   "cell_type": "code",
   "execution_count": 15,
   "id": "bfa5f01e",
   "metadata": {},
   "outputs": [
    {
     "data": {
      "text/html": [
       "<div>\n",
       "<style scoped>\n",
       "    .dataframe tbody tr th:only-of-type {\n",
       "        vertical-align: middle;\n",
       "    }\n",
       "\n",
       "    .dataframe tbody tr th {\n",
       "        vertical-align: top;\n",
       "    }\n",
       "\n",
       "    .dataframe thead th {\n",
       "        text-align: right;\n",
       "    }\n",
       "</style>\n",
       "<table border=\"1\" class=\"dataframe\">\n",
       "  <thead>\n",
       "    <tr style=\"text-align: right;\">\n",
       "      <th></th>\n",
       "      <th>R_fighter</th>\n",
       "      <th>B_fighter</th>\n",
       "      <th>R_KD</th>\n",
       "      <th>B_KD</th>\n",
       "      <th>R_SIG_STR.</th>\n",
       "      <th>B_SIG_STR.</th>\n",
       "      <th>R_SIG_STR_pct</th>\n",
       "      <th>B_SIG_STR_pct</th>\n",
       "      <th>R_TOTAL_STR.</th>\n",
       "      <th>B_TOTAL_STR.</th>\n",
       "      <th>R_TD</th>\n",
       "      <th>B_TD</th>\n",
       "      <th>R_TD_pct</th>\n",
       "      <th>B_TD_pct</th>\n",
       "      <th>R_SUB_ATT</th>\n",
       "      <th>B_SUB_ATT</th>\n",
       "      <th>R_REV</th>\n",
       "      <th>B_REV</th>\n",
       "      <th>R_CTRL</th>\n",
       "      <th>B_CTRL</th>\n",
       "      <th>R_HEAD</th>\n",
       "      <th>B_HEAD</th>\n",
       "      <th>R_BODY</th>\n",
       "      <th>B_BODY</th>\n",
       "      <th>R_LEG</th>\n",
       "      <th>B_LEG</th>\n",
       "      <th>R_DISTANCE</th>\n",
       "      <th>B_DISTANCE</th>\n",
       "      <th>R_CLINCH</th>\n",
       "      <th>B_CLINCH</th>\n",
       "      <th>R_GROUND</th>\n",
       "      <th>B_GROUND</th>\n",
       "      <th>win_by</th>\n",
       "      <th>last_round</th>\n",
       "      <th>last_round_time</th>\n",
       "      <th>Format</th>\n",
       "      <th>Referee</th>\n",
       "      <th>date</th>\n",
       "      <th>location</th>\n",
       "      <th>Fight_type</th>\n",
       "      <th>Winner</th>\n",
       "      <th>Day</th>\n",
       "      <th>Month</th>\n",
       "      <th>Year</th>\n",
       "    </tr>\n",
       "  </thead>\n",
       "  <tbody>\n",
       "    <tr>\n",
       "      <th>0</th>\n",
       "      <td>Adrian Yanez</td>\n",
       "      <td>Gustavo Lopez</td>\n",
       "      <td>2</td>\n",
       "      <td>0</td>\n",
       "      <td>41 of 103</td>\n",
       "      <td>23 of 51</td>\n",
       "      <td>39%</td>\n",
       "      <td>45%</td>\n",
       "      <td>41 of 103</td>\n",
       "      <td>23 of 51</td>\n",
       "      <td>0 of 0</td>\n",
       "      <td>0 of 1</td>\n",
       "      <td>---</td>\n",
       "      <td>0%</td>\n",
       "      <td>0</td>\n",
       "      <td>0</td>\n",
       "      <td>0</td>\n",
       "      <td>0</td>\n",
       "      <td>0:03</td>\n",
       "      <td>0:00</td>\n",
       "      <td>32 of 83</td>\n",
       "      <td>14 of 40</td>\n",
       "      <td>8 of 19</td>\n",
       "      <td>5 of 7</td>\n",
       "      <td>1 of 1</td>\n",
       "      <td>4 of 4</td>\n",
       "      <td>41 of 102</td>\n",
       "      <td>23 of 51</td>\n",
       "      <td>0 of 0</td>\n",
       "      <td>0 of 0</td>\n",
       "      <td>0 of 1</td>\n",
       "      <td>0 of 0</td>\n",
       "      <td>KO/TKO</td>\n",
       "      <td>3</td>\n",
       "      <td>0:27</td>\n",
       "      <td>3 Rnd (5-5-5)</td>\n",
       "      <td>Chris Tognoni</td>\n",
       "      <td>2021-03-20</td>\n",
       "      <td>Las Vegas, Nevada, USA</td>\n",
       "      <td>Bantamweight Bout</td>\n",
       "      <td>Adrian Yanez</td>\n",
       "      <td>20</td>\n",
       "      <td>3</td>\n",
       "      <td>2021</td>\n",
       "    </tr>\n",
       "    <tr>\n",
       "      <th>1</th>\n",
       "      <td>Trevin Giles</td>\n",
       "      <td>Roman Dolidze</td>\n",
       "      <td>0</td>\n",
       "      <td>0</td>\n",
       "      <td>27 of 57</td>\n",
       "      <td>32 of 67</td>\n",
       "      <td>47%</td>\n",
       "      <td>47%</td>\n",
       "      <td>43 of 73</td>\n",
       "      <td>75 of 110</td>\n",
       "      <td>1 of 2</td>\n",
       "      <td>1 of 3</td>\n",
       "      <td>50%</td>\n",
       "      <td>33%</td>\n",
       "      <td>1</td>\n",
       "      <td>2</td>\n",
       "      <td>0</td>\n",
       "      <td>1</td>\n",
       "      <td>1:15</td>\n",
       "      <td>4:15</td>\n",
       "      <td>22 of 51</td>\n",
       "      <td>10 of 37</td>\n",
       "      <td>4 of 4</td>\n",
       "      <td>7 of 14</td>\n",
       "      <td>1 of 2</td>\n",
       "      <td>15 of 16</td>\n",
       "      <td>15 of 42</td>\n",
       "      <td>28 of 59</td>\n",
       "      <td>4 of 5</td>\n",
       "      <td>3 of 6</td>\n",
       "      <td>8 of 10</td>\n",
       "      <td>1 of 2</td>\n",
       "      <td>Decision - Unanimous</td>\n",
       "      <td>3</td>\n",
       "      <td>5:00</td>\n",
       "      <td>3 Rnd (5-5-5)</td>\n",
       "      <td>Herb Dean</td>\n",
       "      <td>2021-03-20</td>\n",
       "      <td>Las Vegas, Nevada, USA</td>\n",
       "      <td>Middleweight Bout</td>\n",
       "      <td>Trevin Giles</td>\n",
       "      <td>20</td>\n",
       "      <td>3</td>\n",
       "      <td>2021</td>\n",
       "    </tr>\n",
       "    <tr>\n",
       "      <th>2</th>\n",
       "      <td>Tai Tuivasa</td>\n",
       "      <td>Harry Hunsucker</td>\n",
       "      <td>1</td>\n",
       "      <td>0</td>\n",
       "      <td>14 of 18</td>\n",
       "      <td>2 of 6</td>\n",
       "      <td>77%</td>\n",
       "      <td>33%</td>\n",
       "      <td>14 of 18</td>\n",
       "      <td>2 of 6</td>\n",
       "      <td>0 of 0</td>\n",
       "      <td>0 of 0</td>\n",
       "      <td>---</td>\n",
       "      <td>---</td>\n",
       "      <td>0</td>\n",
       "      <td>0</td>\n",
       "      <td>0</td>\n",
       "      <td>0</td>\n",
       "      <td>0:10</td>\n",
       "      <td>0:00</td>\n",
       "      <td>10 of 14</td>\n",
       "      <td>1 of 5</td>\n",
       "      <td>0 of 0</td>\n",
       "      <td>0 of 0</td>\n",
       "      <td>4 of 4</td>\n",
       "      <td>1 of 1</td>\n",
       "      <td>9 of 10</td>\n",
       "      <td>2 of 6</td>\n",
       "      <td>0 of 0</td>\n",
       "      <td>0 of 0</td>\n",
       "      <td>5 of 8</td>\n",
       "      <td>0 of 0</td>\n",
       "      <td>KO/TKO</td>\n",
       "      <td>1</td>\n",
       "      <td>0:49</td>\n",
       "      <td>3 Rnd (5-5-5)</td>\n",
       "      <td>Herb Dean</td>\n",
       "      <td>2021-03-20</td>\n",
       "      <td>Las Vegas, Nevada, USA</td>\n",
       "      <td>Heavyweight Bout</td>\n",
       "      <td>Tai Tuivasa</td>\n",
       "      <td>20</td>\n",
       "      <td>3</td>\n",
       "      <td>2021</td>\n",
       "    </tr>\n",
       "    <tr>\n",
       "      <th>3</th>\n",
       "      <td>Cheyanne Buys</td>\n",
       "      <td>Montserrat Conejo</td>\n",
       "      <td>0</td>\n",
       "      <td>0</td>\n",
       "      <td>31 of 65</td>\n",
       "      <td>15 of 41</td>\n",
       "      <td>47%</td>\n",
       "      <td>36%</td>\n",
       "      <td>49 of 87</td>\n",
       "      <td>136 of 168</td>\n",
       "      <td>0 of 0</td>\n",
       "      <td>4 of 5</td>\n",
       "      <td>---</td>\n",
       "      <td>80%</td>\n",
       "      <td>0</td>\n",
       "      <td>2</td>\n",
       "      <td>3</td>\n",
       "      <td>1</td>\n",
       "      <td>1:04</td>\n",
       "      <td>9:53</td>\n",
       "      <td>26 of 60</td>\n",
       "      <td>10 of 35</td>\n",
       "      <td>5 of 5</td>\n",
       "      <td>0 of 1</td>\n",
       "      <td>0 of 0</td>\n",
       "      <td>5 of 5</td>\n",
       "      <td>26 of 56</td>\n",
       "      <td>15 of 41</td>\n",
       "      <td>2 of 2</td>\n",
       "      <td>0 of 0</td>\n",
       "      <td>3 of 7</td>\n",
       "      <td>0 of 0</td>\n",
       "      <td>Decision - Unanimous</td>\n",
       "      <td>3</td>\n",
       "      <td>5:00</td>\n",
       "      <td>3 Rnd (5-5-5)</td>\n",
       "      <td>Mark Smith</td>\n",
       "      <td>2021-03-20</td>\n",
       "      <td>Las Vegas, Nevada, USA</td>\n",
       "      <td>Women's Strawweight Bout</td>\n",
       "      <td>Montserrat Conejo</td>\n",
       "      <td>20</td>\n",
       "      <td>3</td>\n",
       "      <td>2021</td>\n",
       "    </tr>\n",
       "    <tr>\n",
       "      <th>4</th>\n",
       "      <td>Marion Reneau</td>\n",
       "      <td>Macy Chiasson</td>\n",
       "      <td>0</td>\n",
       "      <td>0</td>\n",
       "      <td>30 of 63</td>\n",
       "      <td>51 of 138</td>\n",
       "      <td>47%</td>\n",
       "      <td>36%</td>\n",
       "      <td>59 of 93</td>\n",
       "      <td>92 of 184</td>\n",
       "      <td>2 of 4</td>\n",
       "      <td>1 of 1</td>\n",
       "      <td>50%</td>\n",
       "      <td>100%</td>\n",
       "      <td>0</td>\n",
       "      <td>0</td>\n",
       "      <td>0</td>\n",
       "      <td>1</td>\n",
       "      <td>2:15</td>\n",
       "      <td>3:48</td>\n",
       "      <td>14 of 40</td>\n",
       "      <td>29 of 110</td>\n",
       "      <td>7 of 13</td>\n",
       "      <td>15 of 20</td>\n",
       "      <td>9 of 10</td>\n",
       "      <td>7 of 8</td>\n",
       "      <td>25 of 54</td>\n",
       "      <td>36 of 119</td>\n",
       "      <td>5 of 9</td>\n",
       "      <td>13 of 15</td>\n",
       "      <td>0 of 0</td>\n",
       "      <td>2 of 4</td>\n",
       "      <td>Decision - Unanimous</td>\n",
       "      <td>3</td>\n",
       "      <td>5:00</td>\n",
       "      <td>3 Rnd (5-5-5)</td>\n",
       "      <td>Mark Smith</td>\n",
       "      <td>2021-03-20</td>\n",
       "      <td>Las Vegas, Nevada, USA</td>\n",
       "      <td>Women's Bantamweight Bout</td>\n",
       "      <td>Macy Chiasson</td>\n",
       "      <td>20</td>\n",
       "      <td>3</td>\n",
       "      <td>2021</td>\n",
       "    </tr>\n",
       "  </tbody>\n",
       "</table>\n",
       "</div>"
      ],
      "text/plain": [
       "       R_fighter          B_fighter  R_KD  B_KD R_SIG_STR. B_SIG_STR.  \\\n",
       "0   Adrian Yanez      Gustavo Lopez     2     0  41 of 103   23 of 51   \n",
       "1   Trevin Giles      Roman Dolidze     0     0   27 of 57   32 of 67   \n",
       "2    Tai Tuivasa    Harry Hunsucker     1     0   14 of 18     2 of 6   \n",
       "3  Cheyanne Buys  Montserrat Conejo     0     0   31 of 65   15 of 41   \n",
       "4  Marion Reneau      Macy Chiasson     0     0   30 of 63  51 of 138   \n",
       "\n",
       "  R_SIG_STR_pct B_SIG_STR_pct R_TOTAL_STR. B_TOTAL_STR.    R_TD    B_TD  \\\n",
       "0           39%           45%    41 of 103     23 of 51  0 of 0  0 of 1   \n",
       "1           47%           47%     43 of 73    75 of 110  1 of 2  1 of 3   \n",
       "2           77%           33%     14 of 18       2 of 6  0 of 0  0 of 0   \n",
       "3           47%           36%     49 of 87   136 of 168  0 of 0  4 of 5   \n",
       "4           47%           36%     59 of 93    92 of 184  2 of 4  1 of 1   \n",
       "\n",
       "  R_TD_pct B_TD_pct  R_SUB_ATT  B_SUB_ATT  R_REV  B_REV R_CTRL B_CTRL  \\\n",
       "0      ---       0%          0          0      0      0   0:03   0:00   \n",
       "1      50%      33%          1          2      0      1   1:15   4:15   \n",
       "2      ---      ---          0          0      0      0   0:10   0:00   \n",
       "3      ---      80%          0          2      3      1   1:04   9:53   \n",
       "4      50%     100%          0          0      0      1   2:15   3:48   \n",
       "\n",
       "     R_HEAD     B_HEAD   R_BODY    B_BODY    R_LEG     B_LEG R_DISTANCE  \\\n",
       "0  32 of 83   14 of 40  8 of 19    5 of 7   1 of 1    4 of 4  41 of 102   \n",
       "1  22 of 51   10 of 37   4 of 4   7 of 14   1 of 2  15 of 16   15 of 42   \n",
       "2  10 of 14     1 of 5   0 of 0    0 of 0   4 of 4    1 of 1    9 of 10   \n",
       "3  26 of 60   10 of 35   5 of 5    0 of 1   0 of 0    5 of 5   26 of 56   \n",
       "4  14 of 40  29 of 110  7 of 13  15 of 20  9 of 10    7 of 8   25 of 54   \n",
       "\n",
       "  B_DISTANCE R_CLINCH  B_CLINCH R_GROUND B_GROUND                win_by  \\\n",
       "0   23 of 51   0 of 0    0 of 0   0 of 1   0 of 0                KO/TKO   \n",
       "1   28 of 59   4 of 5    3 of 6  8 of 10   1 of 2  Decision - Unanimous   \n",
       "2     2 of 6   0 of 0    0 of 0   5 of 8   0 of 0                KO/TKO   \n",
       "3   15 of 41   2 of 2    0 of 0   3 of 7   0 of 0  Decision - Unanimous   \n",
       "4  36 of 119   5 of 9  13 of 15   0 of 0   2 of 4  Decision - Unanimous   \n",
       "\n",
       "   last_round last_round_time         Format        Referee       date  \\\n",
       "0           3            0:27  3 Rnd (5-5-5)  Chris Tognoni 2021-03-20   \n",
       "1           3            5:00  3 Rnd (5-5-5)      Herb Dean 2021-03-20   \n",
       "2           1            0:49  3 Rnd (5-5-5)      Herb Dean 2021-03-20   \n",
       "3           3            5:00  3 Rnd (5-5-5)     Mark Smith 2021-03-20   \n",
       "4           3            5:00  3 Rnd (5-5-5)     Mark Smith 2021-03-20   \n",
       "\n",
       "                 location                 Fight_type             Winner  Day  \\\n",
       "0  Las Vegas, Nevada, USA          Bantamweight Bout       Adrian Yanez   20   \n",
       "1  Las Vegas, Nevada, USA          Middleweight Bout       Trevin Giles   20   \n",
       "2  Las Vegas, Nevada, USA           Heavyweight Bout        Tai Tuivasa   20   \n",
       "3  Las Vegas, Nevada, USA   Women's Strawweight Bout  Montserrat Conejo   20   \n",
       "4  Las Vegas, Nevada, USA  Women's Bantamweight Bout      Macy Chiasson   20   \n",
       "\n",
       "   Month  Year  \n",
       "0      3  2021  \n",
       "1      3  2021  \n",
       "2      3  2021  \n",
       "3      3  2021  \n",
       "4      3  2021  "
      ]
     },
     "execution_count": 15,
     "metadata": {},
     "output_type": "execute_result"
    }
   ],
   "source": [
    "df_ufc.head()"
   ]
  },
  {
   "cell_type": "code",
   "execution_count": 16,
   "id": "ba0b77b2",
   "metadata": {},
   "outputs": [
    {
     "data": {
      "text/plain": [
       "Year\n",
       "1994     29\n",
       "1995     34\n",
       "1996     36\n",
       "1997     39\n",
       "1998     21\n",
       "1999     44\n",
       "2000     43\n",
       "2001     40\n",
       "2002     53\n",
       "2003     41\n",
       "2004     39\n",
       "2005     80\n",
       "2006    158\n",
       "2007    171\n",
       "2008    201\n",
       "2009    215\n",
       "2010    253\n",
       "2011    300\n",
       "2012    341\n",
       "2013    386\n",
       "2014    503\n",
       "2015    473\n",
       "2016    493\n",
       "2017    457\n",
       "2018    474\n",
       "2019    516\n",
       "2020    456\n",
       "2021    116\n",
       "Name: count, dtype: int64"
      ]
     },
     "execution_count": 16,
     "metadata": {},
     "output_type": "execute_result"
    }
   ],
   "source": [
    "#Looking at count of year\n",
    "df_ufc['Year'].value_counts(dropna = False).sort_index()"
   ]
  },
  {
   "cell_type": "code",
   "execution_count": 17,
   "id": "e7e801b9",
   "metadata": {},
   "outputs": [],
   "source": [
    "#Creating subset of wins by KO/TKO\n",
    "df_ko = df_ufc[df_ufc['win_by'] == 'KO/TKO']"
   ]
  },
  {
   "cell_type": "code",
   "execution_count": 18,
   "id": "7d4f1d61",
   "metadata": {},
   "outputs": [
    {
     "data": {
      "text/plain": [
       "(1905, 44)"
      ]
     },
     "execution_count": 18,
     "metadata": {},
     "output_type": "execute_result"
    }
   ],
   "source": [
    "df_ko.shape"
   ]
  },
  {
   "cell_type": "code",
   "execution_count": 19,
   "id": "f14ed9be",
   "metadata": {},
   "outputs": [
    {
     "data": {
      "text/plain": [
       "Year\n",
       "1994     10\n",
       "1995     10\n",
       "1996     19\n",
       "1997     12\n",
       "1998      7\n",
       "1999     21\n",
       "2000     12\n",
       "2001     17\n",
       "2002     26\n",
       "2003     16\n",
       "2004     16\n",
       "2005     32\n",
       "2006     56\n",
       "2007     51\n",
       "2008     86\n",
       "2009     71\n",
       "2010     65\n",
       "2011     92\n",
       "2012    101\n",
       "2013    126\n",
       "2014    147\n",
       "2015    149\n",
       "2016    151\n",
       "2017    143\n",
       "2018    149\n",
       "2019    148\n",
       "2020    134\n",
       "2021     38\n",
       "Name: count, dtype: int64"
      ]
     },
     "execution_count": 19,
     "metadata": {},
     "output_type": "execute_result"
    }
   ],
   "source": [
    "#Count of wins by KO/TKO by year\n",
    "df_ko['Year'].value_counts(dropna = False).sort_index()"
   ]
  },
  {
   "cell_type": "markdown",
   "id": "14e22138",
   "metadata": {},
   "source": [
    "### UFC started in 1993, so it makes sense that there aren't that many matches per year. In 2001 ownership and structure changed, but the amount of fights didn't take off until 2006. Knockouts do seem somewhat related to the number of matches, which would make sense. More matches equals more chances to get a knockout. \n",
    "### Data from 2021 is also not complete, because our data runs up to March of that year.\n",
    "###  What might be better is to use number of fights for the time-series analysis. That way it isn't tied to another variable in the data, the way knockout victories might be tied to number of matches.\n",
    "### The data will need to be smoothed as well. I'm thinking that grouping the fights by quarter will help with this.\n",
    "### I will make a subset of the data with the date and count of fights. Then export it to Excel to perform a quarterly moving average. I will focus on data from 2006-2020, removing the older data and those from 2021 that don't have the full year. These earlier years are also influenced by the factor that it's the beginning of UFC."
   ]
  },
  {
   "cell_type": "markdown",
   "id": "14aa557a",
   "metadata": {},
   "source": [
    "### Subsetting:"
   ]
  },
  {
   "cell_type": "code",
   "execution_count": 20,
   "id": "12496481",
   "metadata": {},
   "outputs": [],
   "source": [
    "#Creating subset of date, day, month, and year"
   ]
  },
  {
   "cell_type": "code",
   "execution_count": 21,
   "id": "e046a6bb",
   "metadata": {},
   "outputs": [],
   "source": [
    "df_date = df_ufc.filter(['date', 'Day', 'Month', 'Year'], axis = 1)"
   ]
  },
  {
   "cell_type": "code",
   "execution_count": 22,
   "id": "66e770de",
   "metadata": {},
   "outputs": [
    {
     "data": {
      "text/html": [
       "<div>\n",
       "<style scoped>\n",
       "    .dataframe tbody tr th:only-of-type {\n",
       "        vertical-align: middle;\n",
       "    }\n",
       "\n",
       "    .dataframe tbody tr th {\n",
       "        vertical-align: top;\n",
       "    }\n",
       "\n",
       "    .dataframe thead th {\n",
       "        text-align: right;\n",
       "    }\n",
       "</style>\n",
       "<table border=\"1\" class=\"dataframe\">\n",
       "  <thead>\n",
       "    <tr style=\"text-align: right;\">\n",
       "      <th></th>\n",
       "      <th>date</th>\n",
       "      <th>Day</th>\n",
       "      <th>Month</th>\n",
       "      <th>Year</th>\n",
       "    </tr>\n",
       "  </thead>\n",
       "  <tbody>\n",
       "    <tr>\n",
       "      <th>0</th>\n",
       "      <td>2021-03-20</td>\n",
       "      <td>20</td>\n",
       "      <td>3</td>\n",
       "      <td>2021</td>\n",
       "    </tr>\n",
       "    <tr>\n",
       "      <th>1</th>\n",
       "      <td>2021-03-20</td>\n",
       "      <td>20</td>\n",
       "      <td>3</td>\n",
       "      <td>2021</td>\n",
       "    </tr>\n",
       "    <tr>\n",
       "      <th>2</th>\n",
       "      <td>2021-03-20</td>\n",
       "      <td>20</td>\n",
       "      <td>3</td>\n",
       "      <td>2021</td>\n",
       "    </tr>\n",
       "    <tr>\n",
       "      <th>3</th>\n",
       "      <td>2021-03-20</td>\n",
       "      <td>20</td>\n",
       "      <td>3</td>\n",
       "      <td>2021</td>\n",
       "    </tr>\n",
       "    <tr>\n",
       "      <th>4</th>\n",
       "      <td>2021-03-20</td>\n",
       "      <td>20</td>\n",
       "      <td>3</td>\n",
       "      <td>2021</td>\n",
       "    </tr>\n",
       "  </tbody>\n",
       "</table>\n",
       "</div>"
      ],
      "text/plain": [
       "        date  Day  Month  Year\n",
       "0 2021-03-20   20      3  2021\n",
       "1 2021-03-20   20      3  2021\n",
       "2 2021-03-20   20      3  2021\n",
       "3 2021-03-20   20      3  2021\n",
       "4 2021-03-20   20      3  2021"
      ]
     },
     "execution_count": 22,
     "metadata": {},
     "output_type": "execute_result"
    }
   ],
   "source": [
    "#Checking subset\n",
    "df_date.head()"
   ]
  },
  {
   "cell_type": "code",
   "execution_count": 23,
   "id": "42249946",
   "metadata": {},
   "outputs": [
    {
     "data": {
      "text/plain": [
       "(6012, 4)"
      ]
     },
     "execution_count": 23,
     "metadata": {},
     "output_type": "execute_result"
    }
   ],
   "source": [
    "df_date.shape"
   ]
  },
  {
   "cell_type": "code",
   "execution_count": 24,
   "id": "995e737c",
   "metadata": {},
   "outputs": [],
   "source": [
    "#Creating new subset with matches before 2006 or after 2020\n",
    "df_date2 = df_date.loc[(df_date['Year'] >= 2006) & (df_date['Year'] < 2021)]"
   ]
  },
  {
   "cell_type": "code",
   "execution_count": 25,
   "id": "d2c19229",
   "metadata": {},
   "outputs": [
    {
     "data": {
      "text/html": [
       "<div>\n",
       "<style scoped>\n",
       "    .dataframe tbody tr th:only-of-type {\n",
       "        vertical-align: middle;\n",
       "    }\n",
       "\n",
       "    .dataframe tbody tr th {\n",
       "        vertical-align: top;\n",
       "    }\n",
       "\n",
       "    .dataframe thead th {\n",
       "        text-align: right;\n",
       "    }\n",
       "</style>\n",
       "<table border=\"1\" class=\"dataframe\">\n",
       "  <thead>\n",
       "    <tr style=\"text-align: right;\">\n",
       "      <th></th>\n",
       "      <th>date</th>\n",
       "      <th>Day</th>\n",
       "      <th>Month</th>\n",
       "      <th>Year</th>\n",
       "    </tr>\n",
       "  </thead>\n",
       "  <tbody>\n",
       "    <tr>\n",
       "      <th>116</th>\n",
       "      <td>2020-12-19</td>\n",
       "      <td>19</td>\n",
       "      <td>12</td>\n",
       "      <td>2020</td>\n",
       "    </tr>\n",
       "    <tr>\n",
       "      <th>117</th>\n",
       "      <td>2020-12-19</td>\n",
       "      <td>19</td>\n",
       "      <td>12</td>\n",
       "      <td>2020</td>\n",
       "    </tr>\n",
       "    <tr>\n",
       "      <th>118</th>\n",
       "      <td>2020-12-19</td>\n",
       "      <td>19</td>\n",
       "      <td>12</td>\n",
       "      <td>2020</td>\n",
       "    </tr>\n",
       "    <tr>\n",
       "      <th>119</th>\n",
       "      <td>2020-12-19</td>\n",
       "      <td>19</td>\n",
       "      <td>12</td>\n",
       "      <td>2020</td>\n",
       "    </tr>\n",
       "    <tr>\n",
       "      <th>120</th>\n",
       "      <td>2020-12-19</td>\n",
       "      <td>19</td>\n",
       "      <td>12</td>\n",
       "      <td>2020</td>\n",
       "    </tr>\n",
       "  </tbody>\n",
       "</table>\n",
       "</div>"
      ],
      "text/plain": [
       "          date  Day  Month  Year\n",
       "116 2020-12-19   19     12  2020\n",
       "117 2020-12-19   19     12  2020\n",
       "118 2020-12-19   19     12  2020\n",
       "119 2020-12-19   19     12  2020\n",
       "120 2020-12-19   19     12  2020"
      ]
     },
     "execution_count": 25,
     "metadata": {},
     "output_type": "execute_result"
    }
   ],
   "source": [
    "#Checking new subset\n",
    "df_date2.head()"
   ]
  },
  {
   "cell_type": "code",
   "execution_count": 26,
   "id": "c81e7f82",
   "metadata": {},
   "outputs": [
    {
     "data": {
      "text/plain": [
       "(5397, 4)"
      ]
     },
     "execution_count": 26,
     "metadata": {},
     "output_type": "execute_result"
    }
   ],
   "source": [
    "df_date2.shape"
   ]
  },
  {
   "cell_type": "code",
   "execution_count": 27,
   "id": "eed0eefc",
   "metadata": {},
   "outputs": [
    {
     "data": {
      "text/plain": [
       "date        Day  Month  Year\n",
       "2006-01-16  16   1      2006     8\n",
       "2006-02-04  4    2      2006     9\n",
       "2006-03-04  4    3      2006     8\n",
       "2006-04-06  6    4      2006     9\n",
       "2006-04-15  15   4      2006     9\n",
       "                                ..\n",
       "2020-11-21  21   11     2020    12\n",
       "2020-11-28  28   11     2020    10\n",
       "2020-12-05  5    12     2020     8\n",
       "2020-12-12  12   12     2020    10\n",
       "2020-12-19  19   12     2020    12\n",
       "Name: count, Length: 476, dtype: int64"
      ]
     },
     "execution_count": 27,
     "metadata": {},
     "output_type": "execute_result"
    }
   ],
   "source": [
    "#Creating object with counts of matches per date\n",
    "date_count = df_date2.value_counts(dropna = False).sort_index()\n",
    "date_count"
   ]
  },
  {
   "cell_type": "code",
   "execution_count": 28,
   "id": "f3edca8b",
   "metadata": {},
   "outputs": [],
   "source": [
    "#Exporting object with counts of matches per date\n",
    "date_count.to_csv(os.path.join(path, '02_Data', 'Prepared_Data', 'time_series_sub.csv'))"
   ]
  },
  {
   "cell_type": "code",
   "execution_count": 29,
   "id": "d2d718e8",
   "metadata": {},
   "outputs": [],
   "source": [
    "#Importing quarterly moving average data\n",
    "df_qt = pd.read_csv(os.path.join(path, '02_Data', 'Prepared_Data', 'time_series_sub_clean.csv'), index_col=False)"
   ]
  },
  {
   "cell_type": "code",
   "execution_count": 30,
   "id": "345d05da",
   "metadata": {},
   "outputs": [
    {
     "data": {
      "text/html": [
       "<div>\n",
       "<style scoped>\n",
       "    .dataframe tbody tr th:only-of-type {\n",
       "        vertical-align: middle;\n",
       "    }\n",
       "\n",
       "    .dataframe tbody tr th {\n",
       "        vertical-align: top;\n",
       "    }\n",
       "\n",
       "    .dataframe thead th {\n",
       "        text-align: right;\n",
       "    }\n",
       "</style>\n",
       "<table border=\"1\" class=\"dataframe\">\n",
       "  <thead>\n",
       "    <tr style=\"text-align: right;\">\n",
       "      <th></th>\n",
       "      <th>Date</th>\n",
       "      <th>Average</th>\n",
       "    </tr>\n",
       "  </thead>\n",
       "  <tbody>\n",
       "    <tr>\n",
       "      <th>0</th>\n",
       "      <td>1/1/2006</td>\n",
       "      <td>8.333333</td>\n",
       "    </tr>\n",
       "    <tr>\n",
       "      <th>1</th>\n",
       "      <td>4/1/2006</td>\n",
       "      <td>9.000000</td>\n",
       "    </tr>\n",
       "    <tr>\n",
       "      <th>2</th>\n",
       "      <td>7/1/2006</td>\n",
       "      <td>9.000000</td>\n",
       "    </tr>\n",
       "    <tr>\n",
       "      <th>3</th>\n",
       "      <td>10/1/2006</td>\n",
       "      <td>8.666667</td>\n",
       "    </tr>\n",
       "    <tr>\n",
       "      <th>4</th>\n",
       "      <td>1/1/2007</td>\n",
       "      <td>8.666667</td>\n",
       "    </tr>\n",
       "  </tbody>\n",
       "</table>\n",
       "</div>"
      ],
      "text/plain": [
       "        Date   Average\n",
       "0   1/1/2006  8.333333\n",
       "1   4/1/2006  9.000000\n",
       "2   7/1/2006  9.000000\n",
       "3  10/1/2006  8.666667\n",
       "4   1/1/2007  8.666667"
      ]
     },
     "execution_count": 30,
     "metadata": {},
     "output_type": "execute_result"
    }
   ],
   "source": [
    "#Checking import\n",
    "df_qt.head()"
   ]
  },
  {
   "cell_type": "code",
   "execution_count": 31,
   "id": "a27dfe22",
   "metadata": {},
   "outputs": [
    {
     "data": {
      "text/plain": [
       "(60, 2)"
      ]
     },
     "execution_count": 31,
     "metadata": {},
     "output_type": "execute_result"
    }
   ],
   "source": [
    "df_qt.shape"
   ]
  },
  {
   "cell_type": "code",
   "execution_count": 32,
   "id": "c9577ca0",
   "metadata": {},
   "outputs": [
    {
     "data": {
      "text/html": [
       "<div>\n",
       "<style scoped>\n",
       "    .dataframe tbody tr th:only-of-type {\n",
       "        vertical-align: middle;\n",
       "    }\n",
       "\n",
       "    .dataframe tbody tr th {\n",
       "        vertical-align: top;\n",
       "    }\n",
       "\n",
       "    .dataframe thead th {\n",
       "        text-align: right;\n",
       "    }\n",
       "</style>\n",
       "<table border=\"1\" class=\"dataframe\">\n",
       "  <thead>\n",
       "    <tr style=\"text-align: right;\">\n",
       "      <th></th>\n",
       "      <th>Average</th>\n",
       "    </tr>\n",
       "    <tr>\n",
       "      <th>datetime</th>\n",
       "      <th></th>\n",
       "    </tr>\n",
       "  </thead>\n",
       "  <tbody>\n",
       "    <tr>\n",
       "      <th>2006-01-01</th>\n",
       "      <td>8.333333</td>\n",
       "    </tr>\n",
       "    <tr>\n",
       "      <th>2006-04-01</th>\n",
       "      <td>9.000000</td>\n",
       "    </tr>\n",
       "    <tr>\n",
       "      <th>2006-07-01</th>\n",
       "      <td>9.000000</td>\n",
       "    </tr>\n",
       "    <tr>\n",
       "      <th>2006-10-01</th>\n",
       "      <td>8.666667</td>\n",
       "    </tr>\n",
       "    <tr>\n",
       "      <th>2007-01-01</th>\n",
       "      <td>8.666667</td>\n",
       "    </tr>\n",
       "  </tbody>\n",
       "</table>\n",
       "</div>"
      ],
      "text/plain": [
       "             Average\n",
       "datetime            \n",
       "2006-01-01  8.333333\n",
       "2006-04-01  9.000000\n",
       "2006-07-01  9.000000\n",
       "2006-10-01  8.666667\n",
       "2007-01-01  8.666667"
      ]
     },
     "execution_count": 32,
     "metadata": {},
     "output_type": "execute_result"
    }
   ],
   "source": [
    "#Changing date to datetime format and setting it as the index\n",
    "df_qt['datetime'] = pd.to_datetime(df_qt['Date'])\n",
    "df_qt = df_qt.set_index('datetime')\n",
    "df_qt.drop(['Date'], axis=1, inplace=True)\n",
    "df_qt.head()"
   ]
  },
  {
   "cell_type": "code",
   "execution_count": 33,
   "id": "742c5c55",
   "metadata": {},
   "outputs": [
    {
     "data": {
      "text/plain": [
       "[<matplotlib.lines.Line2D at 0x270a6f1e450>]"
      ]
     },
     "execution_count": 33,
     "metadata": {},
     "output_type": "execute_result"
    },
    {
     "data": {
      "image/png": "[encoded data removed]",
      "text/plain": [
       "<Figure size 1500x500 with 1 Axes>"
      ]
     },
     "metadata": {},
     "output_type": "display_data"
    }
   ],
   "source": [
    "#Ploting data in line chart\n",
    "plt.figure(figsize=(15,5), dpi=100)\n",
    "plt.plot(df_qt)"
   ]
  },
  {
   "cell_type": "code",
   "execution_count": 34,
   "id": "b5f25f61",
   "metadata": {},
   "outputs": [
    {
     "data": {
      "text/html": [
       "<div>\n",
       "<style scoped>\n",
       "    .dataframe tbody tr th:only-of-type {\n",
       "        vertical-align: middle;\n",
       "    }\n",
       "\n",
       "    .dataframe tbody tr th {\n",
       "        vertical-align: top;\n",
       "    }\n",
       "\n",
       "    .dataframe thead th {\n",
       "        text-align: right;\n",
       "    }\n",
       "</style>\n",
       "<table border=\"1\" class=\"dataframe\">\n",
       "  <thead>\n",
       "    <tr style=\"text-align: right;\">\n",
       "      <th></th>\n",
       "      <th>Average</th>\n",
       "    </tr>\n",
       "    <tr>\n",
       "      <th>datetime</th>\n",
       "      <th></th>\n",
       "    </tr>\n",
       "  </thead>\n",
       "  <tbody>\n",
       "    <tr>\n",
       "      <th>2006-07-01</th>\n",
       "      <td>9.000000</td>\n",
       "    </tr>\n",
       "    <tr>\n",
       "      <th>2007-01-01</th>\n",
       "      <td>8.666667</td>\n",
       "    </tr>\n",
       "    <tr>\n",
       "      <th>2007-04-01</th>\n",
       "      <td>9.000000</td>\n",
       "    </tr>\n",
       "    <tr>\n",
       "      <th>2007-07-01</th>\n",
       "      <td>9.000000</td>\n",
       "    </tr>\n",
       "    <tr>\n",
       "      <th>2008-01-01</th>\n",
       "      <td>9.250000</td>\n",
       "    </tr>\n",
       "    <tr>\n",
       "      <th>2009-01-01</th>\n",
       "      <td>10.000000</td>\n",
       "    </tr>\n",
       "    <tr>\n",
       "      <th>2009-07-01</th>\n",
       "      <td>11.200000</td>\n",
       "    </tr>\n",
       "    <tr>\n",
       "      <th>2010-04-01</th>\n",
       "      <td>10.600000</td>\n",
       "    </tr>\n",
       "    <tr>\n",
       "      <th>2011-04-01</th>\n",
       "      <td>11.200000</td>\n",
       "    </tr>\n",
       "    <tr>\n",
       "      <th>2011-10-01</th>\n",
       "      <td>10.666667</td>\n",
       "    </tr>\n",
       "    <tr>\n",
       "      <th>2012-01-01</th>\n",
       "      <td>10.428571</td>\n",
       "    </tr>\n",
       "    <tr>\n",
       "      <th>2013-01-01</th>\n",
       "      <td>11.428571</td>\n",
       "    </tr>\n",
       "    <tr>\n",
       "      <th>2013-07-01</th>\n",
       "      <td>12.000000</td>\n",
       "    </tr>\n",
       "    <tr>\n",
       "      <th>2014-07-01</th>\n",
       "      <td>11.333333</td>\n",
       "    </tr>\n",
       "    <tr>\n",
       "      <th>2015-01-01</th>\n",
       "      <td>11.333333</td>\n",
       "    </tr>\n",
       "    <tr>\n",
       "      <th>2017-07-01</th>\n",
       "      <td>11.400000</td>\n",
       "    </tr>\n",
       "    <tr>\n",
       "      <th>2019-01-01</th>\n",
       "      <td>12.400000</td>\n",
       "    </tr>\n",
       "    <tr>\n",
       "      <th>2019-10-01</th>\n",
       "      <td>12.400000</td>\n",
       "    </tr>\n",
       "    <tr>\n",
       "      <th>2020-04-01</th>\n",
       "      <td>10.875000</td>\n",
       "    </tr>\n",
       "  </tbody>\n",
       "</table>\n",
       "</div>"
      ],
      "text/plain": [
       "              Average\n",
       "datetime             \n",
       "2006-07-01   9.000000\n",
       "2007-01-01   8.666667\n",
       "2007-04-01   9.000000\n",
       "2007-07-01   9.000000\n",
       "2008-01-01   9.250000\n",
       "2009-01-01  10.000000\n",
       "2009-07-01  11.200000\n",
       "2010-04-01  10.600000\n",
       "2011-04-01  11.200000\n",
       "2011-10-01  10.666667\n",
       "2012-01-01  10.428571\n",
       "2013-01-01  11.428571\n",
       "2013-07-01  12.000000\n",
       "2014-07-01  11.333333\n",
       "2015-01-01  11.333333\n",
       "2017-07-01  11.400000\n",
       "2019-01-01  12.400000\n",
       "2019-10-01  12.400000\n",
       "2020-04-01  10.875000"
      ]
     },
     "execution_count": 34,
     "metadata": {},
     "output_type": "execute_result"
    }
   ],
   "source": [
    "#Checking for duplicates\n",
    "qt_dup = df_qt[df_qt.duplicated()]\n",
    "qt_dup"
   ]
  },
  {
   "cell_type": "markdown",
   "id": "fdb1c6d1",
   "metadata": {},
   "source": [
    "### These values are showing as duplicates. While some of the average values are the same, they are for different dates. I will leave these."
   ]
  },
  {
   "cell_type": "code",
   "execution_count": 35,
   "id": "12a3f75c",
   "metadata": {},
   "outputs": [
    {
     "data": {
      "text/plain": [
       "Average    0\n",
       "dtype: int64"
      ]
     },
     "execution_count": 35,
     "metadata": {},
     "output_type": "execute_result"
    }
   ],
   "source": [
    "#Check for missing values\n",
    "df_qt.isnull().sum() "
   ]
  },
  {
   "cell_type": "markdown",
   "id": "1bfac5a1",
   "metadata": {},
   "source": [
    "### There are no missing values."
   ]
  },
  {
   "cell_type": "markdown",
   "id": "e01edcde",
   "metadata": {},
   "source": [
    "## 04. Decomposition"
   ]
  },
  {
   "cell_type": "code",
   "execution_count": 36,
   "id": "16618310",
   "metadata": {},
   "outputs": [],
   "source": [
    "#Using an additive model\n",
    "decomposition = sm.tsa.seasonal_decompose(df_qt, model='additive')"
   ]
  },
  {
   "cell_type": "code",
   "execution_count": 37,
   "id": "68351ad9",
   "metadata": {},
   "outputs": [],
   "source": [
    "#Fixing size of special charts\n",
    "from pylab import rcParams\n",
    "\n",
    "rcParams['figure.figsize'] = 18, 7"
   ]
  },
  {
   "cell_type": "code",
   "execution_count": 38,
   "id": "0413c20c",
   "metadata": {},
   "outputs": [
    {
     "data": {
      "image/png": "[encoded data removed]",
      "text/plain": [
       "<Figure size 1800x700 with 4 Axes>"
      ]
     },
     "metadata": {},
     "output_type": "display_data"
    }
   ],
   "source": [
    "# Visualizing components after decomposition\n",
    "decomposition.plot()\n",
    "plt.show()"
   ]
  },
  {
   "cell_type": "markdown",
   "id": "b53a4849",
   "metadata": {},
   "source": [
    "### It seems like there's still a lot of noise even after the quarterly averaging. I could try to make yearly averages, but then we wouldn't have that many data points. I will try to continue the exercise with this though.\n",
    "### From this, the data does not appear to be stationary. It seems to have a trend and even some seasonality."
   ]
  },
  {
   "cell_type": "markdown",
   "id": "87c7ada9",
   "metadata": {},
   "source": [
    "## 05. Initial Stationarity Test"
   ]
  },
  {
   "cell_type": "markdown",
   "id": "bb2e53ee",
   "metadata": {},
   "source": [
    "### Null Hypothesis: There is a unit root in the data.\n",
    "### Alternative Hypothesis: There is no unit root in the data."
   ]
  },
  {
   "cell_type": "code",
   "execution_count": 39,
   "id": "a43e6261",
   "metadata": {},
   "outputs": [
    {
     "name": "stdout",
     "output_type": "stream",
     "text": [
      "Dickey-Fuller Stationarity test:\n",
      "Test Statistic                 -2.299893\n",
      "p-value                         0.172002\n",
      "Number of Lags Used             1.000000\n",
      "Number of Observations Used    58.000000\n",
      "Critical Value (1%)            -3.548494\n",
      "Critical Value (5%)            -2.912837\n",
      "Critical Value (10%)           -2.594129\n",
      "dtype: float64\n"
     ]
    }
   ],
   "source": [
    "#Running Dickey-Fuller test\n",
    "\n",
    "from statsmodels.tsa.stattools import adfuller\n",
    "\n",
    "def dickey_fuller(timeseries):\n",
    "    print ('Dickey-Fuller Stationarity test:')\n",
    "    test = adfuller(timeseries, autolag='AIC')\n",
    "    result = pd.Series(test[0:4], index=['Test Statistic','p-value','Number of Lags Used','Number of Observations Used'])\n",
    "    for key,value in test[4].items():\n",
    "       result['Critical Value (%s)'%key] = value\n",
    "    print (result)\n",
    "\n",
    "dickey_fuller(df_qt['Average'])"
   ]
  },
  {
   "cell_type": "markdown",
   "id": "8e394045",
   "metadata": {},
   "source": [
    "### The p-value is greater than 0.05. TheTest Statistic is also largeer than the 5% Critical Value, -2.299893 compared to -2.912837. "
   ]
  },
  {
   "cell_type": "markdown",
   "id": "86b57a43",
   "metadata": {},
   "source": [
    "## 06. Stationarizing Data"
   ]
  },
  {
   "cell_type": "code",
   "execution_count": 40,
   "id": "f34dca59",
   "metadata": {},
   "outputs": [],
   "source": [
    "#Using differencing to make data stationary\n",
    "diff = df_qt - df_qt.shift(1)"
   ]
  },
  {
   "cell_type": "code",
   "execution_count": 41,
   "id": "65f3e8a9",
   "metadata": {},
   "outputs": [],
   "source": [
    "#Removing missing values\n",
    "diff.dropna(inplace = True)"
   ]
  },
  {
   "cell_type": "code",
   "execution_count": 42,
   "id": "974b1338",
   "metadata": {},
   "outputs": [
    {
     "data": {
      "text/html": [
       "<div>\n",
       "<style scoped>\n",
       "    .dataframe tbody tr th:only-of-type {\n",
       "        vertical-align: middle;\n",
       "    }\n",
       "\n",
       "    .dataframe tbody tr th {\n",
       "        vertical-align: top;\n",
       "    }\n",
       "\n",
       "    .dataframe thead th {\n",
       "        text-align: right;\n",
       "    }\n",
       "</style>\n",
       "<table border=\"1\" class=\"dataframe\">\n",
       "  <thead>\n",
       "    <tr style=\"text-align: right;\">\n",
       "      <th></th>\n",
       "      <th>Average</th>\n",
       "    </tr>\n",
       "    <tr>\n",
       "      <th>datetime</th>\n",
       "      <th></th>\n",
       "    </tr>\n",
       "  </thead>\n",
       "  <tbody>\n",
       "    <tr>\n",
       "      <th>2006-04-01</th>\n",
       "      <td>0.666667</td>\n",
       "    </tr>\n",
       "    <tr>\n",
       "      <th>2006-07-01</th>\n",
       "      <td>0.000000</td>\n",
       "    </tr>\n",
       "    <tr>\n",
       "      <th>2006-10-01</th>\n",
       "      <td>-0.333333</td>\n",
       "    </tr>\n",
       "    <tr>\n",
       "      <th>2007-01-01</th>\n",
       "      <td>0.000000</td>\n",
       "    </tr>\n",
       "    <tr>\n",
       "      <th>2007-04-01</th>\n",
       "      <td>0.333333</td>\n",
       "    </tr>\n",
       "  </tbody>\n",
       "</table>\n",
       "</div>"
      ],
      "text/plain": [
       "             Average\n",
       "datetime            \n",
       "2006-04-01  0.666667\n",
       "2006-07-01  0.000000\n",
       "2006-10-01 -0.333333\n",
       "2007-01-01  0.000000\n",
       "2007-04-01  0.333333"
      ]
     },
     "execution_count": 42,
     "metadata": {},
     "output_type": "execute_result"
    }
   ],
   "source": [
    "diff.head()"
   ]
  },
  {
   "cell_type": "code",
   "execution_count": 43,
   "id": "68c33bb3",
   "metadata": {},
   "outputs": [
    {
     "data": {
      "text/plain": [
       "Index(['Average'], dtype='object')"
      ]
     },
     "execution_count": 43,
     "metadata": {},
     "output_type": "execute_result"
    }
   ],
   "source": [
    "diff.columns"
   ]
  },
  {
   "cell_type": "code",
   "execution_count": 44,
   "id": "7f8e4129",
   "metadata": {},
   "outputs": [
    {
     "data": {
      "text/plain": [
       "[<matplotlib.lines.Line2D at 0x270a7133b90>]"
      ]
     },
     "execution_count": 44,
     "metadata": {},
     "output_type": "execute_result"
    },
    {
     "data": {
      "image/png": "[encoded data removed]",
      "text/plain": [
       "<Figure size 1500x500 with 1 Axes>"
      ]
     },
     "metadata": {},
     "output_type": "display_data"
    }
   ],
   "source": [
    "#Plotting new data after differencing\n",
    "plt.figure(figsize=(15,5), dpi=100)\n",
    "plt.plot(diff)"
   ]
  },
  {
   "cell_type": "code",
   "execution_count": 45,
   "id": "5ad78d91",
   "metadata": {},
   "outputs": [
    {
     "name": "stdout",
     "output_type": "stream",
     "text": [
      "Dickey-Fuller Stationarity test:\n",
      "Test Statistic                -1.398656e+01\n",
      "p-value                        4.087355e-26\n",
      "Number of Lags Used            0.000000e+00\n",
      "Number of Observations Used    5.800000e+01\n",
      "Critical Value (1%)           -3.548494e+00\n",
      "Critical Value (5%)           -2.912837e+00\n",
      "Critical Value (10%)          -2.594129e+00\n",
      "dtype: float64\n"
     ]
    }
   ],
   "source": [
    "#Running Dickey-Fuller test\n",
    "dickey_fuller(diff)"
   ]
  },
  {
   "cell_type": "markdown",
   "id": "bf6f6a06",
   "metadata": {},
   "source": [
    "### The p-value is now less than 0.05, being at 4.08 with a negative notation of 26. The Test Statistc of -13.98656 (-1.398656 with one notation) would also be smaller than the 5% Critical Value of -2.912837."
   ]
  },
  {
   "cell_type": "markdown",
   "id": "e9d695c5",
   "metadata": {},
   "source": [
    "## 07. Checking Autocorrelations"
   ]
  },
  {
   "cell_type": "code",
   "execution_count": 46,
   "id": "bdeaaf11",
   "metadata": {},
   "outputs": [
    {
     "data": {
      "image/png": "[encoded data removed]",
      "text/plain": [
       "<Figure size 1800x700 with 1 Axes>"
      ]
     },
     "metadata": {},
     "output_type": "display_data"
    }
   ],
   "source": [
    "#Plot of autocorrelations\n",
    "from statsmodels.graphics.tsaplots import plot_acf, plot_pacf\n",
    "\n",
    "plot_acf(diff)\n",
    "plt.show()"
   ]
  },
  {
   "cell_type": "markdown",
   "id": "4d5352f2",
   "metadata": {},
   "source": [
    "### After the differencing, there appears to be two points outside of the blue area. I did not check the autocorrelation of the data before the differencing, so I will plot that now."
   ]
  },
  {
   "cell_type": "code",
   "execution_count": 47,
   "id": "2327662d",
   "metadata": {},
   "outputs": [
    {
     "data": {
      "image/png": "[encoded data removed]",
      "text/plain": [
       "<Figure size 1800x700 with 1 Axes>"
      ]
     },
     "metadata": {},
     "output_type": "display_data"
    }
   ],
   "source": [
    "plot_acf(df_qt)\n",
    "plt.show()"
   ]
  },
  {
   "cell_type": "markdown",
   "id": "44367797",
   "metadata": {},
   "source": [
    "### There were 5 points outside of the blue area of confidence in the data before the differencing. "
   ]
  }
 ],
 "metadata": {
  "kernelspec": {
   "display_name": "Python 3 (ipykernel)",
   "language": "python",
   "name": "python3"
  },
  "language_info": {
   "codemirror_mode": {
    "name": "ipython",
    "version": 3
   },
   "file_extension": ".py",
   "mimetype": "text/x-python",
   "name": "python",
   "nbconvert_exporter": "python",
   "pygments_lexer": "ipython3",
   "version": "3.11.5"
  }
 },
 "nbformat": 4,
 "nbformat_minor": 5
}
