{
 "cells": [
  {
   "cell_type": "markdown",
   "id": "f09002a1",
   "metadata": {},
   "source": [
    "# UFC Cleaning & Consistency Checks"
   ]
  },
  {
   "cell_type": "markdown",
   "id": "06635c1c",
   "metadata": {},
   "source": [
    "## List of Contents:\n",
    "## 01. Importing Libraries\n",
    "## 02. Importing Data\n",
    "## 03. Mixed-Type Data Check\n",
    "## 04. Missing Values Check\n",
    "## 05. Duplicates Check\n",
    "## 06. Export\n",
    "\n",
    "\n",
    "## --"
   ]
  },
  {
   "cell_type": "markdown",
   "id": "75a8e066",
   "metadata": {},
   "source": [
    "## 01. Importing Libraries"
   ]
  },
  {
   "cell_type": "code",
   "execution_count": 1,
   "id": "e4ad05ba",
   "metadata": {},
   "outputs": [],
   "source": [
    "#Importing Libraries\n",
    "import pandas as pd\n",
    "import numpy as np\n",
    "import os"
   ]
  },
  {
   "cell_type": "markdown",
   "id": "d459d16c",
   "metadata": {},
   "source": [
    "## 02. Importing Data"
   ]
  },
  {
   "cell_type": "code",
   "execution_count": 2,
   "id": "a0ac344f",
   "metadata": {},
   "outputs": [],
   "source": [
    "#Creating path for os import\n",
    "path = r'C:\\Users\\Mosspants\\Desktop\\CareerFoundry\\A6_Advanced Analytics & Dashboard Design\\UFC_Project\\02_Data'"
   ]
  },
  {
   "cell_type": "code",
   "execution_count": 3,
   "id": "b9263909",
   "metadata": {},
   "outputs": [],
   "source": [
    "#Importing data\n",
    "df_ufc = pd.read_csv(os.path.join(path, 'Original_Data', 'ufc_data.csv'), index_col=False)"
   ]
  },
  {
   "cell_type": "code",
   "execution_count": 4,
   "id": "5db4973c",
   "metadata": {},
   "outputs": [
    {
     "data": {
      "text/html": [
       "<div>\n",
       "<style scoped>\n",
       "    .dataframe tbody tr th:only-of-type {\n",
       "        vertical-align: middle;\n",
       "    }\n",
       "\n",
       "    .dataframe tbody tr th {\n",
       "        vertical-align: top;\n",
       "    }\n",
       "\n",
       "    .dataframe thead th {\n",
       "        text-align: right;\n",
       "    }\n",
       "</style>\n",
       "<table border=\"1\" class=\"dataframe\">\n",
       "  <thead>\n",
       "    <tr style=\"text-align: right;\">\n",
       "      <th></th>\n",
       "      <th>R_fighter</th>\n",
       "      <th>B_fighter</th>\n",
       "      <th>Referee</th>\n",
       "      <th>date</th>\n",
       "      <th>location</th>\n",
       "      <th>Winner</th>\n",
       "      <th>title_bout</th>\n",
       "      <th>weight_class</th>\n",
       "      <th>B_avg_KD</th>\n",
       "      <th>B_avg_opp_KD</th>\n",
       "      <th>...</th>\n",
       "      <th>R_win_by_Decision_Unanimous</th>\n",
       "      <th>R_win_by_KO/TKO</th>\n",
       "      <th>R_win_by_Submission</th>\n",
       "      <th>R_win_by_TKO_Doctor_Stoppage</th>\n",
       "      <th>R_Stance</th>\n",
       "      <th>R_Height_cms</th>\n",
       "      <th>R_Reach_cms</th>\n",
       "      <th>R_Weight_lbs</th>\n",
       "      <th>B_age</th>\n",
       "      <th>R_age</th>\n",
       "    </tr>\n",
       "  </thead>\n",
       "  <tbody>\n",
       "    <tr>\n",
       "      <th>0</th>\n",
       "      <td>Adrian Yanez</td>\n",
       "      <td>Gustavo Lopez</td>\n",
       "      <td>Chris Tognoni</td>\n",
       "      <td>3/20/2021</td>\n",
       "      <td>Las Vegas, Nevada, USA</td>\n",
       "      <td>Red</td>\n",
       "      <td>False</td>\n",
       "      <td>Bantamweight</td>\n",
       "      <td>0.000</td>\n",
       "      <td>0.0</td>\n",
       "      <td>...</td>\n",
       "      <td>0</td>\n",
       "      <td>1</td>\n",
       "      <td>0</td>\n",
       "      <td>0</td>\n",
       "      <td>Orthodox</td>\n",
       "      <td>170.18</td>\n",
       "      <td>177.80</td>\n",
       "      <td>135.0</td>\n",
       "      <td>31.0</td>\n",
       "      <td>27.0</td>\n",
       "    </tr>\n",
       "    <tr>\n",
       "      <th>1</th>\n",
       "      <td>Trevin Giles</td>\n",
       "      <td>Roman Dolidze</td>\n",
       "      <td>Herb Dean</td>\n",
       "      <td>3/20/2021</td>\n",
       "      <td>Las Vegas, Nevada, USA</td>\n",
       "      <td>Red</td>\n",
       "      <td>False</td>\n",
       "      <td>Middleweight</td>\n",
       "      <td>0.500</td>\n",
       "      <td>0.0</td>\n",
       "      <td>...</td>\n",
       "      <td>0</td>\n",
       "      <td>3</td>\n",
       "      <td>0</td>\n",
       "      <td>0</td>\n",
       "      <td>Orthodox</td>\n",
       "      <td>182.88</td>\n",
       "      <td>187.96</td>\n",
       "      <td>185.0</td>\n",
       "      <td>32.0</td>\n",
       "      <td>28.0</td>\n",
       "    </tr>\n",
       "    <tr>\n",
       "      <th>2</th>\n",
       "      <td>Tai Tuivasa</td>\n",
       "      <td>Harry Hunsucker</td>\n",
       "      <td>Herb Dean</td>\n",
       "      <td>3/20/2021</td>\n",
       "      <td>Las Vegas, Nevada, USA</td>\n",
       "      <td>Red</td>\n",
       "      <td>False</td>\n",
       "      <td>Heavyweight</td>\n",
       "      <td>NaN</td>\n",
       "      <td>NaN</td>\n",
       "      <td>...</td>\n",
       "      <td>1</td>\n",
       "      <td>3</td>\n",
       "      <td>0</td>\n",
       "      <td>0</td>\n",
       "      <td>Southpaw</td>\n",
       "      <td>187.96</td>\n",
       "      <td>190.50</td>\n",
       "      <td>264.0</td>\n",
       "      <td>32.0</td>\n",
       "      <td>28.0</td>\n",
       "    </tr>\n",
       "    <tr>\n",
       "      <th>3</th>\n",
       "      <td>Cheyanne Buys</td>\n",
       "      <td>Montserrat Conejo</td>\n",
       "      <td>Mark Smith</td>\n",
       "      <td>3/20/2021</td>\n",
       "      <td>Las Vegas, Nevada, USA</td>\n",
       "      <td>Blue</td>\n",
       "      <td>False</td>\n",
       "      <td>WomenStrawweight</td>\n",
       "      <td>NaN</td>\n",
       "      <td>NaN</td>\n",
       "      <td>...</td>\n",
       "      <td>0</td>\n",
       "      <td>0</td>\n",
       "      <td>0</td>\n",
       "      <td>0</td>\n",
       "      <td>Switch</td>\n",
       "      <td>160.02</td>\n",
       "      <td>160.02</td>\n",
       "      <td>115.0</td>\n",
       "      <td>28.0</td>\n",
       "      <td>25.0</td>\n",
       "    </tr>\n",
       "    <tr>\n",
       "      <th>4</th>\n",
       "      <td>Marion Reneau</td>\n",
       "      <td>Macy Chiasson</td>\n",
       "      <td>Mark Smith</td>\n",
       "      <td>3/20/2021</td>\n",
       "      <td>Las Vegas, Nevada, USA</td>\n",
       "      <td>Blue</td>\n",
       "      <td>False</td>\n",
       "      <td>WomenBantamweight</td>\n",
       "      <td>0.125</td>\n",
       "      <td>0.0</td>\n",
       "      <td>...</td>\n",
       "      <td>1</td>\n",
       "      <td>2</td>\n",
       "      <td>2</td>\n",
       "      <td>0</td>\n",
       "      <td>Orthodox</td>\n",
       "      <td>167.64</td>\n",
       "      <td>172.72</td>\n",
       "      <td>135.0</td>\n",
       "      <td>29.0</td>\n",
       "      <td>43.0</td>\n",
       "    </tr>\n",
       "  </tbody>\n",
       "</table>\n",
       "<p>5 rows × 144 columns</p>\n",
       "</div>"
      ],
      "text/plain": [
       "       R_fighter          B_fighter        Referee       date  \\\n",
       "0   Adrian Yanez      Gustavo Lopez  Chris Tognoni  3/20/2021   \n",
       "1   Trevin Giles      Roman Dolidze      Herb Dean  3/20/2021   \n",
       "2    Tai Tuivasa    Harry Hunsucker      Herb Dean  3/20/2021   \n",
       "3  Cheyanne Buys  Montserrat Conejo     Mark Smith  3/20/2021   \n",
       "4  Marion Reneau      Macy Chiasson     Mark Smith  3/20/2021   \n",
       "\n",
       "                 location Winner  title_bout       weight_class  B_avg_KD  \\\n",
       "0  Las Vegas, Nevada, USA    Red       False       Bantamweight     0.000   \n",
       "1  Las Vegas, Nevada, USA    Red       False       Middleweight     0.500   \n",
       "2  Las Vegas, Nevada, USA    Red       False        Heavyweight       NaN   \n",
       "3  Las Vegas, Nevada, USA   Blue       False   WomenStrawweight       NaN   \n",
       "4  Las Vegas, Nevada, USA   Blue       False  WomenBantamweight     0.125   \n",
       "\n",
       "   B_avg_opp_KD  ...  R_win_by_Decision_Unanimous  R_win_by_KO/TKO  \\\n",
       "0           0.0  ...                            0                1   \n",
       "1           0.0  ...                            0                3   \n",
       "2           NaN  ...                            1                3   \n",
       "3           NaN  ...                            0                0   \n",
       "4           0.0  ...                            1                2   \n",
       "\n",
       "   R_win_by_Submission  R_win_by_TKO_Doctor_Stoppage  R_Stance  R_Height_cms  \\\n",
       "0                    0                             0  Orthodox        170.18   \n",
       "1                    0                             0  Orthodox        182.88   \n",
       "2                    0                             0  Southpaw        187.96   \n",
       "3                    0                             0    Switch        160.02   \n",
       "4                    2                             0  Orthodox        167.64   \n",
       "\n",
       "   R_Reach_cms  R_Weight_lbs  B_age  R_age  \n",
       "0       177.80         135.0   31.0   27.0  \n",
       "1       187.96         185.0   32.0   28.0  \n",
       "2       190.50         264.0   32.0   28.0  \n",
       "3       160.02         115.0   28.0   25.0  \n",
       "4       172.72         135.0   29.0   43.0  \n",
       "\n",
       "[5 rows x 144 columns]"
      ]
     },
     "execution_count": 4,
     "metadata": {},
     "output_type": "execute_result"
    }
   ],
   "source": [
    "#Checking import\n",
    "df_ufc.head()"
   ]
  },
  {
   "cell_type": "code",
   "execution_count": 5,
   "id": "2a499073",
   "metadata": {},
   "outputs": [
    {
     "name": "stdout",
     "output_type": "stream",
     "text": [
      "<class 'pandas.core.frame.DataFrame'>\n",
      "RangeIndex: 6012 entries, 0 to 6011\n",
      "Columns: 144 entries, R_fighter to R_age\n",
      "dtypes: bool(1), float64(106), int64(28), object(9)\n",
      "memory usage: 6.6+ MB\n"
     ]
    }
   ],
   "source": [
    "#Checking info on data\n",
    "df_ufc.info()"
   ]
  },
  {
   "cell_type": "code",
   "execution_count": 6,
   "id": "223f9588",
   "metadata": {},
   "outputs": [
    {
     "data": {
      "text/plain": [
       "(6012, 144)"
      ]
     },
     "execution_count": 6,
     "metadata": {},
     "output_type": "execute_result"
    }
   ],
   "source": [
    "#Checking shape of data\n",
    "df_ufc.shape"
   ]
  },
  {
   "cell_type": "markdown",
   "id": "3287b822",
   "metadata": {},
   "source": [
    "## 03. Mixed-Type Data Check"
   ]
  },
  {
   "cell_type": "code",
   "execution_count": 7,
   "id": "4e983752",
   "metadata": {},
   "outputs": [
    {
     "name": "stdout",
     "output_type": "stream",
     "text": [
      "Referee\n"
     ]
    },
    {
     "name": "stderr",
     "output_type": "stream",
     "text": [
      "C:\\Users\\Mosspants\\AppData\\Local\\Temp\\ipykernel_18080\\3917700388.py:3: FutureWarning: DataFrame.applymap has been deprecated. Use DataFrame.map instead.\n",
      "  weird = (df_ufc[[col]].applymap(type) != df_ufc[[col]].iloc[0].apply(type)).any(axis=1)\n",
      "C:\\Users\\Mosspants\\AppData\\Local\\Temp\\ipykernel_18080\\3917700388.py:3: FutureWarning: DataFrame.applymap has been deprecated. Use DataFrame.map instead.\n",
      "  weird = (df_ufc[[col]].applymap(type) != df_ufc[[col]].iloc[0].apply(type)).any(axis=1)\n",
      "C:\\Users\\Mosspants\\AppData\\Local\\Temp\\ipykernel_18080\\3917700388.py:3: FutureWarning: DataFrame.applymap has been deprecated. Use DataFrame.map instead.\n",
      "  weird = (df_ufc[[col]].applymap(type) != df_ufc[[col]].iloc[0].apply(type)).any(axis=1)\n",
      "C:\\Users\\Mosspants\\AppData\\Local\\Temp\\ipykernel_18080\\3917700388.py:3: FutureWarning: DataFrame.applymap has been deprecated. Use DataFrame.map instead.\n",
      "  weird = (df_ufc[[col]].applymap(type) != df_ufc[[col]].iloc[0].apply(type)).any(axis=1)\n",
      "C:\\Users\\Mosspants\\AppData\\Local\\Temp\\ipykernel_18080\\3917700388.py:3: FutureWarning: DataFrame.applymap has been deprecated. Use DataFrame.map instead.\n",
      "  weird = (df_ufc[[col]].applymap(type) != df_ufc[[col]].iloc[0].apply(type)).any(axis=1)\n",
      "C:\\Users\\Mosspants\\AppData\\Local\\Temp\\ipykernel_18080\\3917700388.py:3: FutureWarning: DataFrame.applymap has been deprecated. Use DataFrame.map instead.\n",
      "  weird = (df_ufc[[col]].applymap(type) != df_ufc[[col]].iloc[0].apply(type)).any(axis=1)\n",
      "C:\\Users\\Mosspants\\AppData\\Local\\Temp\\ipykernel_18080\\3917700388.py:3: FutureWarning: DataFrame.applymap has been deprecated. Use DataFrame.map instead.\n",
      "  weird = (df_ufc[[col]].applymap(type) != df_ufc[[col]].iloc[0].apply(type)).any(axis=1)\n",
      "C:\\Users\\Mosspants\\AppData\\Local\\Temp\\ipykernel_18080\\3917700388.py:3: FutureWarning: DataFrame.applymap has been deprecated. Use DataFrame.map instead.\n",
      "  weird = (df_ufc[[col]].applymap(type) != df_ufc[[col]].iloc[0].apply(type)).any(axis=1)\n",
      "C:\\Users\\Mosspants\\AppData\\Local\\Temp\\ipykernel_18080\\3917700388.py:3: FutureWarning: DataFrame.applymap has been deprecated. Use DataFrame.map instead.\n",
      "  weird = (df_ufc[[col]].applymap(type) != df_ufc[[col]].iloc[0].apply(type)).any(axis=1)\n",
      "C:\\Users\\Mosspants\\AppData\\Local\\Temp\\ipykernel_18080\\3917700388.py:3: FutureWarning: DataFrame.applymap has been deprecated. Use DataFrame.map instead.\n",
      "  weird = (df_ufc[[col]].applymap(type) != df_ufc[[col]].iloc[0].apply(type)).any(axis=1)\n",
      "C:\\Users\\Mosspants\\AppData\\Local\\Temp\\ipykernel_18080\\3917700388.py:3: FutureWarning: DataFrame.applymap has been deprecated. Use DataFrame.map instead.\n",
      "  weird = (df_ufc[[col]].applymap(type) != df_ufc[[col]].iloc[0].apply(type)).any(axis=1)\n",
      "C:\\Users\\Mosspants\\AppData\\Local\\Temp\\ipykernel_18080\\3917700388.py:3: FutureWarning: DataFrame.applymap has been deprecated. Use DataFrame.map instead.\n",
      "  weird = (df_ufc[[col]].applymap(type) != df_ufc[[col]].iloc[0].apply(type)).any(axis=1)\n",
      "C:\\Users\\Mosspants\\AppData\\Local\\Temp\\ipykernel_18080\\3917700388.py:3: FutureWarning: DataFrame.applymap has been deprecated. Use DataFrame.map instead.\n",
      "  weird = (df_ufc[[col]].applymap(type) != df_ufc[[col]].iloc[0].apply(type)).any(axis=1)\n",
      "C:\\Users\\Mosspants\\AppData\\Local\\Temp\\ipykernel_18080\\3917700388.py:3: FutureWarning: DataFrame.applymap has been deprecated. Use DataFrame.map instead.\n",
      "  weird = (df_ufc[[col]].applymap(type) != df_ufc[[col]].iloc[0].apply(type)).any(axis=1)\n",
      "C:\\Users\\Mosspants\\AppData\\Local\\Temp\\ipykernel_18080\\3917700388.py:3: FutureWarning: DataFrame.applymap has been deprecated. Use DataFrame.map instead.\n",
      "  weird = (df_ufc[[col]].applymap(type) != df_ufc[[col]].iloc[0].apply(type)).any(axis=1)\n",
      "C:\\Users\\Mosspants\\AppData\\Local\\Temp\\ipykernel_18080\\3917700388.py:3: FutureWarning: DataFrame.applymap has been deprecated. Use DataFrame.map instead.\n",
      "  weird = (df_ufc[[col]].applymap(type) != df_ufc[[col]].iloc[0].apply(type)).any(axis=1)\n",
      "C:\\Users\\Mosspants\\AppData\\Local\\Temp\\ipykernel_18080\\3917700388.py:3: FutureWarning: DataFrame.applymap has been deprecated. Use DataFrame.map instead.\n",
      "  weird = (df_ufc[[col]].applymap(type) != df_ufc[[col]].iloc[0].apply(type)).any(axis=1)\n",
      "C:\\Users\\Mosspants\\AppData\\Local\\Temp\\ipykernel_18080\\3917700388.py:3: FutureWarning: DataFrame.applymap has been deprecated. Use DataFrame.map instead.\n",
      "  weird = (df_ufc[[col]].applymap(type) != df_ufc[[col]].iloc[0].apply(type)).any(axis=1)\n",
      "C:\\Users\\Mosspants\\AppData\\Local\\Temp\\ipykernel_18080\\3917700388.py:3: FutureWarning: DataFrame.applymap has been deprecated. Use DataFrame.map instead.\n",
      "  weird = (df_ufc[[col]].applymap(type) != df_ufc[[col]].iloc[0].apply(type)).any(axis=1)\n",
      "C:\\Users\\Mosspants\\AppData\\Local\\Temp\\ipykernel_18080\\3917700388.py:3: FutureWarning: DataFrame.applymap has been deprecated. Use DataFrame.map instead.\n",
      "  weird = (df_ufc[[col]].applymap(type) != df_ufc[[col]].iloc[0].apply(type)).any(axis=1)\n",
      "C:\\Users\\Mosspants\\AppData\\Local\\Temp\\ipykernel_18080\\3917700388.py:3: FutureWarning: DataFrame.applymap has been deprecated. Use DataFrame.map instead.\n",
      "  weird = (df_ufc[[col]].applymap(type) != df_ufc[[col]].iloc[0].apply(type)).any(axis=1)\n",
      "C:\\Users\\Mosspants\\AppData\\Local\\Temp\\ipykernel_18080\\3917700388.py:3: FutureWarning: DataFrame.applymap has been deprecated. Use DataFrame.map instead.\n",
      "  weird = (df_ufc[[col]].applymap(type) != df_ufc[[col]].iloc[0].apply(type)).any(axis=1)\n",
      "C:\\Users\\Mosspants\\AppData\\Local\\Temp\\ipykernel_18080\\3917700388.py:3: FutureWarning: DataFrame.applymap has been deprecated. Use DataFrame.map instead.\n",
      "  weird = (df_ufc[[col]].applymap(type) != df_ufc[[col]].iloc[0].apply(type)).any(axis=1)\n",
      "C:\\Users\\Mosspants\\AppData\\Local\\Temp\\ipykernel_18080\\3917700388.py:3: FutureWarning: DataFrame.applymap has been deprecated. Use DataFrame.map instead.\n",
      "  weird = (df_ufc[[col]].applymap(type) != df_ufc[[col]].iloc[0].apply(type)).any(axis=1)\n",
      "C:\\Users\\Mosspants\\AppData\\Local\\Temp\\ipykernel_18080\\3917700388.py:3: FutureWarning: DataFrame.applymap has been deprecated. Use DataFrame.map instead.\n",
      "  weird = (df_ufc[[col]].applymap(type) != df_ufc[[col]].iloc[0].apply(type)).any(axis=1)\n",
      "C:\\Users\\Mosspants\\AppData\\Local\\Temp\\ipykernel_18080\\3917700388.py:3: FutureWarning: DataFrame.applymap has been deprecated. Use DataFrame.map instead.\n",
      "  weird = (df_ufc[[col]].applymap(type) != df_ufc[[col]].iloc[0].apply(type)).any(axis=1)\n",
      "C:\\Users\\Mosspants\\AppData\\Local\\Temp\\ipykernel_18080\\3917700388.py:3: FutureWarning: DataFrame.applymap has been deprecated. Use DataFrame.map instead.\n",
      "  weird = (df_ufc[[col]].applymap(type) != df_ufc[[col]].iloc[0].apply(type)).any(axis=1)\n",
      "C:\\Users\\Mosspants\\AppData\\Local\\Temp\\ipykernel_18080\\3917700388.py:3: FutureWarning: DataFrame.applymap has been deprecated. Use DataFrame.map instead.\n",
      "  weird = (df_ufc[[col]].applymap(type) != df_ufc[[col]].iloc[0].apply(type)).any(axis=1)\n",
      "C:\\Users\\Mosspants\\AppData\\Local\\Temp\\ipykernel_18080\\3917700388.py:3: FutureWarning: DataFrame.applymap has been deprecated. Use DataFrame.map instead.\n",
      "  weird = (df_ufc[[col]].applymap(type) != df_ufc[[col]].iloc[0].apply(type)).any(axis=1)\n",
      "C:\\Users\\Mosspants\\AppData\\Local\\Temp\\ipykernel_18080\\3917700388.py:3: FutureWarning: DataFrame.applymap has been deprecated. Use DataFrame.map instead.\n",
      "  weird = (df_ufc[[col]].applymap(type) != df_ufc[[col]].iloc[0].apply(type)).any(axis=1)\n",
      "C:\\Users\\Mosspants\\AppData\\Local\\Temp\\ipykernel_18080\\3917700388.py:3: FutureWarning: DataFrame.applymap has been deprecated. Use DataFrame.map instead.\n",
      "  weird = (df_ufc[[col]].applymap(type) != df_ufc[[col]].iloc[0].apply(type)).any(axis=1)\n",
      "C:\\Users\\Mosspants\\AppData\\Local\\Temp\\ipykernel_18080\\3917700388.py:3: FutureWarning: DataFrame.applymap has been deprecated. Use DataFrame.map instead.\n",
      "  weird = (df_ufc[[col]].applymap(type) != df_ufc[[col]].iloc[0].apply(type)).any(axis=1)\n",
      "C:\\Users\\Mosspants\\AppData\\Local\\Temp\\ipykernel_18080\\3917700388.py:3: FutureWarning: DataFrame.applymap has been deprecated. Use DataFrame.map instead.\n",
      "  weird = (df_ufc[[col]].applymap(type) != df_ufc[[col]].iloc[0].apply(type)).any(axis=1)\n",
      "C:\\Users\\Mosspants\\AppData\\Local\\Temp\\ipykernel_18080\\3917700388.py:3: FutureWarning: DataFrame.applymap has been deprecated. Use DataFrame.map instead.\n",
      "  weird = (df_ufc[[col]].applymap(type) != df_ufc[[col]].iloc[0].apply(type)).any(axis=1)\n",
      "C:\\Users\\Mosspants\\AppData\\Local\\Temp\\ipykernel_18080\\3917700388.py:3: FutureWarning: DataFrame.applymap has been deprecated. Use DataFrame.map instead.\n",
      "  weird = (df_ufc[[col]].applymap(type) != df_ufc[[col]].iloc[0].apply(type)).any(axis=1)\n",
      "C:\\Users\\Mosspants\\AppData\\Local\\Temp\\ipykernel_18080\\3917700388.py:3: FutureWarning: DataFrame.applymap has been deprecated. Use DataFrame.map instead.\n",
      "  weird = (df_ufc[[col]].applymap(type) != df_ufc[[col]].iloc[0].apply(type)).any(axis=1)\n",
      "C:\\Users\\Mosspants\\AppData\\Local\\Temp\\ipykernel_18080\\3917700388.py:3: FutureWarning: DataFrame.applymap has been deprecated. Use DataFrame.map instead.\n",
      "  weird = (df_ufc[[col]].applymap(type) != df_ufc[[col]].iloc[0].apply(type)).any(axis=1)\n",
      "C:\\Users\\Mosspants\\AppData\\Local\\Temp\\ipykernel_18080\\3917700388.py:3: FutureWarning: DataFrame.applymap has been deprecated. Use DataFrame.map instead.\n",
      "  weird = (df_ufc[[col]].applymap(type) != df_ufc[[col]].iloc[0].apply(type)).any(axis=1)\n",
      "C:\\Users\\Mosspants\\AppData\\Local\\Temp\\ipykernel_18080\\3917700388.py:3: FutureWarning: DataFrame.applymap has been deprecated. Use DataFrame.map instead.\n",
      "  weird = (df_ufc[[col]].applymap(type) != df_ufc[[col]].iloc[0].apply(type)).any(axis=1)\n",
      "C:\\Users\\Mosspants\\AppData\\Local\\Temp\\ipykernel_18080\\3917700388.py:3: FutureWarning: DataFrame.applymap has been deprecated. Use DataFrame.map instead.\n",
      "  weird = (df_ufc[[col]].applymap(type) != df_ufc[[col]].iloc[0].apply(type)).any(axis=1)\n",
      "C:\\Users\\Mosspants\\AppData\\Local\\Temp\\ipykernel_18080\\3917700388.py:3: FutureWarning: DataFrame.applymap has been deprecated. Use DataFrame.map instead.\n",
      "  weird = (df_ufc[[col]].applymap(type) != df_ufc[[col]].iloc[0].apply(type)).any(axis=1)\n",
      "C:\\Users\\Mosspants\\AppData\\Local\\Temp\\ipykernel_18080\\3917700388.py:3: FutureWarning: DataFrame.applymap has been deprecated. Use DataFrame.map instead.\n",
      "  weird = (df_ufc[[col]].applymap(type) != df_ufc[[col]].iloc[0].apply(type)).any(axis=1)\n",
      "C:\\Users\\Mosspants\\AppData\\Local\\Temp\\ipykernel_18080\\3917700388.py:3: FutureWarning: DataFrame.applymap has been deprecated. Use DataFrame.map instead.\n",
      "  weird = (df_ufc[[col]].applymap(type) != df_ufc[[col]].iloc[0].apply(type)).any(axis=1)\n",
      "C:\\Users\\Mosspants\\AppData\\Local\\Temp\\ipykernel_18080\\3917700388.py:3: FutureWarning: DataFrame.applymap has been deprecated. Use DataFrame.map instead.\n",
      "  weird = (df_ufc[[col]].applymap(type) != df_ufc[[col]].iloc[0].apply(type)).any(axis=1)\n",
      "C:\\Users\\Mosspants\\AppData\\Local\\Temp\\ipykernel_18080\\3917700388.py:3: FutureWarning: DataFrame.applymap has been deprecated. Use DataFrame.map instead.\n",
      "  weird = (df_ufc[[col]].applymap(type) != df_ufc[[col]].iloc[0].apply(type)).any(axis=1)\n",
      "C:\\Users\\Mosspants\\AppData\\Local\\Temp\\ipykernel_18080\\3917700388.py:3: FutureWarning: DataFrame.applymap has been deprecated. Use DataFrame.map instead.\n",
      "  weird = (df_ufc[[col]].applymap(type) != df_ufc[[col]].iloc[0].apply(type)).any(axis=1)\n",
      "C:\\Users\\Mosspants\\AppData\\Local\\Temp\\ipykernel_18080\\3917700388.py:3: FutureWarning: DataFrame.applymap has been deprecated. Use DataFrame.map instead.\n",
      "  weird = (df_ufc[[col]].applymap(type) != df_ufc[[col]].iloc[0].apply(type)).any(axis=1)\n",
      "C:\\Users\\Mosspants\\AppData\\Local\\Temp\\ipykernel_18080\\3917700388.py:3: FutureWarning: DataFrame.applymap has been deprecated. Use DataFrame.map instead.\n",
      "  weird = (df_ufc[[col]].applymap(type) != df_ufc[[col]].iloc[0].apply(type)).any(axis=1)\n",
      "C:\\Users\\Mosspants\\AppData\\Local\\Temp\\ipykernel_18080\\3917700388.py:3: FutureWarning: DataFrame.applymap has been deprecated. Use DataFrame.map instead.\n",
      "  weird = (df_ufc[[col]].applymap(type) != df_ufc[[col]].iloc[0].apply(type)).any(axis=1)\n",
      "C:\\Users\\Mosspants\\AppData\\Local\\Temp\\ipykernel_18080\\3917700388.py:3: FutureWarning: DataFrame.applymap has been deprecated. Use DataFrame.map instead.\n",
      "  weird = (df_ufc[[col]].applymap(type) != df_ufc[[col]].iloc[0].apply(type)).any(axis=1)\n",
      "C:\\Users\\Mosspants\\AppData\\Local\\Temp\\ipykernel_18080\\3917700388.py:3: FutureWarning: DataFrame.applymap has been deprecated. Use DataFrame.map instead.\n",
      "  weird = (df_ufc[[col]].applymap(type) != df_ufc[[col]].iloc[0].apply(type)).any(axis=1)\n",
      "C:\\Users\\Mosspants\\AppData\\Local\\Temp\\ipykernel_18080\\3917700388.py:3: FutureWarning: DataFrame.applymap has been deprecated. Use DataFrame.map instead.\n",
      "  weird = (df_ufc[[col]].applymap(type) != df_ufc[[col]].iloc[0].apply(type)).any(axis=1)\n",
      "C:\\Users\\Mosspants\\AppData\\Local\\Temp\\ipykernel_18080\\3917700388.py:3: FutureWarning: DataFrame.applymap has been deprecated. Use DataFrame.map instead.\n",
      "  weird = (df_ufc[[col]].applymap(type) != df_ufc[[col]].iloc[0].apply(type)).any(axis=1)\n"
     ]
    },
    {
     "name": "stderr",
     "output_type": "stream",
     "text": [
      "C:\\Users\\Mosspants\\AppData\\Local\\Temp\\ipykernel_18080\\3917700388.py:3: FutureWarning: DataFrame.applymap has been deprecated. Use DataFrame.map instead.\n",
      "  weird = (df_ufc[[col]].applymap(type) != df_ufc[[col]].iloc[0].apply(type)).any(axis=1)\n",
      "C:\\Users\\Mosspants\\AppData\\Local\\Temp\\ipykernel_18080\\3917700388.py:3: FutureWarning: DataFrame.applymap has been deprecated. Use DataFrame.map instead.\n",
      "  weird = (df_ufc[[col]].applymap(type) != df_ufc[[col]].iloc[0].apply(type)).any(axis=1)\n",
      "C:\\Users\\Mosspants\\AppData\\Local\\Temp\\ipykernel_18080\\3917700388.py:3: FutureWarning: DataFrame.applymap has been deprecated. Use DataFrame.map instead.\n",
      "  weird = (df_ufc[[col]].applymap(type) != df_ufc[[col]].iloc[0].apply(type)).any(axis=1)\n",
      "C:\\Users\\Mosspants\\AppData\\Local\\Temp\\ipykernel_18080\\3917700388.py:3: FutureWarning: DataFrame.applymap has been deprecated. Use DataFrame.map instead.\n",
      "  weird = (df_ufc[[col]].applymap(type) != df_ufc[[col]].iloc[0].apply(type)).any(axis=1)\n",
      "C:\\Users\\Mosspants\\AppData\\Local\\Temp\\ipykernel_18080\\3917700388.py:3: FutureWarning: DataFrame.applymap has been deprecated. Use DataFrame.map instead.\n",
      "  weird = (df_ufc[[col]].applymap(type) != df_ufc[[col]].iloc[0].apply(type)).any(axis=1)\n",
      "C:\\Users\\Mosspants\\AppData\\Local\\Temp\\ipykernel_18080\\3917700388.py:3: FutureWarning: DataFrame.applymap has been deprecated. Use DataFrame.map instead.\n",
      "  weird = (df_ufc[[col]].applymap(type) != df_ufc[[col]].iloc[0].apply(type)).any(axis=1)\n",
      "C:\\Users\\Mosspants\\AppData\\Local\\Temp\\ipykernel_18080\\3917700388.py:3: FutureWarning: DataFrame.applymap has been deprecated. Use DataFrame.map instead.\n",
      "  weird = (df_ufc[[col]].applymap(type) != df_ufc[[col]].iloc[0].apply(type)).any(axis=1)\n",
      "C:\\Users\\Mosspants\\AppData\\Local\\Temp\\ipykernel_18080\\3917700388.py:3: FutureWarning: DataFrame.applymap has been deprecated. Use DataFrame.map instead.\n",
      "  weird = (df_ufc[[col]].applymap(type) != df_ufc[[col]].iloc[0].apply(type)).any(axis=1)\n",
      "C:\\Users\\Mosspants\\AppData\\Local\\Temp\\ipykernel_18080\\3917700388.py:3: FutureWarning: DataFrame.applymap has been deprecated. Use DataFrame.map instead.\n",
      "  weird = (df_ufc[[col]].applymap(type) != df_ufc[[col]].iloc[0].apply(type)).any(axis=1)\n",
      "C:\\Users\\Mosspants\\AppData\\Local\\Temp\\ipykernel_18080\\3917700388.py:3: FutureWarning: DataFrame.applymap has been deprecated. Use DataFrame.map instead.\n",
      "  weird = (df_ufc[[col]].applymap(type) != df_ufc[[col]].iloc[0].apply(type)).any(axis=1)\n",
      "C:\\Users\\Mosspants\\AppData\\Local\\Temp\\ipykernel_18080\\3917700388.py:3: FutureWarning: DataFrame.applymap has been deprecated. Use DataFrame.map instead.\n",
      "  weird = (df_ufc[[col]].applymap(type) != df_ufc[[col]].iloc[0].apply(type)).any(axis=1)\n",
      "C:\\Users\\Mosspants\\AppData\\Local\\Temp\\ipykernel_18080\\3917700388.py:3: FutureWarning: DataFrame.applymap has been deprecated. Use DataFrame.map instead.\n",
      "  weird = (df_ufc[[col]].applymap(type) != df_ufc[[col]].iloc[0].apply(type)).any(axis=1)\n",
      "C:\\Users\\Mosspants\\AppData\\Local\\Temp\\ipykernel_18080\\3917700388.py:3: FutureWarning: DataFrame.applymap has been deprecated. Use DataFrame.map instead.\n",
      "  weird = (df_ufc[[col]].applymap(type) != df_ufc[[col]].iloc[0].apply(type)).any(axis=1)\n",
      "C:\\Users\\Mosspants\\AppData\\Local\\Temp\\ipykernel_18080\\3917700388.py:3: FutureWarning: DataFrame.applymap has been deprecated. Use DataFrame.map instead.\n",
      "  weird = (df_ufc[[col]].applymap(type) != df_ufc[[col]].iloc[0].apply(type)).any(axis=1)\n",
      "C:\\Users\\Mosspants\\AppData\\Local\\Temp\\ipykernel_18080\\3917700388.py:3: FutureWarning: DataFrame.applymap has been deprecated. Use DataFrame.map instead.\n",
      "  weird = (df_ufc[[col]].applymap(type) != df_ufc[[col]].iloc[0].apply(type)).any(axis=1)\n",
      "C:\\Users\\Mosspants\\AppData\\Local\\Temp\\ipykernel_18080\\3917700388.py:3: FutureWarning: DataFrame.applymap has been deprecated. Use DataFrame.map instead.\n",
      "  weird = (df_ufc[[col]].applymap(type) != df_ufc[[col]].iloc[0].apply(type)).any(axis=1)\n",
      "C:\\Users\\Mosspants\\AppData\\Local\\Temp\\ipykernel_18080\\3917700388.py:3: FutureWarning: DataFrame.applymap has been deprecated. Use DataFrame.map instead.\n",
      "  weird = (df_ufc[[col]].applymap(type) != df_ufc[[col]].iloc[0].apply(type)).any(axis=1)\n",
      "C:\\Users\\Mosspants\\AppData\\Local\\Temp\\ipykernel_18080\\3917700388.py:3: FutureWarning: DataFrame.applymap has been deprecated. Use DataFrame.map instead.\n",
      "  weird = (df_ufc[[col]].applymap(type) != df_ufc[[col]].iloc[0].apply(type)).any(axis=1)\n",
      "C:\\Users\\Mosspants\\AppData\\Local\\Temp\\ipykernel_18080\\3917700388.py:3: FutureWarning: DataFrame.applymap has been deprecated. Use DataFrame.map instead.\n",
      "  weird = (df_ufc[[col]].applymap(type) != df_ufc[[col]].iloc[0].apply(type)).any(axis=1)\n",
      "C:\\Users\\Mosspants\\AppData\\Local\\Temp\\ipykernel_18080\\3917700388.py:3: FutureWarning: DataFrame.applymap has been deprecated. Use DataFrame.map instead.\n",
      "  weird = (df_ufc[[col]].applymap(type) != df_ufc[[col]].iloc[0].apply(type)).any(axis=1)\n",
      "C:\\Users\\Mosspants\\AppData\\Local\\Temp\\ipykernel_18080\\3917700388.py:3: FutureWarning: DataFrame.applymap has been deprecated. Use DataFrame.map instead.\n",
      "  weird = (df_ufc[[col]].applymap(type) != df_ufc[[col]].iloc[0].apply(type)).any(axis=1)\n",
      "C:\\Users\\Mosspants\\AppData\\Local\\Temp\\ipykernel_18080\\3917700388.py:3: FutureWarning: DataFrame.applymap has been deprecated. Use DataFrame.map instead.\n",
      "  weird = (df_ufc[[col]].applymap(type) != df_ufc[[col]].iloc[0].apply(type)).any(axis=1)\n",
      "C:\\Users\\Mosspants\\AppData\\Local\\Temp\\ipykernel_18080\\3917700388.py:3: FutureWarning: DataFrame.applymap has been deprecated. Use DataFrame.map instead.\n",
      "  weird = (df_ufc[[col]].applymap(type) != df_ufc[[col]].iloc[0].apply(type)).any(axis=1)\n",
      "C:\\Users\\Mosspants\\AppData\\Local\\Temp\\ipykernel_18080\\3917700388.py:3: FutureWarning: DataFrame.applymap has been deprecated. Use DataFrame.map instead.\n",
      "  weird = (df_ufc[[col]].applymap(type) != df_ufc[[col]].iloc[0].apply(type)).any(axis=1)\n",
      "C:\\Users\\Mosspants\\AppData\\Local\\Temp\\ipykernel_18080\\3917700388.py:3: FutureWarning: DataFrame.applymap has been deprecated. Use DataFrame.map instead.\n",
      "  weird = (df_ufc[[col]].applymap(type) != df_ufc[[col]].iloc[0].apply(type)).any(axis=1)\n",
      "C:\\Users\\Mosspants\\AppData\\Local\\Temp\\ipykernel_18080\\3917700388.py:3: FutureWarning: DataFrame.applymap has been deprecated. Use DataFrame.map instead.\n",
      "  weird = (df_ufc[[col]].applymap(type) != df_ufc[[col]].iloc[0].apply(type)).any(axis=1)\n",
      "C:\\Users\\Mosspants\\AppData\\Local\\Temp\\ipykernel_18080\\3917700388.py:3: FutureWarning: DataFrame.applymap has been deprecated. Use DataFrame.map instead.\n",
      "  weird = (df_ufc[[col]].applymap(type) != df_ufc[[col]].iloc[0].apply(type)).any(axis=1)\n",
      "C:\\Users\\Mosspants\\AppData\\Local\\Temp\\ipykernel_18080\\3917700388.py:3: FutureWarning: DataFrame.applymap has been deprecated. Use DataFrame.map instead.\n",
      "  weird = (df_ufc[[col]].applymap(type) != df_ufc[[col]].iloc[0].apply(type)).any(axis=1)\n",
      "C:\\Users\\Mosspants\\AppData\\Local\\Temp\\ipykernel_18080\\3917700388.py:3: FutureWarning: DataFrame.applymap has been deprecated. Use DataFrame.map instead.\n",
      "  weird = (df_ufc[[col]].applymap(type) != df_ufc[[col]].iloc[0].apply(type)).any(axis=1)\n",
      "C:\\Users\\Mosspants\\AppData\\Local\\Temp\\ipykernel_18080\\3917700388.py:3: FutureWarning: DataFrame.applymap has been deprecated. Use DataFrame.map instead.\n",
      "  weird = (df_ufc[[col]].applymap(type) != df_ufc[[col]].iloc[0].apply(type)).any(axis=1)\n",
      "C:\\Users\\Mosspants\\AppData\\Local\\Temp\\ipykernel_18080\\3917700388.py:3: FutureWarning: DataFrame.applymap has been deprecated. Use DataFrame.map instead.\n",
      "  weird = (df_ufc[[col]].applymap(type) != df_ufc[[col]].iloc[0].apply(type)).any(axis=1)\n",
      "C:\\Users\\Mosspants\\AppData\\Local\\Temp\\ipykernel_18080\\3917700388.py:3: FutureWarning: DataFrame.applymap has been deprecated. Use DataFrame.map instead.\n",
      "  weird = (df_ufc[[col]].applymap(type) != df_ufc[[col]].iloc[0].apply(type)).any(axis=1)\n",
      "C:\\Users\\Mosspants\\AppData\\Local\\Temp\\ipykernel_18080\\3917700388.py:3: FutureWarning: DataFrame.applymap has been deprecated. Use DataFrame.map instead.\n",
      "  weird = (df_ufc[[col]].applymap(type) != df_ufc[[col]].iloc[0].apply(type)).any(axis=1)\n",
      "C:\\Users\\Mosspants\\AppData\\Local\\Temp\\ipykernel_18080\\3917700388.py:3: FutureWarning: DataFrame.applymap has been deprecated. Use DataFrame.map instead.\n",
      "  weird = (df_ufc[[col]].applymap(type) != df_ufc[[col]].iloc[0].apply(type)).any(axis=1)\n",
      "C:\\Users\\Mosspants\\AppData\\Local\\Temp\\ipykernel_18080\\3917700388.py:3: FutureWarning: DataFrame.applymap has been deprecated. Use DataFrame.map instead.\n",
      "  weird = (df_ufc[[col]].applymap(type) != df_ufc[[col]].iloc[0].apply(type)).any(axis=1)\n",
      "C:\\Users\\Mosspants\\AppData\\Local\\Temp\\ipykernel_18080\\3917700388.py:3: FutureWarning: DataFrame.applymap has been deprecated. Use DataFrame.map instead.\n",
      "  weird = (df_ufc[[col]].applymap(type) != df_ufc[[col]].iloc[0].apply(type)).any(axis=1)\n",
      "C:\\Users\\Mosspants\\AppData\\Local\\Temp\\ipykernel_18080\\3917700388.py:3: FutureWarning: DataFrame.applymap has been deprecated. Use DataFrame.map instead.\n",
      "  weird = (df_ufc[[col]].applymap(type) != df_ufc[[col]].iloc[0].apply(type)).any(axis=1)\n",
      "C:\\Users\\Mosspants\\AppData\\Local\\Temp\\ipykernel_18080\\3917700388.py:3: FutureWarning: DataFrame.applymap has been deprecated. Use DataFrame.map instead.\n",
      "  weird = (df_ufc[[col]].applymap(type) != df_ufc[[col]].iloc[0].apply(type)).any(axis=1)\n",
      "C:\\Users\\Mosspants\\AppData\\Local\\Temp\\ipykernel_18080\\3917700388.py:3: FutureWarning: DataFrame.applymap has been deprecated. Use DataFrame.map instead.\n",
      "  weird = (df_ufc[[col]].applymap(type) != df_ufc[[col]].iloc[0].apply(type)).any(axis=1)\n",
      "C:\\Users\\Mosspants\\AppData\\Local\\Temp\\ipykernel_18080\\3917700388.py:3: FutureWarning: DataFrame.applymap has been deprecated. Use DataFrame.map instead.\n",
      "  weird = (df_ufc[[col]].applymap(type) != df_ufc[[col]].iloc[0].apply(type)).any(axis=1)\n",
      "C:\\Users\\Mosspants\\AppData\\Local\\Temp\\ipykernel_18080\\3917700388.py:3: FutureWarning: DataFrame.applymap has been deprecated. Use DataFrame.map instead.\n",
      "  weird = (df_ufc[[col]].applymap(type) != df_ufc[[col]].iloc[0].apply(type)).any(axis=1)\n",
      "C:\\Users\\Mosspants\\AppData\\Local\\Temp\\ipykernel_18080\\3917700388.py:3: FutureWarning: DataFrame.applymap has been deprecated. Use DataFrame.map instead.\n",
      "  weird = (df_ufc[[col]].applymap(type) != df_ufc[[col]].iloc[0].apply(type)).any(axis=1)\n",
      "C:\\Users\\Mosspants\\AppData\\Local\\Temp\\ipykernel_18080\\3917700388.py:3: FutureWarning: DataFrame.applymap has been deprecated. Use DataFrame.map instead.\n",
      "  weird = (df_ufc[[col]].applymap(type) != df_ufc[[col]].iloc[0].apply(type)).any(axis=1)\n",
      "C:\\Users\\Mosspants\\AppData\\Local\\Temp\\ipykernel_18080\\3917700388.py:3: FutureWarning: DataFrame.applymap has been deprecated. Use DataFrame.map instead.\n",
      "  weird = (df_ufc[[col]].applymap(type) != df_ufc[[col]].iloc[0].apply(type)).any(axis=1)\n",
      "C:\\Users\\Mosspants\\AppData\\Local\\Temp\\ipykernel_18080\\3917700388.py:3: FutureWarning: DataFrame.applymap has been deprecated. Use DataFrame.map instead.\n",
      "  weird = (df_ufc[[col]].applymap(type) != df_ufc[[col]].iloc[0].apply(type)).any(axis=1)\n",
      "C:\\Users\\Mosspants\\AppData\\Local\\Temp\\ipykernel_18080\\3917700388.py:3: FutureWarning: DataFrame.applymap has been deprecated. Use DataFrame.map instead.\n",
      "  weird = (df_ufc[[col]].applymap(type) != df_ufc[[col]].iloc[0].apply(type)).any(axis=1)\n",
      "C:\\Users\\Mosspants\\AppData\\Local\\Temp\\ipykernel_18080\\3917700388.py:3: FutureWarning: DataFrame.applymap has been deprecated. Use DataFrame.map instead.\n",
      "  weird = (df_ufc[[col]].applymap(type) != df_ufc[[col]].iloc[0].apply(type)).any(axis=1)\n",
      "C:\\Users\\Mosspants\\AppData\\Local\\Temp\\ipykernel_18080\\3917700388.py:3: FutureWarning: DataFrame.applymap has been deprecated. Use DataFrame.map instead.\n",
      "  weird = (df_ufc[[col]].applymap(type) != df_ufc[[col]].iloc[0].apply(type)).any(axis=1)\n",
      "C:\\Users\\Mosspants\\AppData\\Local\\Temp\\ipykernel_18080\\3917700388.py:3: FutureWarning: DataFrame.applymap has been deprecated. Use DataFrame.map instead.\n",
      "  weird = (df_ufc[[col]].applymap(type) != df_ufc[[col]].iloc[0].apply(type)).any(axis=1)\n",
      "C:\\Users\\Mosspants\\AppData\\Local\\Temp\\ipykernel_18080\\3917700388.py:3: FutureWarning: DataFrame.applymap has been deprecated. Use DataFrame.map instead.\n",
      "  weird = (df_ufc[[col]].applymap(type) != df_ufc[[col]].iloc[0].apply(type)).any(axis=1)\n",
      "C:\\Users\\Mosspants\\AppData\\Local\\Temp\\ipykernel_18080\\3917700388.py:3: FutureWarning: DataFrame.applymap has been deprecated. Use DataFrame.map instead.\n",
      "  weird = (df_ufc[[col]].applymap(type) != df_ufc[[col]].iloc[0].apply(type)).any(axis=1)\n",
      "C:\\Users\\Mosspants\\AppData\\Local\\Temp\\ipykernel_18080\\3917700388.py:3: FutureWarning: DataFrame.applymap has been deprecated. Use DataFrame.map instead.\n",
      "  weird = (df_ufc[[col]].applymap(type) != df_ufc[[col]].iloc[0].apply(type)).any(axis=1)\n",
      "C:\\Users\\Mosspants\\AppData\\Local\\Temp\\ipykernel_18080\\3917700388.py:3: FutureWarning: DataFrame.applymap has been deprecated. Use DataFrame.map instead.\n",
      "  weird = (df_ufc[[col]].applymap(type) != df_ufc[[col]].iloc[0].apply(type)).any(axis=1)\n",
      "C:\\Users\\Mosspants\\AppData\\Local\\Temp\\ipykernel_18080\\3917700388.py:3: FutureWarning: DataFrame.applymap has been deprecated. Use DataFrame.map instead.\n",
      "  weird = (df_ufc[[col]].applymap(type) != df_ufc[[col]].iloc[0].apply(type)).any(axis=1)\n",
      "C:\\Users\\Mosspants\\AppData\\Local\\Temp\\ipykernel_18080\\3917700388.py:3: FutureWarning: DataFrame.applymap has been deprecated. Use DataFrame.map instead.\n",
      "  weird = (df_ufc[[col]].applymap(type) != df_ufc[[col]].iloc[0].apply(type)).any(axis=1)\n",
      "C:\\Users\\Mosspants\\AppData\\Local\\Temp\\ipykernel_18080\\3917700388.py:3: FutureWarning: DataFrame.applymap has been deprecated. Use DataFrame.map instead.\n",
      "  weird = (df_ufc[[col]].applymap(type) != df_ufc[[col]].iloc[0].apply(type)).any(axis=1)\n",
      "C:\\Users\\Mosspants\\AppData\\Local\\Temp\\ipykernel_18080\\3917700388.py:3: FutureWarning: DataFrame.applymap has been deprecated. Use DataFrame.map instead.\n",
      "  weird = (df_ufc[[col]].applymap(type) != df_ufc[[col]].iloc[0].apply(type)).any(axis=1)\n",
      "C:\\Users\\Mosspants\\AppData\\Local\\Temp\\ipykernel_18080\\3917700388.py:3: FutureWarning: DataFrame.applymap has been deprecated. Use DataFrame.map instead.\n",
      "  weird = (df_ufc[[col]].applymap(type) != df_ufc[[col]].iloc[0].apply(type)).any(axis=1)\n",
      "C:\\Users\\Mosspants\\AppData\\Local\\Temp\\ipykernel_18080\\3917700388.py:3: FutureWarning: DataFrame.applymap has been deprecated. Use DataFrame.map instead.\n",
      "  weird = (df_ufc[[col]].applymap(type) != df_ufc[[col]].iloc[0].apply(type)).any(axis=1)\n",
      "C:\\Users\\Mosspants\\AppData\\Local\\Temp\\ipykernel_18080\\3917700388.py:3: FutureWarning: DataFrame.applymap has been deprecated. Use DataFrame.map instead.\n",
      "  weird = (df_ufc[[col]].applymap(type) != df_ufc[[col]].iloc[0].apply(type)).any(axis=1)\n",
      "C:\\Users\\Mosspants\\AppData\\Local\\Temp\\ipykernel_18080\\3917700388.py:3: FutureWarning: DataFrame.applymap has been deprecated. Use DataFrame.map instead.\n",
      "  weird = (df_ufc[[col]].applymap(type) != df_ufc[[col]].iloc[0].apply(type)).any(axis=1)\n"
     ]
    },
    {
     "name": "stdout",
     "output_type": "stream",
     "text": [
      "B_Stance\n",
      "R_Stance\n"
     ]
    },
    {
     "name": "stderr",
     "output_type": "stream",
     "text": [
      "C:\\Users\\Mosspants\\AppData\\Local\\Temp\\ipykernel_18080\\3917700388.py:3: FutureWarning: DataFrame.applymap has been deprecated. Use DataFrame.map instead.\n",
      "  weird = (df_ufc[[col]].applymap(type) != df_ufc[[col]].iloc[0].apply(type)).any(axis=1)\n",
      "C:\\Users\\Mosspants\\AppData\\Local\\Temp\\ipykernel_18080\\3917700388.py:3: FutureWarning: DataFrame.applymap has been deprecated. Use DataFrame.map instead.\n",
      "  weird = (df_ufc[[col]].applymap(type) != df_ufc[[col]].iloc[0].apply(type)).any(axis=1)\n",
      "C:\\Users\\Mosspants\\AppData\\Local\\Temp\\ipykernel_18080\\3917700388.py:3: FutureWarning: DataFrame.applymap has been deprecated. Use DataFrame.map instead.\n",
      "  weird = (df_ufc[[col]].applymap(type) != df_ufc[[col]].iloc[0].apply(type)).any(axis=1)\n",
      "C:\\Users\\Mosspants\\AppData\\Local\\Temp\\ipykernel_18080\\3917700388.py:3: FutureWarning: DataFrame.applymap has been deprecated. Use DataFrame.map instead.\n",
      "  weird = (df_ufc[[col]].applymap(type) != df_ufc[[col]].iloc[0].apply(type)).any(axis=1)\n",
      "C:\\Users\\Mosspants\\AppData\\Local\\Temp\\ipykernel_18080\\3917700388.py:3: FutureWarning: DataFrame.applymap has been deprecated. Use DataFrame.map instead.\n",
      "  weird = (df_ufc[[col]].applymap(type) != df_ufc[[col]].iloc[0].apply(type)).any(axis=1)\n",
      "C:\\Users\\Mosspants\\AppData\\Local\\Temp\\ipykernel_18080\\3917700388.py:3: FutureWarning: DataFrame.applymap has been deprecated. Use DataFrame.map instead.\n",
      "  weird = (df_ufc[[col]].applymap(type) != df_ufc[[col]].iloc[0].apply(type)).any(axis=1)\n",
      "C:\\Users\\Mosspants\\AppData\\Local\\Temp\\ipykernel_18080\\3917700388.py:3: FutureWarning: DataFrame.applymap has been deprecated. Use DataFrame.map instead.\n",
      "  weird = (df_ufc[[col]].applymap(type) != df_ufc[[col]].iloc[0].apply(type)).any(axis=1)\n",
      "C:\\Users\\Mosspants\\AppData\\Local\\Temp\\ipykernel_18080\\3917700388.py:3: FutureWarning: DataFrame.applymap has been deprecated. Use DataFrame.map instead.\n",
      "  weird = (df_ufc[[col]].applymap(type) != df_ufc[[col]].iloc[0].apply(type)).any(axis=1)\n",
      "C:\\Users\\Mosspants\\AppData\\Local\\Temp\\ipykernel_18080\\3917700388.py:3: FutureWarning: DataFrame.applymap has been deprecated. Use DataFrame.map instead.\n",
      "  weird = (df_ufc[[col]].applymap(type) != df_ufc[[col]].iloc[0].apply(type)).any(axis=1)\n",
      "C:\\Users\\Mosspants\\AppData\\Local\\Temp\\ipykernel_18080\\3917700388.py:3: FutureWarning: DataFrame.applymap has been deprecated. Use DataFrame.map instead.\n",
      "  weird = (df_ufc[[col]].applymap(type) != df_ufc[[col]].iloc[0].apply(type)).any(axis=1)\n",
      "C:\\Users\\Mosspants\\AppData\\Local\\Temp\\ipykernel_18080\\3917700388.py:3: FutureWarning: DataFrame.applymap has been deprecated. Use DataFrame.map instead.\n",
      "  weird = (df_ufc[[col]].applymap(type) != df_ufc[[col]].iloc[0].apply(type)).any(axis=1)\n",
      "C:\\Users\\Mosspants\\AppData\\Local\\Temp\\ipykernel_18080\\3917700388.py:3: FutureWarning: DataFrame.applymap has been deprecated. Use DataFrame.map instead.\n",
      "  weird = (df_ufc[[col]].applymap(type) != df_ufc[[col]].iloc[0].apply(type)).any(axis=1)\n",
      "C:\\Users\\Mosspants\\AppData\\Local\\Temp\\ipykernel_18080\\3917700388.py:3: FutureWarning: DataFrame.applymap has been deprecated. Use DataFrame.map instead.\n",
      "  weird = (df_ufc[[col]].applymap(type) != df_ufc[[col]].iloc[0].apply(type)).any(axis=1)\n",
      "C:\\Users\\Mosspants\\AppData\\Local\\Temp\\ipykernel_18080\\3917700388.py:3: FutureWarning: DataFrame.applymap has been deprecated. Use DataFrame.map instead.\n",
      "  weird = (df_ufc[[col]].applymap(type) != df_ufc[[col]].iloc[0].apply(type)).any(axis=1)\n",
      "C:\\Users\\Mosspants\\AppData\\Local\\Temp\\ipykernel_18080\\3917700388.py:3: FutureWarning: DataFrame.applymap has been deprecated. Use DataFrame.map instead.\n",
      "  weird = (df_ufc[[col]].applymap(type) != df_ufc[[col]].iloc[0].apply(type)).any(axis=1)\n",
      "C:\\Users\\Mosspants\\AppData\\Local\\Temp\\ipykernel_18080\\3917700388.py:3: FutureWarning: DataFrame.applymap has been deprecated. Use DataFrame.map instead.\n",
      "  weird = (df_ufc[[col]].applymap(type) != df_ufc[[col]].iloc[0].apply(type)).any(axis=1)\n",
      "C:\\Users\\Mosspants\\AppData\\Local\\Temp\\ipykernel_18080\\3917700388.py:3: FutureWarning: DataFrame.applymap has been deprecated. Use DataFrame.map instead.\n",
      "  weird = (df_ufc[[col]].applymap(type) != df_ufc[[col]].iloc[0].apply(type)).any(axis=1)\n",
      "C:\\Users\\Mosspants\\AppData\\Local\\Temp\\ipykernel_18080\\3917700388.py:3: FutureWarning: DataFrame.applymap has been deprecated. Use DataFrame.map instead.\n",
      "  weird = (df_ufc[[col]].applymap(type) != df_ufc[[col]].iloc[0].apply(type)).any(axis=1)\n",
      "C:\\Users\\Mosspants\\AppData\\Local\\Temp\\ipykernel_18080\\3917700388.py:3: FutureWarning: DataFrame.applymap has been deprecated. Use DataFrame.map instead.\n",
      "  weird = (df_ufc[[col]].applymap(type) != df_ufc[[col]].iloc[0].apply(type)).any(axis=1)\n",
      "C:\\Users\\Mosspants\\AppData\\Local\\Temp\\ipykernel_18080\\3917700388.py:3: FutureWarning: DataFrame.applymap has been deprecated. Use DataFrame.map instead.\n",
      "  weird = (df_ufc[[col]].applymap(type) != df_ufc[[col]].iloc[0].apply(type)).any(axis=1)\n",
      "C:\\Users\\Mosspants\\AppData\\Local\\Temp\\ipykernel_18080\\3917700388.py:3: FutureWarning: DataFrame.applymap has been deprecated. Use DataFrame.map instead.\n",
      "  weird = (df_ufc[[col]].applymap(type) != df_ufc[[col]].iloc[0].apply(type)).any(axis=1)\n",
      "C:\\Users\\Mosspants\\AppData\\Local\\Temp\\ipykernel_18080\\3917700388.py:3: FutureWarning: DataFrame.applymap has been deprecated. Use DataFrame.map instead.\n",
      "  weird = (df_ufc[[col]].applymap(type) != df_ufc[[col]].iloc[0].apply(type)).any(axis=1)\n",
      "C:\\Users\\Mosspants\\AppData\\Local\\Temp\\ipykernel_18080\\3917700388.py:3: FutureWarning: DataFrame.applymap has been deprecated. Use DataFrame.map instead.\n",
      "  weird = (df_ufc[[col]].applymap(type) != df_ufc[[col]].iloc[0].apply(type)).any(axis=1)\n",
      "C:\\Users\\Mosspants\\AppData\\Local\\Temp\\ipykernel_18080\\3917700388.py:3: FutureWarning: DataFrame.applymap has been deprecated. Use DataFrame.map instead.\n",
      "  weird = (df_ufc[[col]].applymap(type) != df_ufc[[col]].iloc[0].apply(type)).any(axis=1)\n",
      "C:\\Users\\Mosspants\\AppData\\Local\\Temp\\ipykernel_18080\\3917700388.py:3: FutureWarning: DataFrame.applymap has been deprecated. Use DataFrame.map instead.\n",
      "  weird = (df_ufc[[col]].applymap(type) != df_ufc[[col]].iloc[0].apply(type)).any(axis=1)\n",
      "C:\\Users\\Mosspants\\AppData\\Local\\Temp\\ipykernel_18080\\3917700388.py:3: FutureWarning: DataFrame.applymap has been deprecated. Use DataFrame.map instead.\n",
      "  weird = (df_ufc[[col]].applymap(type) != df_ufc[[col]].iloc[0].apply(type)).any(axis=1)\n",
      "C:\\Users\\Mosspants\\AppData\\Local\\Temp\\ipykernel_18080\\3917700388.py:3: FutureWarning: DataFrame.applymap has been deprecated. Use DataFrame.map instead.\n",
      "  weird = (df_ufc[[col]].applymap(type) != df_ufc[[col]].iloc[0].apply(type)).any(axis=1)\n",
      "C:\\Users\\Mosspants\\AppData\\Local\\Temp\\ipykernel_18080\\3917700388.py:3: FutureWarning: DataFrame.applymap has been deprecated. Use DataFrame.map instead.\n",
      "  weird = (df_ufc[[col]].applymap(type) != df_ufc[[col]].iloc[0].apply(type)).any(axis=1)\n",
      "C:\\Users\\Mosspants\\AppData\\Local\\Temp\\ipykernel_18080\\3917700388.py:3: FutureWarning: DataFrame.applymap has been deprecated. Use DataFrame.map instead.\n",
      "  weird = (df_ufc[[col]].applymap(type) != df_ufc[[col]].iloc[0].apply(type)).any(axis=1)\n",
      "C:\\Users\\Mosspants\\AppData\\Local\\Temp\\ipykernel_18080\\3917700388.py:3: FutureWarning: DataFrame.applymap has been deprecated. Use DataFrame.map instead.\n",
      "  weird = (df_ufc[[col]].applymap(type) != df_ufc[[col]].iloc[0].apply(type)).any(axis=1)\n"
     ]
    }
   ],
   "source": [
    "#Checking for mixed-type data\n",
    "for col in df_ufc.columns.tolist():\n",
    "    weird = (df_ufc[[col]].applymap(type) != df_ufc[[col]].iloc[0].apply(type)).any(axis=1)\n",
    "    if len (df_ufc[weird]) > 0:\n",
    "        print(col)"
   ]
  },
  {
   "cell_type": "markdown",
   "id": "8a3840e6",
   "metadata": {},
   "source": [
    "### Output included Referee, B_Stance, R_Stance."
   ]
  },
  {
   "cell_type": "code",
   "execution_count": 8,
   "id": "5028b6e5",
   "metadata": {},
   "outputs": [
    {
     "data": {
      "text/plain": [
       "dtype('O')"
      ]
     },
     "execution_count": 8,
     "metadata": {},
     "output_type": "execute_result"
    }
   ],
   "source": [
    "#Checking Referee\n",
    "df_ufc.Referee.dtype"
   ]
  },
  {
   "cell_type": "code",
   "execution_count": 9,
   "id": "cb77cc6d",
   "metadata": {},
   "outputs": [],
   "source": [
    "#Dtype shows object. Changing Referee to string to make sure\n",
    "df_ufc['Referee'] = df_ufc['Referee'].astype('str')"
   ]
  },
  {
   "cell_type": "code",
   "execution_count": 10,
   "id": "8ce23b1b",
   "metadata": {},
   "outputs": [
    {
     "data": {
      "text/plain": [
       "dtype('O')"
      ]
     },
     "execution_count": 10,
     "metadata": {},
     "output_type": "execute_result"
    }
   ],
   "source": [
    "#Checking change\n",
    "df_ufc.Referee.dtype"
   ]
  },
  {
   "cell_type": "code",
   "execution_count": 11,
   "id": "599d8317",
   "metadata": {},
   "outputs": [
    {
     "data": {
      "text/plain": [
       "dtype('O')"
      ]
     },
     "execution_count": 11,
     "metadata": {},
     "output_type": "execute_result"
    }
   ],
   "source": [
    "#Checking B_Stance\n",
    "df_ufc.B_Stance.dtype"
   ]
  },
  {
   "cell_type": "code",
   "execution_count": 12,
   "id": "6dea795e",
   "metadata": {},
   "outputs": [],
   "source": [
    "#Dtype shows object. Changing Referee to string to make sure\n",
    "df_ufc['B_Stance'] = df_ufc['B_Stance'].astype('str')"
   ]
  },
  {
   "cell_type": "code",
   "execution_count": 13,
   "id": "8e48ca2b",
   "metadata": {},
   "outputs": [
    {
     "data": {
      "text/plain": [
       "dtype('O')"
      ]
     },
     "execution_count": 13,
     "metadata": {},
     "output_type": "execute_result"
    }
   ],
   "source": [
    "#Checking change\n",
    "df_ufc.B_Stance.dtype"
   ]
  },
  {
   "cell_type": "code",
   "execution_count": 14,
   "id": "d7c08025",
   "metadata": {},
   "outputs": [
    {
     "data": {
      "text/plain": [
       "dtype('O')"
      ]
     },
     "execution_count": 14,
     "metadata": {},
     "output_type": "execute_result"
    }
   ],
   "source": [
    "#Checking Referee\n",
    "df_ufc.R_Stance.dtype"
   ]
  },
  {
   "cell_type": "code",
   "execution_count": 15,
   "id": "27cd79a7",
   "metadata": {},
   "outputs": [],
   "source": [
    "#Dtype shows object. Changing Referee to string to make sure\n",
    "df_ufc['R_Stance'] = df_ufc['R_Stance'].astype('str')"
   ]
  },
  {
   "cell_type": "code",
   "execution_count": 16,
   "id": "a859fac3",
   "metadata": {
    "scrolled": true
   },
   "outputs": [
    {
     "data": {
      "text/plain": [
       "dtype('O')"
      ]
     },
     "execution_count": 16,
     "metadata": {},
     "output_type": "execute_result"
    }
   ],
   "source": [
    "#Checking change\n",
    "df_ufc.R_Stance.dtype"
   ]
  },
  {
   "cell_type": "markdown",
   "id": "8bd15ab2",
   "metadata": {},
   "source": [
    "### Running mixed-type check again."
   ]
  },
  {
   "cell_type": "code",
   "execution_count": 17,
   "id": "86355b6f",
   "metadata": {},
   "outputs": [
    {
     "name": "stderr",
     "output_type": "stream",
     "text": [
      "C:\\Users\\Mosspants\\AppData\\Local\\Temp\\ipykernel_18080\\3260174985.py:3: FutureWarning: DataFrame.applymap has been deprecated. Use DataFrame.map instead.\n",
      "  weird = (df_ufc[[col]].applymap(type) != df_ufc[[col]].iloc[0].apply(type)).any(axis=1)\n",
      "C:\\Users\\Mosspants\\AppData\\Local\\Temp\\ipykernel_18080\\3260174985.py:3: FutureWarning: DataFrame.applymap has been deprecated. Use DataFrame.map instead.\n",
      "  weird = (df_ufc[[col]].applymap(type) != df_ufc[[col]].iloc[0].apply(type)).any(axis=1)\n",
      "C:\\Users\\Mosspants\\AppData\\Local\\Temp\\ipykernel_18080\\3260174985.py:3: FutureWarning: DataFrame.applymap has been deprecated. Use DataFrame.map instead.\n",
      "  weird = (df_ufc[[col]].applymap(type) != df_ufc[[col]].iloc[0].apply(type)).any(axis=1)\n",
      "C:\\Users\\Mosspants\\AppData\\Local\\Temp\\ipykernel_18080\\3260174985.py:3: FutureWarning: DataFrame.applymap has been deprecated. Use DataFrame.map instead.\n",
      "  weird = (df_ufc[[col]].applymap(type) != df_ufc[[col]].iloc[0].apply(type)).any(axis=1)\n",
      "C:\\Users\\Mosspants\\AppData\\Local\\Temp\\ipykernel_18080\\3260174985.py:3: FutureWarning: DataFrame.applymap has been deprecated. Use DataFrame.map instead.\n",
      "  weird = (df_ufc[[col]].applymap(type) != df_ufc[[col]].iloc[0].apply(type)).any(axis=1)\n",
      "C:\\Users\\Mosspants\\AppData\\Local\\Temp\\ipykernel_18080\\3260174985.py:3: FutureWarning: DataFrame.applymap has been deprecated. Use DataFrame.map instead.\n",
      "  weird = (df_ufc[[col]].applymap(type) != df_ufc[[col]].iloc[0].apply(type)).any(axis=1)\n",
      "C:\\Users\\Mosspants\\AppData\\Local\\Temp\\ipykernel_18080\\3260174985.py:3: FutureWarning: DataFrame.applymap has been deprecated. Use DataFrame.map instead.\n",
      "  weird = (df_ufc[[col]].applymap(type) != df_ufc[[col]].iloc[0].apply(type)).any(axis=1)\n",
      "C:\\Users\\Mosspants\\AppData\\Local\\Temp\\ipykernel_18080\\3260174985.py:3: FutureWarning: DataFrame.applymap has been deprecated. Use DataFrame.map instead.\n",
      "  weird = (df_ufc[[col]].applymap(type) != df_ufc[[col]].iloc[0].apply(type)).any(axis=1)\n",
      "C:\\Users\\Mosspants\\AppData\\Local\\Temp\\ipykernel_18080\\3260174985.py:3: FutureWarning: DataFrame.applymap has been deprecated. Use DataFrame.map instead.\n",
      "  weird = (df_ufc[[col]].applymap(type) != df_ufc[[col]].iloc[0].apply(type)).any(axis=1)\n",
      "C:\\Users\\Mosspants\\AppData\\Local\\Temp\\ipykernel_18080\\3260174985.py:3: FutureWarning: DataFrame.applymap has been deprecated. Use DataFrame.map instead.\n",
      "  weird = (df_ufc[[col]].applymap(type) != df_ufc[[col]].iloc[0].apply(type)).any(axis=1)\n",
      "C:\\Users\\Mosspants\\AppData\\Local\\Temp\\ipykernel_18080\\3260174985.py:3: FutureWarning: DataFrame.applymap has been deprecated. Use DataFrame.map instead.\n",
      "  weird = (df_ufc[[col]].applymap(type) != df_ufc[[col]].iloc[0].apply(type)).any(axis=1)\n",
      "C:\\Users\\Mosspants\\AppData\\Local\\Temp\\ipykernel_18080\\3260174985.py:3: FutureWarning: DataFrame.applymap has been deprecated. Use DataFrame.map instead.\n",
      "  weird = (df_ufc[[col]].applymap(type) != df_ufc[[col]].iloc[0].apply(type)).any(axis=1)\n",
      "C:\\Users\\Mosspants\\AppData\\Local\\Temp\\ipykernel_18080\\3260174985.py:3: FutureWarning: DataFrame.applymap has been deprecated. Use DataFrame.map instead.\n",
      "  weird = (df_ufc[[col]].applymap(type) != df_ufc[[col]].iloc[0].apply(type)).any(axis=1)\n",
      "C:\\Users\\Mosspants\\AppData\\Local\\Temp\\ipykernel_18080\\3260174985.py:3: FutureWarning: DataFrame.applymap has been deprecated. Use DataFrame.map instead.\n",
      "  weird = (df_ufc[[col]].applymap(type) != df_ufc[[col]].iloc[0].apply(type)).any(axis=1)\n",
      "C:\\Users\\Mosspants\\AppData\\Local\\Temp\\ipykernel_18080\\3260174985.py:3: FutureWarning: DataFrame.applymap has been deprecated. Use DataFrame.map instead.\n",
      "  weird = (df_ufc[[col]].applymap(type) != df_ufc[[col]].iloc[0].apply(type)).any(axis=1)\n",
      "C:\\Users\\Mosspants\\AppData\\Local\\Temp\\ipykernel_18080\\3260174985.py:3: FutureWarning: DataFrame.applymap has been deprecated. Use DataFrame.map instead.\n",
      "  weird = (df_ufc[[col]].applymap(type) != df_ufc[[col]].iloc[0].apply(type)).any(axis=1)\n",
      "C:\\Users\\Mosspants\\AppData\\Local\\Temp\\ipykernel_18080\\3260174985.py:3: FutureWarning: DataFrame.applymap has been deprecated. Use DataFrame.map instead.\n",
      "  weird = (df_ufc[[col]].applymap(type) != df_ufc[[col]].iloc[0].apply(type)).any(axis=1)\n",
      "C:\\Users\\Mosspants\\AppData\\Local\\Temp\\ipykernel_18080\\3260174985.py:3: FutureWarning: DataFrame.applymap has been deprecated. Use DataFrame.map instead.\n",
      "  weird = (df_ufc[[col]].applymap(type) != df_ufc[[col]].iloc[0].apply(type)).any(axis=1)\n",
      "C:\\Users\\Mosspants\\AppData\\Local\\Temp\\ipykernel_18080\\3260174985.py:3: FutureWarning: DataFrame.applymap has been deprecated. Use DataFrame.map instead.\n",
      "  weird = (df_ufc[[col]].applymap(type) != df_ufc[[col]].iloc[0].apply(type)).any(axis=1)\n",
      "C:\\Users\\Mosspants\\AppData\\Local\\Temp\\ipykernel_18080\\3260174985.py:3: FutureWarning: DataFrame.applymap has been deprecated. Use DataFrame.map instead.\n",
      "  weird = (df_ufc[[col]].applymap(type) != df_ufc[[col]].iloc[0].apply(type)).any(axis=1)\n",
      "C:\\Users\\Mosspants\\AppData\\Local\\Temp\\ipykernel_18080\\3260174985.py:3: FutureWarning: DataFrame.applymap has been deprecated. Use DataFrame.map instead.\n",
      "  weird = (df_ufc[[col]].applymap(type) != df_ufc[[col]].iloc[0].apply(type)).any(axis=1)\n",
      "C:\\Users\\Mosspants\\AppData\\Local\\Temp\\ipykernel_18080\\3260174985.py:3: FutureWarning: DataFrame.applymap has been deprecated. Use DataFrame.map instead.\n",
      "  weird = (df_ufc[[col]].applymap(type) != df_ufc[[col]].iloc[0].apply(type)).any(axis=1)\n",
      "C:\\Users\\Mosspants\\AppData\\Local\\Temp\\ipykernel_18080\\3260174985.py:3: FutureWarning: DataFrame.applymap has been deprecated. Use DataFrame.map instead.\n",
      "  weird = (df_ufc[[col]].applymap(type) != df_ufc[[col]].iloc[0].apply(type)).any(axis=1)\n",
      "C:\\Users\\Mosspants\\AppData\\Local\\Temp\\ipykernel_18080\\3260174985.py:3: FutureWarning: DataFrame.applymap has been deprecated. Use DataFrame.map instead.\n",
      "  weird = (df_ufc[[col]].applymap(type) != df_ufc[[col]].iloc[0].apply(type)).any(axis=1)\n",
      "C:\\Users\\Mosspants\\AppData\\Local\\Temp\\ipykernel_18080\\3260174985.py:3: FutureWarning: DataFrame.applymap has been deprecated. Use DataFrame.map instead.\n",
      "  weird = (df_ufc[[col]].applymap(type) != df_ufc[[col]].iloc[0].apply(type)).any(axis=1)\n",
      "C:\\Users\\Mosspants\\AppData\\Local\\Temp\\ipykernel_18080\\3260174985.py:3: FutureWarning: DataFrame.applymap has been deprecated. Use DataFrame.map instead.\n",
      "  weird = (df_ufc[[col]].applymap(type) != df_ufc[[col]].iloc[0].apply(type)).any(axis=1)\n",
      "C:\\Users\\Mosspants\\AppData\\Local\\Temp\\ipykernel_18080\\3260174985.py:3: FutureWarning: DataFrame.applymap has been deprecated. Use DataFrame.map instead.\n",
      "  weird = (df_ufc[[col]].applymap(type) != df_ufc[[col]].iloc[0].apply(type)).any(axis=1)\n",
      "C:\\Users\\Mosspants\\AppData\\Local\\Temp\\ipykernel_18080\\3260174985.py:3: FutureWarning: DataFrame.applymap has been deprecated. Use DataFrame.map instead.\n",
      "  weird = (df_ufc[[col]].applymap(type) != df_ufc[[col]].iloc[0].apply(type)).any(axis=1)\n",
      "C:\\Users\\Mosspants\\AppData\\Local\\Temp\\ipykernel_18080\\3260174985.py:3: FutureWarning: DataFrame.applymap has been deprecated. Use DataFrame.map instead.\n",
      "  weird = (df_ufc[[col]].applymap(type) != df_ufc[[col]].iloc[0].apply(type)).any(axis=1)\n",
      "C:\\Users\\Mosspants\\AppData\\Local\\Temp\\ipykernel_18080\\3260174985.py:3: FutureWarning: DataFrame.applymap has been deprecated. Use DataFrame.map instead.\n",
      "  weird = (df_ufc[[col]].applymap(type) != df_ufc[[col]].iloc[0].apply(type)).any(axis=1)\n",
      "C:\\Users\\Mosspants\\AppData\\Local\\Temp\\ipykernel_18080\\3260174985.py:3: FutureWarning: DataFrame.applymap has been deprecated. Use DataFrame.map instead.\n",
      "  weird = (df_ufc[[col]].applymap(type) != df_ufc[[col]].iloc[0].apply(type)).any(axis=1)\n",
      "C:\\Users\\Mosspants\\AppData\\Local\\Temp\\ipykernel_18080\\3260174985.py:3: FutureWarning: DataFrame.applymap has been deprecated. Use DataFrame.map instead.\n",
      "  weird = (df_ufc[[col]].applymap(type) != df_ufc[[col]].iloc[0].apply(type)).any(axis=1)\n",
      "C:\\Users\\Mosspants\\AppData\\Local\\Temp\\ipykernel_18080\\3260174985.py:3: FutureWarning: DataFrame.applymap has been deprecated. Use DataFrame.map instead.\n",
      "  weird = (df_ufc[[col]].applymap(type) != df_ufc[[col]].iloc[0].apply(type)).any(axis=1)\n",
      "C:\\Users\\Mosspants\\AppData\\Local\\Temp\\ipykernel_18080\\3260174985.py:3: FutureWarning: DataFrame.applymap has been deprecated. Use DataFrame.map instead.\n",
      "  weird = (df_ufc[[col]].applymap(type) != df_ufc[[col]].iloc[0].apply(type)).any(axis=1)\n",
      "C:\\Users\\Mosspants\\AppData\\Local\\Temp\\ipykernel_18080\\3260174985.py:3: FutureWarning: DataFrame.applymap has been deprecated. Use DataFrame.map instead.\n",
      "  weird = (df_ufc[[col]].applymap(type) != df_ufc[[col]].iloc[0].apply(type)).any(axis=1)\n",
      "C:\\Users\\Mosspants\\AppData\\Local\\Temp\\ipykernel_18080\\3260174985.py:3: FutureWarning: DataFrame.applymap has been deprecated. Use DataFrame.map instead.\n",
      "  weird = (df_ufc[[col]].applymap(type) != df_ufc[[col]].iloc[0].apply(type)).any(axis=1)\n",
      "C:\\Users\\Mosspants\\AppData\\Local\\Temp\\ipykernel_18080\\3260174985.py:3: FutureWarning: DataFrame.applymap has been deprecated. Use DataFrame.map instead.\n",
      "  weird = (df_ufc[[col]].applymap(type) != df_ufc[[col]].iloc[0].apply(type)).any(axis=1)\n",
      "C:\\Users\\Mosspants\\AppData\\Local\\Temp\\ipykernel_18080\\3260174985.py:3: FutureWarning: DataFrame.applymap has been deprecated. Use DataFrame.map instead.\n",
      "  weird = (df_ufc[[col]].applymap(type) != df_ufc[[col]].iloc[0].apply(type)).any(axis=1)\n",
      "C:\\Users\\Mosspants\\AppData\\Local\\Temp\\ipykernel_18080\\3260174985.py:3: FutureWarning: DataFrame.applymap has been deprecated. Use DataFrame.map instead.\n",
      "  weird = (df_ufc[[col]].applymap(type) != df_ufc[[col]].iloc[0].apply(type)).any(axis=1)\n",
      "C:\\Users\\Mosspants\\AppData\\Local\\Temp\\ipykernel_18080\\3260174985.py:3: FutureWarning: DataFrame.applymap has been deprecated. Use DataFrame.map instead.\n",
      "  weird = (df_ufc[[col]].applymap(type) != df_ufc[[col]].iloc[0].apply(type)).any(axis=1)\n",
      "C:\\Users\\Mosspants\\AppData\\Local\\Temp\\ipykernel_18080\\3260174985.py:3: FutureWarning: DataFrame.applymap has been deprecated. Use DataFrame.map instead.\n",
      "  weird = (df_ufc[[col]].applymap(type) != df_ufc[[col]].iloc[0].apply(type)).any(axis=1)\n",
      "C:\\Users\\Mosspants\\AppData\\Local\\Temp\\ipykernel_18080\\3260174985.py:3: FutureWarning: DataFrame.applymap has been deprecated. Use DataFrame.map instead.\n",
      "  weird = (df_ufc[[col]].applymap(type) != df_ufc[[col]].iloc[0].apply(type)).any(axis=1)\n",
      "C:\\Users\\Mosspants\\AppData\\Local\\Temp\\ipykernel_18080\\3260174985.py:3: FutureWarning: DataFrame.applymap has been deprecated. Use DataFrame.map instead.\n",
      "  weird = (df_ufc[[col]].applymap(type) != df_ufc[[col]].iloc[0].apply(type)).any(axis=1)\n",
      "C:\\Users\\Mosspants\\AppData\\Local\\Temp\\ipykernel_18080\\3260174985.py:3: FutureWarning: DataFrame.applymap has been deprecated. Use DataFrame.map instead.\n",
      "  weird = (df_ufc[[col]].applymap(type) != df_ufc[[col]].iloc[0].apply(type)).any(axis=1)\n",
      "C:\\Users\\Mosspants\\AppData\\Local\\Temp\\ipykernel_18080\\3260174985.py:3: FutureWarning: DataFrame.applymap has been deprecated. Use DataFrame.map instead.\n",
      "  weird = (df_ufc[[col]].applymap(type) != df_ufc[[col]].iloc[0].apply(type)).any(axis=1)\n",
      "C:\\Users\\Mosspants\\AppData\\Local\\Temp\\ipykernel_18080\\3260174985.py:3: FutureWarning: DataFrame.applymap has been deprecated. Use DataFrame.map instead.\n",
      "  weird = (df_ufc[[col]].applymap(type) != df_ufc[[col]].iloc[0].apply(type)).any(axis=1)\n",
      "C:\\Users\\Mosspants\\AppData\\Local\\Temp\\ipykernel_18080\\3260174985.py:3: FutureWarning: DataFrame.applymap has been deprecated. Use DataFrame.map instead.\n",
      "  weird = (df_ufc[[col]].applymap(type) != df_ufc[[col]].iloc[0].apply(type)).any(axis=1)\n",
      "C:\\Users\\Mosspants\\AppData\\Local\\Temp\\ipykernel_18080\\3260174985.py:3: FutureWarning: DataFrame.applymap has been deprecated. Use DataFrame.map instead.\n",
      "  weird = (df_ufc[[col]].applymap(type) != df_ufc[[col]].iloc[0].apply(type)).any(axis=1)\n",
      "C:\\Users\\Mosspants\\AppData\\Local\\Temp\\ipykernel_18080\\3260174985.py:3: FutureWarning: DataFrame.applymap has been deprecated. Use DataFrame.map instead.\n",
      "  weird = (df_ufc[[col]].applymap(type) != df_ufc[[col]].iloc[0].apply(type)).any(axis=1)\n",
      "C:\\Users\\Mosspants\\AppData\\Local\\Temp\\ipykernel_18080\\3260174985.py:3: FutureWarning: DataFrame.applymap has been deprecated. Use DataFrame.map instead.\n",
      "  weird = (df_ufc[[col]].applymap(type) != df_ufc[[col]].iloc[0].apply(type)).any(axis=1)\n",
      "C:\\Users\\Mosspants\\AppData\\Local\\Temp\\ipykernel_18080\\3260174985.py:3: FutureWarning: DataFrame.applymap has been deprecated. Use DataFrame.map instead.\n",
      "  weird = (df_ufc[[col]].applymap(type) != df_ufc[[col]].iloc[0].apply(type)).any(axis=1)\n",
      "C:\\Users\\Mosspants\\AppData\\Local\\Temp\\ipykernel_18080\\3260174985.py:3: FutureWarning: DataFrame.applymap has been deprecated. Use DataFrame.map instead.\n",
      "  weird = (df_ufc[[col]].applymap(type) != df_ufc[[col]].iloc[0].apply(type)).any(axis=1)\n",
      "C:\\Users\\Mosspants\\AppData\\Local\\Temp\\ipykernel_18080\\3260174985.py:3: FutureWarning: DataFrame.applymap has been deprecated. Use DataFrame.map instead.\n",
      "  weird = (df_ufc[[col]].applymap(type) != df_ufc[[col]].iloc[0].apply(type)).any(axis=1)\n",
      "C:\\Users\\Mosspants\\AppData\\Local\\Temp\\ipykernel_18080\\3260174985.py:3: FutureWarning: DataFrame.applymap has been deprecated. Use DataFrame.map instead.\n",
      "  weird = (df_ufc[[col]].applymap(type) != df_ufc[[col]].iloc[0].apply(type)).any(axis=1)\n",
      "C:\\Users\\Mosspants\\AppData\\Local\\Temp\\ipykernel_18080\\3260174985.py:3: FutureWarning: DataFrame.applymap has been deprecated. Use DataFrame.map instead.\n",
      "  weird = (df_ufc[[col]].applymap(type) != df_ufc[[col]].iloc[0].apply(type)).any(axis=1)\n",
      "C:\\Users\\Mosspants\\AppData\\Local\\Temp\\ipykernel_18080\\3260174985.py:3: FutureWarning: DataFrame.applymap has been deprecated. Use DataFrame.map instead.\n",
      "  weird = (df_ufc[[col]].applymap(type) != df_ufc[[col]].iloc[0].apply(type)).any(axis=1)\n",
      "C:\\Users\\Mosspants\\AppData\\Local\\Temp\\ipykernel_18080\\3260174985.py:3: FutureWarning: DataFrame.applymap has been deprecated. Use DataFrame.map instead.\n",
      "  weird = (df_ufc[[col]].applymap(type) != df_ufc[[col]].iloc[0].apply(type)).any(axis=1)\n",
      "C:\\Users\\Mosspants\\AppData\\Local\\Temp\\ipykernel_18080\\3260174985.py:3: FutureWarning: DataFrame.applymap has been deprecated. Use DataFrame.map instead.\n",
      "  weird = (df_ufc[[col]].applymap(type) != df_ufc[[col]].iloc[0].apply(type)).any(axis=1)\n",
      "C:\\Users\\Mosspants\\AppData\\Local\\Temp\\ipykernel_18080\\3260174985.py:3: FutureWarning: DataFrame.applymap has been deprecated. Use DataFrame.map instead.\n",
      "  weird = (df_ufc[[col]].applymap(type) != df_ufc[[col]].iloc[0].apply(type)).any(axis=1)\n",
      "C:\\Users\\Mosspants\\AppData\\Local\\Temp\\ipykernel_18080\\3260174985.py:3: FutureWarning: DataFrame.applymap has been deprecated. Use DataFrame.map instead.\n",
      "  weird = (df_ufc[[col]].applymap(type) != df_ufc[[col]].iloc[0].apply(type)).any(axis=1)\n",
      "C:\\Users\\Mosspants\\AppData\\Local\\Temp\\ipykernel_18080\\3260174985.py:3: FutureWarning: DataFrame.applymap has been deprecated. Use DataFrame.map instead.\n",
      "  weird = (df_ufc[[col]].applymap(type) != df_ufc[[col]].iloc[0].apply(type)).any(axis=1)\n"
     ]
    },
    {
     "name": "stderr",
     "output_type": "stream",
     "text": [
      "C:\\Users\\Mosspants\\AppData\\Local\\Temp\\ipykernel_18080\\3260174985.py:3: FutureWarning: DataFrame.applymap has been deprecated. Use DataFrame.map instead.\n",
      "  weird = (df_ufc[[col]].applymap(type) != df_ufc[[col]].iloc[0].apply(type)).any(axis=1)\n",
      "C:\\Users\\Mosspants\\AppData\\Local\\Temp\\ipykernel_18080\\3260174985.py:3: FutureWarning: DataFrame.applymap has been deprecated. Use DataFrame.map instead.\n",
      "  weird = (df_ufc[[col]].applymap(type) != df_ufc[[col]].iloc[0].apply(type)).any(axis=1)\n",
      "C:\\Users\\Mosspants\\AppData\\Local\\Temp\\ipykernel_18080\\3260174985.py:3: FutureWarning: DataFrame.applymap has been deprecated. Use DataFrame.map instead.\n",
      "  weird = (df_ufc[[col]].applymap(type) != df_ufc[[col]].iloc[0].apply(type)).any(axis=1)\n",
      "C:\\Users\\Mosspants\\AppData\\Local\\Temp\\ipykernel_18080\\3260174985.py:3: FutureWarning: DataFrame.applymap has been deprecated. Use DataFrame.map instead.\n",
      "  weird = (df_ufc[[col]].applymap(type) != df_ufc[[col]].iloc[0].apply(type)).any(axis=1)\n",
      "C:\\Users\\Mosspants\\AppData\\Local\\Temp\\ipykernel_18080\\3260174985.py:3: FutureWarning: DataFrame.applymap has been deprecated. Use DataFrame.map instead.\n",
      "  weird = (df_ufc[[col]].applymap(type) != df_ufc[[col]].iloc[0].apply(type)).any(axis=1)\n",
      "C:\\Users\\Mosspants\\AppData\\Local\\Temp\\ipykernel_18080\\3260174985.py:3: FutureWarning: DataFrame.applymap has been deprecated. Use DataFrame.map instead.\n",
      "  weird = (df_ufc[[col]].applymap(type) != df_ufc[[col]].iloc[0].apply(type)).any(axis=1)\n",
      "C:\\Users\\Mosspants\\AppData\\Local\\Temp\\ipykernel_18080\\3260174985.py:3: FutureWarning: DataFrame.applymap has been deprecated. Use DataFrame.map instead.\n",
      "  weird = (df_ufc[[col]].applymap(type) != df_ufc[[col]].iloc[0].apply(type)).any(axis=1)\n",
      "C:\\Users\\Mosspants\\AppData\\Local\\Temp\\ipykernel_18080\\3260174985.py:3: FutureWarning: DataFrame.applymap has been deprecated. Use DataFrame.map instead.\n",
      "  weird = (df_ufc[[col]].applymap(type) != df_ufc[[col]].iloc[0].apply(type)).any(axis=1)\n",
      "C:\\Users\\Mosspants\\AppData\\Local\\Temp\\ipykernel_18080\\3260174985.py:3: FutureWarning: DataFrame.applymap has been deprecated. Use DataFrame.map instead.\n",
      "  weird = (df_ufc[[col]].applymap(type) != df_ufc[[col]].iloc[0].apply(type)).any(axis=1)\n",
      "C:\\Users\\Mosspants\\AppData\\Local\\Temp\\ipykernel_18080\\3260174985.py:3: FutureWarning: DataFrame.applymap has been deprecated. Use DataFrame.map instead.\n",
      "  weird = (df_ufc[[col]].applymap(type) != df_ufc[[col]].iloc[0].apply(type)).any(axis=1)\n",
      "C:\\Users\\Mosspants\\AppData\\Local\\Temp\\ipykernel_18080\\3260174985.py:3: FutureWarning: DataFrame.applymap has been deprecated. Use DataFrame.map instead.\n",
      "  weird = (df_ufc[[col]].applymap(type) != df_ufc[[col]].iloc[0].apply(type)).any(axis=1)\n",
      "C:\\Users\\Mosspants\\AppData\\Local\\Temp\\ipykernel_18080\\3260174985.py:3: FutureWarning: DataFrame.applymap has been deprecated. Use DataFrame.map instead.\n",
      "  weird = (df_ufc[[col]].applymap(type) != df_ufc[[col]].iloc[0].apply(type)).any(axis=1)\n",
      "C:\\Users\\Mosspants\\AppData\\Local\\Temp\\ipykernel_18080\\3260174985.py:3: FutureWarning: DataFrame.applymap has been deprecated. Use DataFrame.map instead.\n",
      "  weird = (df_ufc[[col]].applymap(type) != df_ufc[[col]].iloc[0].apply(type)).any(axis=1)\n",
      "C:\\Users\\Mosspants\\AppData\\Local\\Temp\\ipykernel_18080\\3260174985.py:3: FutureWarning: DataFrame.applymap has been deprecated. Use DataFrame.map instead.\n",
      "  weird = (df_ufc[[col]].applymap(type) != df_ufc[[col]].iloc[0].apply(type)).any(axis=1)\n",
      "C:\\Users\\Mosspants\\AppData\\Local\\Temp\\ipykernel_18080\\3260174985.py:3: FutureWarning: DataFrame.applymap has been deprecated. Use DataFrame.map instead.\n",
      "  weird = (df_ufc[[col]].applymap(type) != df_ufc[[col]].iloc[0].apply(type)).any(axis=1)\n",
      "C:\\Users\\Mosspants\\AppData\\Local\\Temp\\ipykernel_18080\\3260174985.py:3: FutureWarning: DataFrame.applymap has been deprecated. Use DataFrame.map instead.\n",
      "  weird = (df_ufc[[col]].applymap(type) != df_ufc[[col]].iloc[0].apply(type)).any(axis=1)\n",
      "C:\\Users\\Mosspants\\AppData\\Local\\Temp\\ipykernel_18080\\3260174985.py:3: FutureWarning: DataFrame.applymap has been deprecated. Use DataFrame.map instead.\n",
      "  weird = (df_ufc[[col]].applymap(type) != df_ufc[[col]].iloc[0].apply(type)).any(axis=1)\n",
      "C:\\Users\\Mosspants\\AppData\\Local\\Temp\\ipykernel_18080\\3260174985.py:3: FutureWarning: DataFrame.applymap has been deprecated. Use DataFrame.map instead.\n",
      "  weird = (df_ufc[[col]].applymap(type) != df_ufc[[col]].iloc[0].apply(type)).any(axis=1)\n",
      "C:\\Users\\Mosspants\\AppData\\Local\\Temp\\ipykernel_18080\\3260174985.py:3: FutureWarning: DataFrame.applymap has been deprecated. Use DataFrame.map instead.\n",
      "  weird = (df_ufc[[col]].applymap(type) != df_ufc[[col]].iloc[0].apply(type)).any(axis=1)\n",
      "C:\\Users\\Mosspants\\AppData\\Local\\Temp\\ipykernel_18080\\3260174985.py:3: FutureWarning: DataFrame.applymap has been deprecated. Use DataFrame.map instead.\n",
      "  weird = (df_ufc[[col]].applymap(type) != df_ufc[[col]].iloc[0].apply(type)).any(axis=1)\n",
      "C:\\Users\\Mosspants\\AppData\\Local\\Temp\\ipykernel_18080\\3260174985.py:3: FutureWarning: DataFrame.applymap has been deprecated. Use DataFrame.map instead.\n",
      "  weird = (df_ufc[[col]].applymap(type) != df_ufc[[col]].iloc[0].apply(type)).any(axis=1)\n",
      "C:\\Users\\Mosspants\\AppData\\Local\\Temp\\ipykernel_18080\\3260174985.py:3: FutureWarning: DataFrame.applymap has been deprecated. Use DataFrame.map instead.\n",
      "  weird = (df_ufc[[col]].applymap(type) != df_ufc[[col]].iloc[0].apply(type)).any(axis=1)\n",
      "C:\\Users\\Mosspants\\AppData\\Local\\Temp\\ipykernel_18080\\3260174985.py:3: FutureWarning: DataFrame.applymap has been deprecated. Use DataFrame.map instead.\n",
      "  weird = (df_ufc[[col]].applymap(type) != df_ufc[[col]].iloc[0].apply(type)).any(axis=1)\n",
      "C:\\Users\\Mosspants\\AppData\\Local\\Temp\\ipykernel_18080\\3260174985.py:3: FutureWarning: DataFrame.applymap has been deprecated. Use DataFrame.map instead.\n",
      "  weird = (df_ufc[[col]].applymap(type) != df_ufc[[col]].iloc[0].apply(type)).any(axis=1)\n",
      "C:\\Users\\Mosspants\\AppData\\Local\\Temp\\ipykernel_18080\\3260174985.py:3: FutureWarning: DataFrame.applymap has been deprecated. Use DataFrame.map instead.\n",
      "  weird = (df_ufc[[col]].applymap(type) != df_ufc[[col]].iloc[0].apply(type)).any(axis=1)\n",
      "C:\\Users\\Mosspants\\AppData\\Local\\Temp\\ipykernel_18080\\3260174985.py:3: FutureWarning: DataFrame.applymap has been deprecated. Use DataFrame.map instead.\n",
      "  weird = (df_ufc[[col]].applymap(type) != df_ufc[[col]].iloc[0].apply(type)).any(axis=1)\n",
      "C:\\Users\\Mosspants\\AppData\\Local\\Temp\\ipykernel_18080\\3260174985.py:3: FutureWarning: DataFrame.applymap has been deprecated. Use DataFrame.map instead.\n",
      "  weird = (df_ufc[[col]].applymap(type) != df_ufc[[col]].iloc[0].apply(type)).any(axis=1)\n",
      "C:\\Users\\Mosspants\\AppData\\Local\\Temp\\ipykernel_18080\\3260174985.py:3: FutureWarning: DataFrame.applymap has been deprecated. Use DataFrame.map instead.\n",
      "  weird = (df_ufc[[col]].applymap(type) != df_ufc[[col]].iloc[0].apply(type)).any(axis=1)\n",
      "C:\\Users\\Mosspants\\AppData\\Local\\Temp\\ipykernel_18080\\3260174985.py:3: FutureWarning: DataFrame.applymap has been deprecated. Use DataFrame.map instead.\n",
      "  weird = (df_ufc[[col]].applymap(type) != df_ufc[[col]].iloc[0].apply(type)).any(axis=1)\n",
      "C:\\Users\\Mosspants\\AppData\\Local\\Temp\\ipykernel_18080\\3260174985.py:3: FutureWarning: DataFrame.applymap has been deprecated. Use DataFrame.map instead.\n",
      "  weird = (df_ufc[[col]].applymap(type) != df_ufc[[col]].iloc[0].apply(type)).any(axis=1)\n",
      "C:\\Users\\Mosspants\\AppData\\Local\\Temp\\ipykernel_18080\\3260174985.py:3: FutureWarning: DataFrame.applymap has been deprecated. Use DataFrame.map instead.\n",
      "  weird = (df_ufc[[col]].applymap(type) != df_ufc[[col]].iloc[0].apply(type)).any(axis=1)\n",
      "C:\\Users\\Mosspants\\AppData\\Local\\Temp\\ipykernel_18080\\3260174985.py:3: FutureWarning: DataFrame.applymap has been deprecated. Use DataFrame.map instead.\n",
      "  weird = (df_ufc[[col]].applymap(type) != df_ufc[[col]].iloc[0].apply(type)).any(axis=1)\n",
      "C:\\Users\\Mosspants\\AppData\\Local\\Temp\\ipykernel_18080\\3260174985.py:3: FutureWarning: DataFrame.applymap has been deprecated. Use DataFrame.map instead.\n",
      "  weird = (df_ufc[[col]].applymap(type) != df_ufc[[col]].iloc[0].apply(type)).any(axis=1)\n",
      "C:\\Users\\Mosspants\\AppData\\Local\\Temp\\ipykernel_18080\\3260174985.py:3: FutureWarning: DataFrame.applymap has been deprecated. Use DataFrame.map instead.\n",
      "  weird = (df_ufc[[col]].applymap(type) != df_ufc[[col]].iloc[0].apply(type)).any(axis=1)\n",
      "C:\\Users\\Mosspants\\AppData\\Local\\Temp\\ipykernel_18080\\3260174985.py:3: FutureWarning: DataFrame.applymap has been deprecated. Use DataFrame.map instead.\n",
      "  weird = (df_ufc[[col]].applymap(type) != df_ufc[[col]].iloc[0].apply(type)).any(axis=1)\n",
      "C:\\Users\\Mosspants\\AppData\\Local\\Temp\\ipykernel_18080\\3260174985.py:3: FutureWarning: DataFrame.applymap has been deprecated. Use DataFrame.map instead.\n",
      "  weird = (df_ufc[[col]].applymap(type) != df_ufc[[col]].iloc[0].apply(type)).any(axis=1)\n",
      "C:\\Users\\Mosspants\\AppData\\Local\\Temp\\ipykernel_18080\\3260174985.py:3: FutureWarning: DataFrame.applymap has been deprecated. Use DataFrame.map instead.\n",
      "  weird = (df_ufc[[col]].applymap(type) != df_ufc[[col]].iloc[0].apply(type)).any(axis=1)\n",
      "C:\\Users\\Mosspants\\AppData\\Local\\Temp\\ipykernel_18080\\3260174985.py:3: FutureWarning: DataFrame.applymap has been deprecated. Use DataFrame.map instead.\n",
      "  weird = (df_ufc[[col]].applymap(type) != df_ufc[[col]].iloc[0].apply(type)).any(axis=1)\n",
      "C:\\Users\\Mosspants\\AppData\\Local\\Temp\\ipykernel_18080\\3260174985.py:3: FutureWarning: DataFrame.applymap has been deprecated. Use DataFrame.map instead.\n",
      "  weird = (df_ufc[[col]].applymap(type) != df_ufc[[col]].iloc[0].apply(type)).any(axis=1)\n",
      "C:\\Users\\Mosspants\\AppData\\Local\\Temp\\ipykernel_18080\\3260174985.py:3: FutureWarning: DataFrame.applymap has been deprecated. Use DataFrame.map instead.\n",
      "  weird = (df_ufc[[col]].applymap(type) != df_ufc[[col]].iloc[0].apply(type)).any(axis=1)\n",
      "C:\\Users\\Mosspants\\AppData\\Local\\Temp\\ipykernel_18080\\3260174985.py:3: FutureWarning: DataFrame.applymap has been deprecated. Use DataFrame.map instead.\n",
      "  weird = (df_ufc[[col]].applymap(type) != df_ufc[[col]].iloc[0].apply(type)).any(axis=1)\n",
      "C:\\Users\\Mosspants\\AppData\\Local\\Temp\\ipykernel_18080\\3260174985.py:3: FutureWarning: DataFrame.applymap has been deprecated. Use DataFrame.map instead.\n",
      "  weird = (df_ufc[[col]].applymap(type) != df_ufc[[col]].iloc[0].apply(type)).any(axis=1)\n",
      "C:\\Users\\Mosspants\\AppData\\Local\\Temp\\ipykernel_18080\\3260174985.py:3: FutureWarning: DataFrame.applymap has been deprecated. Use DataFrame.map instead.\n",
      "  weird = (df_ufc[[col]].applymap(type) != df_ufc[[col]].iloc[0].apply(type)).any(axis=1)\n",
      "C:\\Users\\Mosspants\\AppData\\Local\\Temp\\ipykernel_18080\\3260174985.py:3: FutureWarning: DataFrame.applymap has been deprecated. Use DataFrame.map instead.\n",
      "  weird = (df_ufc[[col]].applymap(type) != df_ufc[[col]].iloc[0].apply(type)).any(axis=1)\n",
      "C:\\Users\\Mosspants\\AppData\\Local\\Temp\\ipykernel_18080\\3260174985.py:3: FutureWarning: DataFrame.applymap has been deprecated. Use DataFrame.map instead.\n",
      "  weird = (df_ufc[[col]].applymap(type) != df_ufc[[col]].iloc[0].apply(type)).any(axis=1)\n",
      "C:\\Users\\Mosspants\\AppData\\Local\\Temp\\ipykernel_18080\\3260174985.py:3: FutureWarning: DataFrame.applymap has been deprecated. Use DataFrame.map instead.\n",
      "  weird = (df_ufc[[col]].applymap(type) != df_ufc[[col]].iloc[0].apply(type)).any(axis=1)\n",
      "C:\\Users\\Mosspants\\AppData\\Local\\Temp\\ipykernel_18080\\3260174985.py:3: FutureWarning: DataFrame.applymap has been deprecated. Use DataFrame.map instead.\n",
      "  weird = (df_ufc[[col]].applymap(type) != df_ufc[[col]].iloc[0].apply(type)).any(axis=1)\n",
      "C:\\Users\\Mosspants\\AppData\\Local\\Temp\\ipykernel_18080\\3260174985.py:3: FutureWarning: DataFrame.applymap has been deprecated. Use DataFrame.map instead.\n",
      "  weird = (df_ufc[[col]].applymap(type) != df_ufc[[col]].iloc[0].apply(type)).any(axis=1)\n",
      "C:\\Users\\Mosspants\\AppData\\Local\\Temp\\ipykernel_18080\\3260174985.py:3: FutureWarning: DataFrame.applymap has been deprecated. Use DataFrame.map instead.\n",
      "  weird = (df_ufc[[col]].applymap(type) != df_ufc[[col]].iloc[0].apply(type)).any(axis=1)\n",
      "C:\\Users\\Mosspants\\AppData\\Local\\Temp\\ipykernel_18080\\3260174985.py:3: FutureWarning: DataFrame.applymap has been deprecated. Use DataFrame.map instead.\n",
      "  weird = (df_ufc[[col]].applymap(type) != df_ufc[[col]].iloc[0].apply(type)).any(axis=1)\n",
      "C:\\Users\\Mosspants\\AppData\\Local\\Temp\\ipykernel_18080\\3260174985.py:3: FutureWarning: DataFrame.applymap has been deprecated. Use DataFrame.map instead.\n",
      "  weird = (df_ufc[[col]].applymap(type) != df_ufc[[col]].iloc[0].apply(type)).any(axis=1)\n",
      "C:\\Users\\Mosspants\\AppData\\Local\\Temp\\ipykernel_18080\\3260174985.py:3: FutureWarning: DataFrame.applymap has been deprecated. Use DataFrame.map instead.\n",
      "  weird = (df_ufc[[col]].applymap(type) != df_ufc[[col]].iloc[0].apply(type)).any(axis=1)\n",
      "C:\\Users\\Mosspants\\AppData\\Local\\Temp\\ipykernel_18080\\3260174985.py:3: FutureWarning: DataFrame.applymap has been deprecated. Use DataFrame.map instead.\n",
      "  weird = (df_ufc[[col]].applymap(type) != df_ufc[[col]].iloc[0].apply(type)).any(axis=1)\n",
      "C:\\Users\\Mosspants\\AppData\\Local\\Temp\\ipykernel_18080\\3260174985.py:3: FutureWarning: DataFrame.applymap has been deprecated. Use DataFrame.map instead.\n",
      "  weird = (df_ufc[[col]].applymap(type) != df_ufc[[col]].iloc[0].apply(type)).any(axis=1)\n",
      "C:\\Users\\Mosspants\\AppData\\Local\\Temp\\ipykernel_18080\\3260174985.py:3: FutureWarning: DataFrame.applymap has been deprecated. Use DataFrame.map instead.\n",
      "  weird = (df_ufc[[col]].applymap(type) != df_ufc[[col]].iloc[0].apply(type)).any(axis=1)\n",
      "C:\\Users\\Mosspants\\AppData\\Local\\Temp\\ipykernel_18080\\3260174985.py:3: FutureWarning: DataFrame.applymap has been deprecated. Use DataFrame.map instead.\n",
      "  weird = (df_ufc[[col]].applymap(type) != df_ufc[[col]].iloc[0].apply(type)).any(axis=1)\n",
      "C:\\Users\\Mosspants\\AppData\\Local\\Temp\\ipykernel_18080\\3260174985.py:3: FutureWarning: DataFrame.applymap has been deprecated. Use DataFrame.map instead.\n",
      "  weird = (df_ufc[[col]].applymap(type) != df_ufc[[col]].iloc[0].apply(type)).any(axis=1)\n",
      "C:\\Users\\Mosspants\\AppData\\Local\\Temp\\ipykernel_18080\\3260174985.py:3: FutureWarning: DataFrame.applymap has been deprecated. Use DataFrame.map instead.\n",
      "  weird = (df_ufc[[col]].applymap(type) != df_ufc[[col]].iloc[0].apply(type)).any(axis=1)\n",
      "C:\\Users\\Mosspants\\AppData\\Local\\Temp\\ipykernel_18080\\3260174985.py:3: FutureWarning: DataFrame.applymap has been deprecated. Use DataFrame.map instead.\n",
      "  weird = (df_ufc[[col]].applymap(type) != df_ufc[[col]].iloc[0].apply(type)).any(axis=1)\n",
      "C:\\Users\\Mosspants\\AppData\\Local\\Temp\\ipykernel_18080\\3260174985.py:3: FutureWarning: DataFrame.applymap has been deprecated. Use DataFrame.map instead.\n",
      "  weird = (df_ufc[[col]].applymap(type) != df_ufc[[col]].iloc[0].apply(type)).any(axis=1)\n",
      "C:\\Users\\Mosspants\\AppData\\Local\\Temp\\ipykernel_18080\\3260174985.py:3: FutureWarning: DataFrame.applymap has been deprecated. Use DataFrame.map instead.\n",
      "  weird = (df_ufc[[col]].applymap(type) != df_ufc[[col]].iloc[0].apply(type)).any(axis=1)\n"
     ]
    },
    {
     "name": "stderr",
     "output_type": "stream",
     "text": [
      "C:\\Users\\Mosspants\\AppData\\Local\\Temp\\ipykernel_18080\\3260174985.py:3: FutureWarning: DataFrame.applymap has been deprecated. Use DataFrame.map instead.\n",
      "  weird = (df_ufc[[col]].applymap(type) != df_ufc[[col]].iloc[0].apply(type)).any(axis=1)\n",
      "C:\\Users\\Mosspants\\AppData\\Local\\Temp\\ipykernel_18080\\3260174985.py:3: FutureWarning: DataFrame.applymap has been deprecated. Use DataFrame.map instead.\n",
      "  weird = (df_ufc[[col]].applymap(type) != df_ufc[[col]].iloc[0].apply(type)).any(axis=1)\n",
      "C:\\Users\\Mosspants\\AppData\\Local\\Temp\\ipykernel_18080\\3260174985.py:3: FutureWarning: DataFrame.applymap has been deprecated. Use DataFrame.map instead.\n",
      "  weird = (df_ufc[[col]].applymap(type) != df_ufc[[col]].iloc[0].apply(type)).any(axis=1)\n",
      "C:\\Users\\Mosspants\\AppData\\Local\\Temp\\ipykernel_18080\\3260174985.py:3: FutureWarning: DataFrame.applymap has been deprecated. Use DataFrame.map instead.\n",
      "  weird = (df_ufc[[col]].applymap(type) != df_ufc[[col]].iloc[0].apply(type)).any(axis=1)\n",
      "C:\\Users\\Mosspants\\AppData\\Local\\Temp\\ipykernel_18080\\3260174985.py:3: FutureWarning: DataFrame.applymap has been deprecated. Use DataFrame.map instead.\n",
      "  weird = (df_ufc[[col]].applymap(type) != df_ufc[[col]].iloc[0].apply(type)).any(axis=1)\n",
      "C:\\Users\\Mosspants\\AppData\\Local\\Temp\\ipykernel_18080\\3260174985.py:3: FutureWarning: DataFrame.applymap has been deprecated. Use DataFrame.map instead.\n",
      "  weird = (df_ufc[[col]].applymap(type) != df_ufc[[col]].iloc[0].apply(type)).any(axis=1)\n",
      "C:\\Users\\Mosspants\\AppData\\Local\\Temp\\ipykernel_18080\\3260174985.py:3: FutureWarning: DataFrame.applymap has been deprecated. Use DataFrame.map instead.\n",
      "  weird = (df_ufc[[col]].applymap(type) != df_ufc[[col]].iloc[0].apply(type)).any(axis=1)\n",
      "C:\\Users\\Mosspants\\AppData\\Local\\Temp\\ipykernel_18080\\3260174985.py:3: FutureWarning: DataFrame.applymap has been deprecated. Use DataFrame.map instead.\n",
      "  weird = (df_ufc[[col]].applymap(type) != df_ufc[[col]].iloc[0].apply(type)).any(axis=1)\n",
      "C:\\Users\\Mosspants\\AppData\\Local\\Temp\\ipykernel_18080\\3260174985.py:3: FutureWarning: DataFrame.applymap has been deprecated. Use DataFrame.map instead.\n",
      "  weird = (df_ufc[[col]].applymap(type) != df_ufc[[col]].iloc[0].apply(type)).any(axis=1)\n",
      "C:\\Users\\Mosspants\\AppData\\Local\\Temp\\ipykernel_18080\\3260174985.py:3: FutureWarning: DataFrame.applymap has been deprecated. Use DataFrame.map instead.\n",
      "  weird = (df_ufc[[col]].applymap(type) != df_ufc[[col]].iloc[0].apply(type)).any(axis=1)\n",
      "C:\\Users\\Mosspants\\AppData\\Local\\Temp\\ipykernel_18080\\3260174985.py:3: FutureWarning: DataFrame.applymap has been deprecated. Use DataFrame.map instead.\n",
      "  weird = (df_ufc[[col]].applymap(type) != df_ufc[[col]].iloc[0].apply(type)).any(axis=1)\n",
      "C:\\Users\\Mosspants\\AppData\\Local\\Temp\\ipykernel_18080\\3260174985.py:3: FutureWarning: DataFrame.applymap has been deprecated. Use DataFrame.map instead.\n",
      "  weird = (df_ufc[[col]].applymap(type) != df_ufc[[col]].iloc[0].apply(type)).any(axis=1)\n",
      "C:\\Users\\Mosspants\\AppData\\Local\\Temp\\ipykernel_18080\\3260174985.py:3: FutureWarning: DataFrame.applymap has been deprecated. Use DataFrame.map instead.\n",
      "  weird = (df_ufc[[col]].applymap(type) != df_ufc[[col]].iloc[0].apply(type)).any(axis=1)\n",
      "C:\\Users\\Mosspants\\AppData\\Local\\Temp\\ipykernel_18080\\3260174985.py:3: FutureWarning: DataFrame.applymap has been deprecated. Use DataFrame.map instead.\n",
      "  weird = (df_ufc[[col]].applymap(type) != df_ufc[[col]].iloc[0].apply(type)).any(axis=1)\n",
      "C:\\Users\\Mosspants\\AppData\\Local\\Temp\\ipykernel_18080\\3260174985.py:3: FutureWarning: DataFrame.applymap has been deprecated. Use DataFrame.map instead.\n",
      "  weird = (df_ufc[[col]].applymap(type) != df_ufc[[col]].iloc[0].apply(type)).any(axis=1)\n",
      "C:\\Users\\Mosspants\\AppData\\Local\\Temp\\ipykernel_18080\\3260174985.py:3: FutureWarning: DataFrame.applymap has been deprecated. Use DataFrame.map instead.\n",
      "  weird = (df_ufc[[col]].applymap(type) != df_ufc[[col]].iloc[0].apply(type)).any(axis=1)\n",
      "C:\\Users\\Mosspants\\AppData\\Local\\Temp\\ipykernel_18080\\3260174985.py:3: FutureWarning: DataFrame.applymap has been deprecated. Use DataFrame.map instead.\n",
      "  weird = (df_ufc[[col]].applymap(type) != df_ufc[[col]].iloc[0].apply(type)).any(axis=1)\n",
      "C:\\Users\\Mosspants\\AppData\\Local\\Temp\\ipykernel_18080\\3260174985.py:3: FutureWarning: DataFrame.applymap has been deprecated. Use DataFrame.map instead.\n",
      "  weird = (df_ufc[[col]].applymap(type) != df_ufc[[col]].iloc[0].apply(type)).any(axis=1)\n",
      "C:\\Users\\Mosspants\\AppData\\Local\\Temp\\ipykernel_18080\\3260174985.py:3: FutureWarning: DataFrame.applymap has been deprecated. Use DataFrame.map instead.\n",
      "  weird = (df_ufc[[col]].applymap(type) != df_ufc[[col]].iloc[0].apply(type)).any(axis=1)\n",
      "C:\\Users\\Mosspants\\AppData\\Local\\Temp\\ipykernel_18080\\3260174985.py:3: FutureWarning: DataFrame.applymap has been deprecated. Use DataFrame.map instead.\n",
      "  weird = (df_ufc[[col]].applymap(type) != df_ufc[[col]].iloc[0].apply(type)).any(axis=1)\n",
      "C:\\Users\\Mosspants\\AppData\\Local\\Temp\\ipykernel_18080\\3260174985.py:3: FutureWarning: DataFrame.applymap has been deprecated. Use DataFrame.map instead.\n",
      "  weird = (df_ufc[[col]].applymap(type) != df_ufc[[col]].iloc[0].apply(type)).any(axis=1)\n",
      "C:\\Users\\Mosspants\\AppData\\Local\\Temp\\ipykernel_18080\\3260174985.py:3: FutureWarning: DataFrame.applymap has been deprecated. Use DataFrame.map instead.\n",
      "  weird = (df_ufc[[col]].applymap(type) != df_ufc[[col]].iloc[0].apply(type)).any(axis=1)\n"
     ]
    }
   ],
   "source": [
    "#Checking for mixed-type data again\n",
    "for col in df_ufc.columns.tolist():\n",
    "    weird = (df_ufc[[col]].applymap(type) != df_ufc[[col]].iloc[0].apply(type)).any(axis=1)\n",
    "    if len (df_ufc[weird]) > 0:\n",
    "        print(col)"
   ]
  },
  {
   "cell_type": "markdown",
   "id": "d0ff8598",
   "metadata": {},
   "source": [
    "### No print this time."
   ]
  },
  {
   "cell_type": "code",
   "execution_count": 18,
   "id": "c82f3501",
   "metadata": {},
   "outputs": [
    {
     "name": "stdout",
     "output_type": "stream",
     "text": [
      "<class 'pandas.core.frame.DataFrame'>\n",
      "RangeIndex: 6012 entries, 0 to 6011\n",
      "Columns: 144 entries, R_fighter to R_age\n",
      "dtypes: bool(1), float64(106), int64(28), object(9)\n",
      "memory usage: 6.6+ MB\n"
     ]
    }
   ],
   "source": [
    "#Checking info on data\n",
    "df_ufc.info()"
   ]
  },
  {
   "cell_type": "markdown",
   "id": "fdf5becd",
   "metadata": {},
   "source": [
    "## 04. Missing Values Check"
   ]
  },
  {
   "cell_type": "code",
   "execution_count": 19,
   "id": "7a6ccf41",
   "metadata": {},
   "outputs": [
    {
     "data": {
      "text/plain": [
       "R_fighter         0\n",
       "B_fighter         0\n",
       "Referee           0\n",
       "date              0\n",
       "location          0\n",
       "               ... \n",
       "R_Height_cms      4\n",
       "R_Reach_cms     406\n",
       "R_Weight_lbs      2\n",
       "B_age           172\n",
       "R_age            63\n",
       "Length: 144, dtype: int64"
      ]
     },
     "execution_count": 19,
     "metadata": {},
     "output_type": "execute_result"
    }
   ],
   "source": [
    "#Looking for missing values\n",
    "df_ufc.isnull().sum()"
   ]
  },
  {
   "cell_type": "code",
   "execution_count": 20,
   "id": "7d7e4489",
   "metadata": {},
   "outputs": [],
   "source": [
    "#Assigning missing values for clipboard. Output truncated\n",
    "missing = df_ufc.isnull().sum()"
   ]
  },
  {
   "cell_type": "code",
   "execution_count": 21,
   "id": "99918b1f",
   "metadata": {},
   "outputs": [],
   "source": [
    "#Exporting to clipboard\n",
    "missing.to_clipboard()"
   ]
  },
  {
   "cell_type": "code",
   "execution_count": 22,
   "id": "8531a5f2",
   "metadata": {},
   "outputs": [],
   "source": [
    "#Viewing columns with 1427 missing values\n",
    "df_nan1427 = df_ufc[df_ufc['B_avg_KD'].isnull() == True]"
   ]
  },
  {
   "cell_type": "code",
   "execution_count": 23,
   "id": "c46643e8",
   "metadata": {},
   "outputs": [
    {
     "data": {
      "text/html": [
       "<div>\n",
       "<style scoped>\n",
       "    .dataframe tbody tr th:only-of-type {\n",
       "        vertical-align: middle;\n",
       "    }\n",
       "\n",
       "    .dataframe tbody tr th {\n",
       "        vertical-align: top;\n",
       "    }\n",
       "\n",
       "    .dataframe thead th {\n",
       "        text-align: right;\n",
       "    }\n",
       "</style>\n",
       "<table border=\"1\" class=\"dataframe\">\n",
       "  <thead>\n",
       "    <tr style=\"text-align: right;\">\n",
       "      <th></th>\n",
       "      <th>R_fighter</th>\n",
       "      <th>B_fighter</th>\n",
       "      <th>Referee</th>\n",
       "      <th>date</th>\n",
       "      <th>location</th>\n",
       "      <th>Winner</th>\n",
       "      <th>title_bout</th>\n",
       "      <th>weight_class</th>\n",
       "      <th>B_avg_KD</th>\n",
       "      <th>B_avg_opp_KD</th>\n",
       "      <th>...</th>\n",
       "      <th>R_win_by_Decision_Unanimous</th>\n",
       "      <th>R_win_by_KO/TKO</th>\n",
       "      <th>R_win_by_Submission</th>\n",
       "      <th>R_win_by_TKO_Doctor_Stoppage</th>\n",
       "      <th>R_Stance</th>\n",
       "      <th>R_Height_cms</th>\n",
       "      <th>R_Reach_cms</th>\n",
       "      <th>R_Weight_lbs</th>\n",
       "      <th>B_age</th>\n",
       "      <th>R_age</th>\n",
       "    </tr>\n",
       "  </thead>\n",
       "  <tbody>\n",
       "    <tr>\n",
       "      <th>2</th>\n",
       "      <td>Tai Tuivasa</td>\n",
       "      <td>Harry Hunsucker</td>\n",
       "      <td>Herb Dean</td>\n",
       "      <td>3/20/2021</td>\n",
       "      <td>Las Vegas, Nevada, USA</td>\n",
       "      <td>Red</td>\n",
       "      <td>False</td>\n",
       "      <td>Heavyweight</td>\n",
       "      <td>NaN</td>\n",
       "      <td>NaN</td>\n",
       "      <td>...</td>\n",
       "      <td>1</td>\n",
       "      <td>3</td>\n",
       "      <td>0</td>\n",
       "      <td>0</td>\n",
       "      <td>Southpaw</td>\n",
       "      <td>187.96</td>\n",
       "      <td>190.50</td>\n",
       "      <td>264.0</td>\n",
       "      <td>32.0</td>\n",
       "      <td>28.0</td>\n",
       "    </tr>\n",
       "    <tr>\n",
       "      <th>3</th>\n",
       "      <td>Cheyanne Buys</td>\n",
       "      <td>Montserrat Conejo</td>\n",
       "      <td>Mark Smith</td>\n",
       "      <td>3/20/2021</td>\n",
       "      <td>Las Vegas, Nevada, USA</td>\n",
       "      <td>Blue</td>\n",
       "      <td>False</td>\n",
       "      <td>WomenStrawweight</td>\n",
       "      <td>NaN</td>\n",
       "      <td>NaN</td>\n",
       "      <td>...</td>\n",
       "      <td>0</td>\n",
       "      <td>0</td>\n",
       "      <td>0</td>\n",
       "      <td>0</td>\n",
       "      <td>Switch</td>\n",
       "      <td>160.02</td>\n",
       "      <td>160.02</td>\n",
       "      <td>115.0</td>\n",
       "      <td>28.0</td>\n",
       "      <td>25.0</td>\n",
       "    </tr>\n",
       "    <tr>\n",
       "      <th>8</th>\n",
       "      <td>Montel Jackson</td>\n",
       "      <td>Jesse Strader</td>\n",
       "      <td>Keith Peterson</td>\n",
       "      <td>3/20/2021</td>\n",
       "      <td>Las Vegas, Nevada, USA</td>\n",
       "      <td>Red</td>\n",
       "      <td>False</td>\n",
       "      <td>Bantamweight</td>\n",
       "      <td>NaN</td>\n",
       "      <td>NaN</td>\n",
       "      <td>...</td>\n",
       "      <td>2</td>\n",
       "      <td>0</td>\n",
       "      <td>1</td>\n",
       "      <td>0</td>\n",
       "      <td>Southpaw</td>\n",
       "      <td>177.80</td>\n",
       "      <td>190.50</td>\n",
       "      <td>135.0</td>\n",
       "      <td>29.0</td>\n",
       "      <td>28.0</td>\n",
       "    </tr>\n",
       "    <tr>\n",
       "      <th>9</th>\n",
       "      <td>Bruno Silva</td>\n",
       "      <td>JP Buys</td>\n",
       "      <td>Mark Smith</td>\n",
       "      <td>3/20/2021</td>\n",
       "      <td>Las Vegas, Nevada, USA</td>\n",
       "      <td>Red</td>\n",
       "      <td>False</td>\n",
       "      <td>Flyweight</td>\n",
       "      <td>NaN</td>\n",
       "      <td>NaN</td>\n",
       "      <td>...</td>\n",
       "      <td>0</td>\n",
       "      <td>0</td>\n",
       "      <td>0</td>\n",
       "      <td>0</td>\n",
       "      <td>nan</td>\n",
       "      <td>182.88</td>\n",
       "      <td>NaN</td>\n",
       "      <td>185.0</td>\n",
       "      <td>24.0</td>\n",
       "      <td>31.0</td>\n",
       "    </tr>\n",
       "    <tr>\n",
       "      <th>13</th>\n",
       "      <td>Charles Jourdain</td>\n",
       "      <td>Marcelo Rojo</td>\n",
       "      <td>Mark Smith</td>\n",
       "      <td>3/13/2021</td>\n",
       "      <td>Las Vegas, Nevada, USA</td>\n",
       "      <td>Red</td>\n",
       "      <td>False</td>\n",
       "      <td>Featherweight</td>\n",
       "      <td>NaN</td>\n",
       "      <td>NaN</td>\n",
       "      <td>...</td>\n",
       "      <td>0</td>\n",
       "      <td>1</td>\n",
       "      <td>0</td>\n",
       "      <td>0</td>\n",
       "      <td>Switch</td>\n",
       "      <td>175.26</td>\n",
       "      <td>175.26</td>\n",
       "      <td>145.0</td>\n",
       "      <td>32.0</td>\n",
       "      <td>25.0</td>\n",
       "    </tr>\n",
       "    <tr>\n",
       "      <th>...</th>\n",
       "      <td>...</td>\n",
       "      <td>...</td>\n",
       "      <td>...</td>\n",
       "      <td>...</td>\n",
       "      <td>...</td>\n",
       "      <td>...</td>\n",
       "      <td>...</td>\n",
       "      <td>...</td>\n",
       "      <td>...</td>\n",
       "      <td>...</td>\n",
       "      <td>...</td>\n",
       "      <td>...</td>\n",
       "      <td>...</td>\n",
       "      <td>...</td>\n",
       "      <td>...</td>\n",
       "      <td>...</td>\n",
       "      <td>...</td>\n",
       "      <td>...</td>\n",
       "      <td>...</td>\n",
       "      <td>...</td>\n",
       "      <td>...</td>\n",
       "    </tr>\n",
       "    <tr>\n",
       "      <th>6007</th>\n",
       "      <td>Remco Pardoel</td>\n",
       "      <td>Alberta Cerra Leon</td>\n",
       "      <td>John McCarthy</td>\n",
       "      <td>3/11/1994</td>\n",
       "      <td>Denver, Colorado, USA</td>\n",
       "      <td>Red</td>\n",
       "      <td>False</td>\n",
       "      <td>OpenWeight</td>\n",
       "      <td>NaN</td>\n",
       "      <td>NaN</td>\n",
       "      <td>...</td>\n",
       "      <td>0</td>\n",
       "      <td>0</td>\n",
       "      <td>0</td>\n",
       "      <td>0</td>\n",
       "      <td>Southpaw</td>\n",
       "      <td>190.50</td>\n",
       "      <td>NaN</td>\n",
       "      <td>260.0</td>\n",
       "      <td>NaN</td>\n",
       "      <td>NaN</td>\n",
       "    </tr>\n",
       "    <tr>\n",
       "      <th>6008</th>\n",
       "      <td>Orlando Wiet</td>\n",
       "      <td>Robert Lucarelli</td>\n",
       "      <td>John McCarthy</td>\n",
       "      <td>3/11/1994</td>\n",
       "      <td>Denver, Colorado, USA</td>\n",
       "      <td>Red</td>\n",
       "      <td>False</td>\n",
       "      <td>OpenWeight</td>\n",
       "      <td>NaN</td>\n",
       "      <td>NaN</td>\n",
       "      <td>...</td>\n",
       "      <td>0</td>\n",
       "      <td>0</td>\n",
       "      <td>0</td>\n",
       "      <td>0</td>\n",
       "      <td>Southpaw</td>\n",
       "      <td>177.80</td>\n",
       "      <td>NaN</td>\n",
       "      <td>170.0</td>\n",
       "      <td>NaN</td>\n",
       "      <td>NaN</td>\n",
       "    </tr>\n",
       "    <tr>\n",
       "      <th>6009</th>\n",
       "      <td>Johnny Rhodes</td>\n",
       "      <td>David Levicki</td>\n",
       "      <td>John McCarthy</td>\n",
       "      <td>3/11/1994</td>\n",
       "      <td>Denver, Colorado, USA</td>\n",
       "      <td>Red</td>\n",
       "      <td>False</td>\n",
       "      <td>OpenWeight</td>\n",
       "      <td>NaN</td>\n",
       "      <td>NaN</td>\n",
       "      <td>...</td>\n",
       "      <td>0</td>\n",
       "      <td>0</td>\n",
       "      <td>0</td>\n",
       "      <td>0</td>\n",
       "      <td>Orthodox</td>\n",
       "      <td>182.88</td>\n",
       "      <td>NaN</td>\n",
       "      <td>210.0</td>\n",
       "      <td>NaN</td>\n",
       "      <td>NaN</td>\n",
       "    </tr>\n",
       "    <tr>\n",
       "      <th>6010</th>\n",
       "      <td>Patrick Smith</td>\n",
       "      <td>Ray Wizard</td>\n",
       "      <td>John McCarthy</td>\n",
       "      <td>3/11/1994</td>\n",
       "      <td>Denver, Colorado, USA</td>\n",
       "      <td>Red</td>\n",
       "      <td>False</td>\n",
       "      <td>OpenWeight</td>\n",
       "      <td>NaN</td>\n",
       "      <td>NaN</td>\n",
       "      <td>...</td>\n",
       "      <td>0</td>\n",
       "      <td>0</td>\n",
       "      <td>0</td>\n",
       "      <td>0</td>\n",
       "      <td>Orthodox</td>\n",
       "      <td>187.96</td>\n",
       "      <td>NaN</td>\n",
       "      <td>225.0</td>\n",
       "      <td>NaN</td>\n",
       "      <td>30.0</td>\n",
       "    </tr>\n",
       "    <tr>\n",
       "      <th>6011</th>\n",
       "      <td>Scott Morris</td>\n",
       "      <td>Sean Daugherty</td>\n",
       "      <td>John McCarthy</td>\n",
       "      <td>3/11/1994</td>\n",
       "      <td>Denver, Colorado, USA</td>\n",
       "      <td>Red</td>\n",
       "      <td>False</td>\n",
       "      <td>OpenWeight</td>\n",
       "      <td>NaN</td>\n",
       "      <td>NaN</td>\n",
       "      <td>...</td>\n",
       "      <td>0</td>\n",
       "      <td>0</td>\n",
       "      <td>0</td>\n",
       "      <td>0</td>\n",
       "      <td>Orthodox</td>\n",
       "      <td>177.80</td>\n",
       "      <td>NaN</td>\n",
       "      <td>210.0</td>\n",
       "      <td>18.0</td>\n",
       "      <td>NaN</td>\n",
       "    </tr>\n",
       "  </tbody>\n",
       "</table>\n",
       "<p>1427 rows × 144 columns</p>\n",
       "</div>"
      ],
      "text/plain": [
       "             R_fighter           B_fighter         Referee       date  \\\n",
       "2          Tai Tuivasa     Harry Hunsucker       Herb Dean  3/20/2021   \n",
       "3        Cheyanne Buys   Montserrat Conejo      Mark Smith  3/20/2021   \n",
       "8       Montel Jackson       Jesse Strader  Keith Peterson  3/20/2021   \n",
       "9          Bruno Silva             JP Buys      Mark Smith  3/20/2021   \n",
       "13    Charles Jourdain        Marcelo Rojo      Mark Smith  3/13/2021   \n",
       "...                ...                 ...             ...        ...   \n",
       "6007     Remco Pardoel  Alberta Cerra Leon   John McCarthy  3/11/1994   \n",
       "6008      Orlando Wiet    Robert Lucarelli   John McCarthy  3/11/1994   \n",
       "6009     Johnny Rhodes       David Levicki   John McCarthy  3/11/1994   \n",
       "6010     Patrick Smith          Ray Wizard   John McCarthy  3/11/1994   \n",
       "6011      Scott Morris      Sean Daugherty   John McCarthy  3/11/1994   \n",
       "\n",
       "                    location Winner  title_bout      weight_class  B_avg_KD  \\\n",
       "2     Las Vegas, Nevada, USA    Red       False       Heavyweight       NaN   \n",
       "3     Las Vegas, Nevada, USA   Blue       False  WomenStrawweight       NaN   \n",
       "8     Las Vegas, Nevada, USA    Red       False      Bantamweight       NaN   \n",
       "9     Las Vegas, Nevada, USA    Red       False         Flyweight       NaN   \n",
       "13    Las Vegas, Nevada, USA    Red       False     Featherweight       NaN   \n",
       "...                      ...    ...         ...               ...       ...   \n",
       "6007   Denver, Colorado, USA    Red       False        OpenWeight       NaN   \n",
       "6008   Denver, Colorado, USA    Red       False        OpenWeight       NaN   \n",
       "6009   Denver, Colorado, USA    Red       False        OpenWeight       NaN   \n",
       "6010   Denver, Colorado, USA    Red       False        OpenWeight       NaN   \n",
       "6011   Denver, Colorado, USA    Red       False        OpenWeight       NaN   \n",
       "\n",
       "      B_avg_opp_KD  ...  R_win_by_Decision_Unanimous  R_win_by_KO/TKO  \\\n",
       "2              NaN  ...                            1                3   \n",
       "3              NaN  ...                            0                0   \n",
       "8              NaN  ...                            2                0   \n",
       "9              NaN  ...                            0                0   \n",
       "13             NaN  ...                            0                1   \n",
       "...            ...  ...                          ...              ...   \n",
       "6007           NaN  ...                            0                0   \n",
       "6008           NaN  ...                            0                0   \n",
       "6009           NaN  ...                            0                0   \n",
       "6010           NaN  ...                            0                0   \n",
       "6011           NaN  ...                            0                0   \n",
       "\n",
       "      R_win_by_Submission  R_win_by_TKO_Doctor_Stoppage  R_Stance  \\\n",
       "2                       0                             0  Southpaw   \n",
       "3                       0                             0    Switch   \n",
       "8                       1                             0  Southpaw   \n",
       "9                       0                             0       nan   \n",
       "13                      0                             0    Switch   \n",
       "...                   ...                           ...       ...   \n",
       "6007                    0                             0  Southpaw   \n",
       "6008                    0                             0  Southpaw   \n",
       "6009                    0                             0  Orthodox   \n",
       "6010                    0                             0  Orthodox   \n",
       "6011                    0                             0  Orthodox   \n",
       "\n",
       "      R_Height_cms  R_Reach_cms  R_Weight_lbs  B_age  R_age  \n",
       "2           187.96       190.50         264.0   32.0   28.0  \n",
       "3           160.02       160.02         115.0   28.0   25.0  \n",
       "8           177.80       190.50         135.0   29.0   28.0  \n",
       "9           182.88          NaN         185.0   24.0   31.0  \n",
       "13          175.26       175.26         145.0   32.0   25.0  \n",
       "...            ...          ...           ...    ...    ...  \n",
       "6007        190.50          NaN         260.0    NaN    NaN  \n",
       "6008        177.80          NaN         170.0    NaN    NaN  \n",
       "6009        182.88          NaN         210.0    NaN    NaN  \n",
       "6010        187.96          NaN         225.0    NaN   30.0  \n",
       "6011        177.80          NaN         210.0   18.0    NaN  \n",
       "\n",
       "[1427 rows x 144 columns]"
      ]
     },
     "execution_count": 23,
     "metadata": {},
     "output_type": "execute_result"
    }
   ],
   "source": [
    "df_nan1427"
   ]
  },
  {
   "cell_type": "code",
   "execution_count": 24,
   "id": "5c92d9bd",
   "metadata": {},
   "outputs": [],
   "source": [
    "#Exporting to clipboard\n",
    "df_nan1427.to_clipboard()"
   ]
  },
  {
   "cell_type": "markdown",
   "id": "10362d19",
   "metadata": {},
   "source": [
    "### Removing records before year 2000. Many are missing data and are older than 10 years."
   ]
  },
  {
   "cell_type": "code",
   "execution_count": 25,
   "id": "0dc8b66c",
   "metadata": {},
   "outputs": [],
   "source": [
    "#Creating Day, Month, and Year columns from date\n",
    "df_ufc['Day'] =pd.DatetimeIndex(df_ufc['date']).day\n",
    "df_ufc['Month'] =pd.DatetimeIndex(df_ufc['date']).month\n",
    "df_ufc['Year'] =pd.DatetimeIndex(df_ufc['date']).year"
   ]
  },
  {
   "cell_type": "code",
   "execution_count": 26,
   "id": "5c156ac1",
   "metadata": {},
   "outputs": [
    {
     "data": {
      "text/html": [
       "<div>\n",
       "<style scoped>\n",
       "    .dataframe tbody tr th:only-of-type {\n",
       "        vertical-align: middle;\n",
       "    }\n",
       "\n",
       "    .dataframe tbody tr th {\n",
       "        vertical-align: top;\n",
       "    }\n",
       "\n",
       "    .dataframe thead th {\n",
       "        text-align: right;\n",
       "    }\n",
       "</style>\n",
       "<table border=\"1\" class=\"dataframe\">\n",
       "  <thead>\n",
       "    <tr style=\"text-align: right;\">\n",
       "      <th></th>\n",
       "      <th>R_fighter</th>\n",
       "      <th>B_fighter</th>\n",
       "      <th>Referee</th>\n",
       "      <th>date</th>\n",
       "      <th>location</th>\n",
       "      <th>Winner</th>\n",
       "      <th>title_bout</th>\n",
       "      <th>weight_class</th>\n",
       "      <th>B_avg_KD</th>\n",
       "      <th>B_avg_opp_KD</th>\n",
       "      <th>...</th>\n",
       "      <th>R_win_by_TKO_Doctor_Stoppage</th>\n",
       "      <th>R_Stance</th>\n",
       "      <th>R_Height_cms</th>\n",
       "      <th>R_Reach_cms</th>\n",
       "      <th>R_Weight_lbs</th>\n",
       "      <th>B_age</th>\n",
       "      <th>R_age</th>\n",
       "      <th>Day</th>\n",
       "      <th>Month</th>\n",
       "      <th>Year</th>\n",
       "    </tr>\n",
       "  </thead>\n",
       "  <tbody>\n",
       "    <tr>\n",
       "      <th>0</th>\n",
       "      <td>Adrian Yanez</td>\n",
       "      <td>Gustavo Lopez</td>\n",
       "      <td>Chris Tognoni</td>\n",
       "      <td>3/20/2021</td>\n",
       "      <td>Las Vegas, Nevada, USA</td>\n",
       "      <td>Red</td>\n",
       "      <td>False</td>\n",
       "      <td>Bantamweight</td>\n",
       "      <td>0.000</td>\n",
       "      <td>0.0</td>\n",
       "      <td>...</td>\n",
       "      <td>0</td>\n",
       "      <td>Orthodox</td>\n",
       "      <td>170.18</td>\n",
       "      <td>177.80</td>\n",
       "      <td>135.0</td>\n",
       "      <td>31.0</td>\n",
       "      <td>27.0</td>\n",
       "      <td>20</td>\n",
       "      <td>3</td>\n",
       "      <td>2021</td>\n",
       "    </tr>\n",
       "    <tr>\n",
       "      <th>1</th>\n",
       "      <td>Trevin Giles</td>\n",
       "      <td>Roman Dolidze</td>\n",
       "      <td>Herb Dean</td>\n",
       "      <td>3/20/2021</td>\n",
       "      <td>Las Vegas, Nevada, USA</td>\n",
       "      <td>Red</td>\n",
       "      <td>False</td>\n",
       "      <td>Middleweight</td>\n",
       "      <td>0.500</td>\n",
       "      <td>0.0</td>\n",
       "      <td>...</td>\n",
       "      <td>0</td>\n",
       "      <td>Orthodox</td>\n",
       "      <td>182.88</td>\n",
       "      <td>187.96</td>\n",
       "      <td>185.0</td>\n",
       "      <td>32.0</td>\n",
       "      <td>28.0</td>\n",
       "      <td>20</td>\n",
       "      <td>3</td>\n",
       "      <td>2021</td>\n",
       "    </tr>\n",
       "    <tr>\n",
       "      <th>2</th>\n",
       "      <td>Tai Tuivasa</td>\n",
       "      <td>Harry Hunsucker</td>\n",
       "      <td>Herb Dean</td>\n",
       "      <td>3/20/2021</td>\n",
       "      <td>Las Vegas, Nevada, USA</td>\n",
       "      <td>Red</td>\n",
       "      <td>False</td>\n",
       "      <td>Heavyweight</td>\n",
       "      <td>NaN</td>\n",
       "      <td>NaN</td>\n",
       "      <td>...</td>\n",
       "      <td>0</td>\n",
       "      <td>Southpaw</td>\n",
       "      <td>187.96</td>\n",
       "      <td>190.50</td>\n",
       "      <td>264.0</td>\n",
       "      <td>32.0</td>\n",
       "      <td>28.0</td>\n",
       "      <td>20</td>\n",
       "      <td>3</td>\n",
       "      <td>2021</td>\n",
       "    </tr>\n",
       "    <tr>\n",
       "      <th>3</th>\n",
       "      <td>Cheyanne Buys</td>\n",
       "      <td>Montserrat Conejo</td>\n",
       "      <td>Mark Smith</td>\n",
       "      <td>3/20/2021</td>\n",
       "      <td>Las Vegas, Nevada, USA</td>\n",
       "      <td>Blue</td>\n",
       "      <td>False</td>\n",
       "      <td>WomenStrawweight</td>\n",
       "      <td>NaN</td>\n",
       "      <td>NaN</td>\n",
       "      <td>...</td>\n",
       "      <td>0</td>\n",
       "      <td>Switch</td>\n",
       "      <td>160.02</td>\n",
       "      <td>160.02</td>\n",
       "      <td>115.0</td>\n",
       "      <td>28.0</td>\n",
       "      <td>25.0</td>\n",
       "      <td>20</td>\n",
       "      <td>3</td>\n",
       "      <td>2021</td>\n",
       "    </tr>\n",
       "    <tr>\n",
       "      <th>4</th>\n",
       "      <td>Marion Reneau</td>\n",
       "      <td>Macy Chiasson</td>\n",
       "      <td>Mark Smith</td>\n",
       "      <td>3/20/2021</td>\n",
       "      <td>Las Vegas, Nevada, USA</td>\n",
       "      <td>Blue</td>\n",
       "      <td>False</td>\n",
       "      <td>WomenBantamweight</td>\n",
       "      <td>0.125</td>\n",
       "      <td>0.0</td>\n",
       "      <td>...</td>\n",
       "      <td>0</td>\n",
       "      <td>Orthodox</td>\n",
       "      <td>167.64</td>\n",
       "      <td>172.72</td>\n",
       "      <td>135.0</td>\n",
       "      <td>29.0</td>\n",
       "      <td>43.0</td>\n",
       "      <td>20</td>\n",
       "      <td>3</td>\n",
       "      <td>2021</td>\n",
       "    </tr>\n",
       "  </tbody>\n",
       "</table>\n",
       "<p>5 rows × 147 columns</p>\n",
       "</div>"
      ],
      "text/plain": [
       "       R_fighter          B_fighter        Referee       date  \\\n",
       "0   Adrian Yanez      Gustavo Lopez  Chris Tognoni  3/20/2021   \n",
       "1   Trevin Giles      Roman Dolidze      Herb Dean  3/20/2021   \n",
       "2    Tai Tuivasa    Harry Hunsucker      Herb Dean  3/20/2021   \n",
       "3  Cheyanne Buys  Montserrat Conejo     Mark Smith  3/20/2021   \n",
       "4  Marion Reneau      Macy Chiasson     Mark Smith  3/20/2021   \n",
       "\n",
       "                 location Winner  title_bout       weight_class  B_avg_KD  \\\n",
       "0  Las Vegas, Nevada, USA    Red       False       Bantamweight     0.000   \n",
       "1  Las Vegas, Nevada, USA    Red       False       Middleweight     0.500   \n",
       "2  Las Vegas, Nevada, USA    Red       False        Heavyweight       NaN   \n",
       "3  Las Vegas, Nevada, USA   Blue       False   WomenStrawweight       NaN   \n",
       "4  Las Vegas, Nevada, USA   Blue       False  WomenBantamweight     0.125   \n",
       "\n",
       "   B_avg_opp_KD  ...  R_win_by_TKO_Doctor_Stoppage  R_Stance  R_Height_cms  \\\n",
       "0           0.0  ...                             0  Orthodox        170.18   \n",
       "1           0.0  ...                             0  Orthodox        182.88   \n",
       "2           NaN  ...                             0  Southpaw        187.96   \n",
       "3           NaN  ...                             0    Switch        160.02   \n",
       "4           0.0  ...                             0  Orthodox        167.64   \n",
       "\n",
       "   R_Reach_cms  R_Weight_lbs  B_age  R_age  Day  Month  Year  \n",
       "0       177.80         135.0   31.0   27.0   20      3  2021  \n",
       "1       187.96         185.0   32.0   28.0   20      3  2021  \n",
       "2       190.50         264.0   32.0   28.0   20      3  2021  \n",
       "3       160.02         115.0   28.0   25.0   20      3  2021  \n",
       "4       172.72         135.0   29.0   43.0   20      3  2021  \n",
       "\n",
       "[5 rows x 147 columns]"
      ]
     },
     "execution_count": 26,
     "metadata": {},
     "output_type": "execute_result"
    }
   ],
   "source": [
    "#Checking output\n",
    "df_ufc.head()"
   ]
  },
  {
   "cell_type": "code",
   "execution_count": 27,
   "id": "2ea797b0",
   "metadata": {},
   "outputs": [
    {
     "name": "stderr",
     "output_type": "stream",
     "text": [
      "C:\\Users\\Mosspants\\AppData\\Local\\Temp\\ipykernel_18080\\1030862715.py:2: FutureWarning: Setting an item of incompatible dtype is deprecated and will raise in a future error of pandas. Value 'Before 1999' has dtype incompatible with float64, please explicitly cast to a compatible dtype first.\n",
      "  df_ufc.loc[df_ufc['Year'] <= 1999, 'date_loc'] = 'Before 1999'\n"
     ]
    }
   ],
   "source": [
    "#Creating loc condition for matches in 1999 and older\n",
    "df_ufc.loc[df_ufc['Year'] <= 1999, 'date_loc'] = 'Before 1999'\n",
    "df_ufc.loc[df_ufc['Year'] > 1999, 'date_loc'] = 'After 1999'"
   ]
  },
  {
   "cell_type": "code",
   "execution_count": 28,
   "id": "c1e68419",
   "metadata": {},
   "outputs": [
    {
     "data": {
      "text/plain": [
       "date_loc\n",
       "After 1999     5809\n",
       "Before 1999     203\n",
       "Name: count, dtype: int64"
      ]
     },
     "execution_count": 28,
     "metadata": {},
     "output_type": "execute_result"
    }
   ],
   "source": [
    "#Checking output of loc column\n",
    "df_ufc['date_loc'].value_counts(dropna = False)"
   ]
  },
  {
   "cell_type": "code",
   "execution_count": 29,
   "id": "da618c21",
   "metadata": {},
   "outputs": [
    {
     "data": {
      "text/plain": [
       "Day\n",
       "1     162\n",
       "2     165\n",
       "3     185\n",
       "4     201\n",
       "5     187\n",
       "6     237\n",
       "7     245\n",
       "8     266\n",
       "9     175\n",
       "10    186\n",
       "11    198\n",
       "12    143\n",
       "13    204\n",
       "14    230\n",
       "15    223\n",
       "16    260\n",
       "17    203\n",
       "18    178\n",
       "19    270\n",
       "20    205\n",
       "21    207\n",
       "22    210\n",
       "23    207\n",
       "24    132\n",
       "25    181\n",
       "26    164\n",
       "27    203\n",
       "28    193\n",
       "29    145\n",
       "30    151\n",
       "31     96\n",
       "Name: count, dtype: int64"
      ]
     },
     "execution_count": 29,
     "metadata": {},
     "output_type": "execute_result"
    }
   ],
   "source": [
    "#Checking output of Day column\n",
    "df_ufc['Day'].value_counts(dropna = False).sort_index()"
   ]
  },
  {
   "cell_type": "code",
   "execution_count": 30,
   "id": "452b13fd",
   "metadata": {},
   "outputs": [
    {
     "data": {
      "text/plain": [
       "Month\n",
       "1     418\n",
       "2     523\n",
       "3     449\n",
       "4     470\n",
       "5     452\n",
       "6     546\n",
       "7     569\n",
       "8     464\n",
       "9     516\n",
       "10    449\n",
       "11    573\n",
       "12    583\n",
       "Name: count, dtype: int64"
      ]
     },
     "execution_count": 30,
     "metadata": {},
     "output_type": "execute_result"
    }
   ],
   "source": [
    "#Checking output of Month column\n",
    "df_ufc['Month'].value_counts(dropna = False).sort_index()"
   ]
  },
  {
   "cell_type": "code",
   "execution_count": 31,
   "id": "1762f304",
   "metadata": {},
   "outputs": [
    {
     "data": {
      "text/plain": [
       "Year\n",
       "1994     29\n",
       "1995     34\n",
       "1996     36\n",
       "1997     39\n",
       "1998     21\n",
       "1999     44\n",
       "2000     43\n",
       "2001     40\n",
       "2002     53\n",
       "2003     41\n",
       "2004     39\n",
       "2005     80\n",
       "2006    158\n",
       "2007    171\n",
       "2008    201\n",
       "2009    215\n",
       "2010    253\n",
       "2011    300\n",
       "2012    341\n",
       "2013    386\n",
       "2014    503\n",
       "2015    473\n",
       "2016    493\n",
       "2017    457\n",
       "2018    474\n",
       "2019    516\n",
       "2020    456\n",
       "2021    116\n",
       "Name: count, dtype: int64"
      ]
     },
     "execution_count": 31,
     "metadata": {},
     "output_type": "execute_result"
    }
   ],
   "source": [
    "#Checking output of Year column\n",
    "df_ufc['Year'].value_counts(dropna = False).sort_index()"
   ]
  },
  {
   "cell_type": "code",
   "execution_count": 32,
   "id": "e3426549",
   "metadata": {},
   "outputs": [],
   "source": [
    "#Creating subset without Before 1999 records\n",
    "df_ufc_2 = df_ufc[df_ufc['date_loc'] == 'After 1999']"
   ]
  },
  {
   "cell_type": "code",
   "execution_count": 33,
   "id": "69a8bbaa",
   "metadata": {},
   "outputs": [
    {
     "data": {
      "text/plain": [
       "date_loc\n",
       "After 1999    5809\n",
       "Name: count, dtype: int64"
      ]
     },
     "execution_count": 33,
     "metadata": {},
     "output_type": "execute_result"
    }
   ],
   "source": [
    "#Checking subset df_ufc_2\n",
    "df_ufc_2['date_loc'].value_counts(dropna = False)"
   ]
  },
  {
   "cell_type": "code",
   "execution_count": 34,
   "id": "aa096153",
   "metadata": {
    "scrolled": true
   },
   "outputs": [
    {
     "data": {
      "text/plain": [
       "(5809, 148)"
      ]
     },
     "execution_count": 34,
     "metadata": {},
     "output_type": "execute_result"
    }
   ],
   "source": [
    "df_ufc_2.shape"
   ]
  },
  {
   "cell_type": "markdown",
   "id": "486cbf43",
   "metadata": {},
   "source": [
    "### Removing date and date_loc columns."
   ]
  },
  {
   "cell_type": "code",
   "execution_count": 35,
   "id": "df12df1e",
   "metadata": {},
   "outputs": [],
   "source": [
    "#Creating list of columns\n",
    "datelist = ['date', 'date_loc']\n",
    "#Removing columns\n",
    "df_ufc_3 = df_ufc_2.drop(columns = datelist)"
   ]
  },
  {
   "cell_type": "code",
   "execution_count": 36,
   "id": "fa866877",
   "metadata": {},
   "outputs": [
    {
     "data": {
      "text/plain": [
       "(5809, 146)"
      ]
     },
     "execution_count": 36,
     "metadata": {},
     "output_type": "execute_result"
    }
   ],
   "source": [
    "#Checking output\n",
    "df_ufc_3.shape"
   ]
  },
  {
   "cell_type": "markdown",
   "id": "e3d7fcb2",
   "metadata": {},
   "source": [
    "### Continuing missing values check."
   ]
  },
  {
   "cell_type": "code",
   "execution_count": 37,
   "id": "b7a46fba",
   "metadata": {},
   "outputs": [
    {
     "data": {
      "text/plain": [
       "R_fighter     0\n",
       "B_fighter     0\n",
       "Referee       0\n",
       "location      0\n",
       "Winner        0\n",
       "             ..\n",
       "B_age        53\n",
       "R_age        11\n",
       "Day           0\n",
       "Month         0\n",
       "Year          0\n",
       "Length: 146, dtype: int64"
      ]
     },
     "execution_count": 37,
     "metadata": {},
     "output_type": "execute_result"
    }
   ],
   "source": [
    "#Looking for missing values\n",
    "df_ufc_3.isnull().sum()"
   ]
  },
  {
   "cell_type": "code",
   "execution_count": 38,
   "id": "5027dc48",
   "metadata": {},
   "outputs": [],
   "source": [
    "#Assigning missing values\n",
    "missing2 = df_ufc_3.isnull().sum()"
   ]
  },
  {
   "cell_type": "code",
   "execution_count": 39,
   "id": "07bef351",
   "metadata": {},
   "outputs": [],
   "source": [
    "#Exporting to clipboard\n",
    "missing2.to_clipboard()"
   ]
  },
  {
   "cell_type": "markdown",
   "id": "1a613958",
   "metadata": {},
   "source": [
    "### Many of the missing values are in average calculated columns. We may not need these columns because the average would change every match, and we can calculate our own total average of all matches. \n",
    "### I will make one dataframe keeping these and with the more important columns cleaned, and one dataframe with these columns removed and the more important columns cleaned."
   ]
  },
  {
   "cell_type": "markdown",
   "id": "f8be13dc",
   "metadata": {},
   "source": [
    "### Columns to clean and keep in both dataframes: B_total_time_fought(seconds), B_Height_cms, B_Reach_cms, R_total_time_fought(seconds), R_Height_cms, R_Reach_cms, R_Weight_lbs, B_age, R_age"
   ]
  },
  {
   "cell_type": "code",
   "execution_count": 40,
   "id": "d2c8b119",
   "metadata": {},
   "outputs": [
    {
     "data": {
      "text/plain": [
       "count    4491.000000\n",
       "mean      617.237156\n",
       "std       257.022188\n",
       "min         7.000000\n",
       "25%       430.000000\n",
       "50%       643.937500\n",
       "75%       848.785080\n",
       "max      1500.000000\n",
       "Name: B_total_time_fought(seconds), dtype: float64"
      ]
     },
     "execution_count": 40,
     "metadata": {},
     "output_type": "execute_result"
    }
   ],
   "source": [
    "#Getting statistics on B_total_time_fought(seconds)\n",
    "df_ufc_3['B_total_time_fought(seconds)'].describe()"
   ]
  },
  {
   "cell_type": "code",
   "execution_count": 41,
   "id": "8d4c557f",
   "metadata": {},
   "outputs": [
    {
     "data": {
      "text/plain": [
       "643.9375"
      ]
     },
     "execution_count": 41,
     "metadata": {},
     "output_type": "execute_result"
    }
   ],
   "source": [
    "#Getting median\n",
    "df_ufc_3['B_total_time_fought(seconds)'].median()"
   ]
  },
  {
   "cell_type": "code",
   "execution_count": 42,
   "id": "8a133c17",
   "metadata": {},
   "outputs": [],
   "source": [
    "#Spread is large, mean is lower than median suggesting left-skewed. Using median for missing values\n",
    "df_ufc_3['B_total_time_fought(seconds)'].fillna(643.9375, inplace=True)"
   ]
  },
  {
   "cell_type": "code",
   "execution_count": 43,
   "id": "f2a8d584",
   "metadata": {},
   "outputs": [
    {
     "data": {
      "text/plain": [
       "count    5807.000000\n",
       "mean      178.791156\n",
       "std         8.703699\n",
       "min       152.400000\n",
       "25%       172.720000\n",
       "50%       177.800000\n",
       "75%       185.420000\n",
       "max       210.820000\n",
       "Name: B_Height_cms, dtype: float64"
      ]
     },
     "execution_count": 43,
     "metadata": {},
     "output_type": "execute_result"
    }
   ],
   "source": [
    "#Getting statistics on B_Height_cms\n",
    "df_ufc_3['B_Height_cms'].describe()"
   ]
  },
  {
   "cell_type": "code",
   "execution_count": 44,
   "id": "94a58df4",
   "metadata": {},
   "outputs": [
    {
     "data": {
      "text/plain": [
       "177.8"
      ]
     },
     "execution_count": 44,
     "metadata": {},
     "output_type": "execute_result"
    }
   ],
   "source": [
    "#Getting median\n",
    "df_ufc_3['B_Height_cms'].median()"
   ]
  },
  {
   "cell_type": "code",
   "execution_count": 45,
   "id": "7c73ab1a",
   "metadata": {},
   "outputs": [],
   "source": [
    "#Mean and median are very close and spread is low. Will use median, but either would work.\n",
    "df_ufc_3['B_Height_cms'].fillna(177.8, inplace=True)"
   ]
  },
  {
   "cell_type": "code",
   "execution_count": 46,
   "id": "0e642c68",
   "metadata": {},
   "outputs": [
    {
     "data": {
      "text/plain": [
       "count    5110.000000\n",
       "mean      183.217010\n",
       "std        10.352202\n",
       "min       147.320000\n",
       "25%       177.800000\n",
       "50%       182.880000\n",
       "75%       190.500000\n",
       "max       213.360000\n",
       "Name: B_Reach_cms, dtype: float64"
      ]
     },
     "execution_count": 46,
     "metadata": {},
     "output_type": "execute_result"
    }
   ],
   "source": [
    "#Getting statistics on B_Reach_cms\n",
    "df_ufc_3['B_Reach_cms'].describe()"
   ]
  },
  {
   "cell_type": "code",
   "execution_count": 47,
   "id": "c8275962",
   "metadata": {},
   "outputs": [
    {
     "data": {
      "text/plain": [
       "182.88"
      ]
     },
     "execution_count": 47,
     "metadata": {},
     "output_type": "execute_result"
    }
   ],
   "source": [
    "#Getting median\n",
    "df_ufc_3['B_Reach_cms'].median()"
   ]
  },
  {
   "cell_type": "code",
   "execution_count": 48,
   "id": "9f3572ff",
   "metadata": {},
   "outputs": [],
   "source": [
    "#Mean and median are very close and spread is low. Will use median, but either would work.\n",
    "df_ufc_3['B_Reach_cms'].fillna(182.88, inplace=True)"
   ]
  },
  {
   "cell_type": "code",
   "execution_count": 49,
   "id": "17af489b",
   "metadata": {},
   "outputs": [
    {
     "data": {
      "text/plain": [
       "count    5167.000000\n",
       "mean      639.303352\n",
       "std       263.698974\n",
       "min         7.000000\n",
       "25%       447.248535\n",
       "50%       661.500000\n",
       "75%       854.546875\n",
       "max      1500.000000\n",
       "Name: R_total_time_fought(seconds), dtype: float64"
      ]
     },
     "execution_count": 49,
     "metadata": {},
     "output_type": "execute_result"
    }
   ],
   "source": [
    "#Getting statistics on R_total_time_fought(seconds)\n",
    "df_ufc_3['R_total_time_fought(seconds)'].describe()"
   ]
  },
  {
   "cell_type": "code",
   "execution_count": 50,
   "id": "b7e5b57e",
   "metadata": {},
   "outputs": [
    {
     "data": {
      "text/plain": [
       "661.5"
      ]
     },
     "execution_count": 50,
     "metadata": {},
     "output_type": "execute_result"
    }
   ],
   "source": [
    "#Getting median\n",
    "df_ufc_3['R_total_time_fought(seconds)'].median()"
   ]
  },
  {
   "cell_type": "code",
   "execution_count": 51,
   "id": "e8260af9",
   "metadata": {},
   "outputs": [],
   "source": [
    "#Spread is large, mean is lower than median suggesting left-skewed. Using median for missing values.\n",
    "df_ufc_3['R_total_time_fought(seconds)'].fillna(661.5, inplace=True)"
   ]
  },
  {
   "cell_type": "code",
   "execution_count": 52,
   "id": "ae5a1a2f",
   "metadata": {},
   "outputs": [
    {
     "data": {
      "text/plain": [
       "count    5808.000000\n",
       "mean      178.811977\n",
       "std         8.846925\n",
       "min       152.400000\n",
       "25%       172.720000\n",
       "50%       180.340000\n",
       "75%       185.420000\n",
       "max       210.820000\n",
       "Name: R_Height_cms, dtype: float64"
      ]
     },
     "execution_count": 52,
     "metadata": {},
     "output_type": "execute_result"
    }
   ],
   "source": [
    "#Getting statistics on R_Height_cms\n",
    "df_ufc_3['R_Height_cms'].describe()"
   ]
  },
  {
   "cell_type": "code",
   "execution_count": 53,
   "id": "a48774f3",
   "metadata": {},
   "outputs": [
    {
     "data": {
      "text/plain": [
       "180.34"
      ]
     },
     "execution_count": 53,
     "metadata": {},
     "output_type": "execute_result"
    }
   ],
   "source": [
    "#Getting median\n",
    "df_ufc_3['R_Height_cms'].median()"
   ]
  },
  {
   "cell_type": "code",
   "execution_count": 54,
   "id": "3dccad43",
   "metadata": {},
   "outputs": [],
   "source": [
    "#Mean and median are close and spread is low. Will use median, but either would work.\n",
    "df_ufc_3['R_Height_cms'].fillna(180.34, inplace=True)"
   ]
  },
  {
   "cell_type": "code",
   "execution_count": 55,
   "id": "226cdf50",
   "metadata": {},
   "outputs": [
    {
     "data": {
      "text/plain": [
       "count    5569.000000\n",
       "mean      183.535410\n",
       "std        10.611845\n",
       "min       152.400000\n",
       "25%       177.800000\n",
       "50%       182.880000\n",
       "75%       190.500000\n",
       "max       213.360000\n",
       "Name: R_Reach_cms, dtype: float64"
      ]
     },
     "execution_count": 55,
     "metadata": {},
     "output_type": "execute_result"
    }
   ],
   "source": [
    "#Getting statistics on R_Reach_cms\n",
    "df_ufc_3['R_Reach_cms'].describe()"
   ]
  },
  {
   "cell_type": "code",
   "execution_count": 56,
   "id": "db7584a8",
   "metadata": {},
   "outputs": [
    {
     "data": {
      "text/plain": [
       "182.88"
      ]
     },
     "execution_count": 56,
     "metadata": {},
     "output_type": "execute_result"
    }
   ],
   "source": [
    "#Getting median\n",
    "df_ufc_3['R_Reach_cms'].median()"
   ]
  },
  {
   "cell_type": "code",
   "execution_count": 57,
   "id": "15882c46",
   "metadata": {},
   "outputs": [],
   "source": [
    "#Mean and median are very close and spread is low. Will use median, but either would work.\n",
    "df_ufc_3['R_Reach_cms'].fillna(182.88, inplace=True)"
   ]
  },
  {
   "cell_type": "code",
   "execution_count": 58,
   "id": "59b22a7f",
   "metadata": {},
   "outputs": [
    {
     "data": {
      "text/plain": [
       "count    5756.000000\n",
       "mean       29.301946\n",
       "std         4.041557\n",
       "min        18.000000\n",
       "25%        26.000000\n",
       "50%        29.000000\n",
       "75%        32.000000\n",
       "max        47.000000\n",
       "Name: B_age, dtype: float64"
      ]
     },
     "execution_count": 58,
     "metadata": {},
     "output_type": "execute_result"
    }
   ],
   "source": [
    "#Getting statistics on B_age\n",
    "df_ufc_3['B_age'].describe()"
   ]
  },
  {
   "cell_type": "code",
   "execution_count": 59,
   "id": "ddf362c1",
   "metadata": {},
   "outputs": [
    {
     "data": {
      "text/plain": [
       "29.0"
      ]
     },
     "execution_count": 59,
     "metadata": {},
     "output_type": "execute_result"
    }
   ],
   "source": [
    "#Getting median\n",
    "df_ufc_3['B_age'].median()"
   ]
  },
  {
   "cell_type": "code",
   "execution_count": 60,
   "id": "d953e3c6",
   "metadata": {},
   "outputs": [
    {
     "data": {
      "text/plain": [
       "0    28.0\n",
       "Name: B_age, dtype: float64"
      ]
     },
     "execution_count": 60,
     "metadata": {},
     "output_type": "execute_result"
    }
   ],
   "source": [
    "#Getting mode\n",
    "df_ufc_3['B_age'].mode()"
   ]
  },
  {
   "cell_type": "code",
   "execution_count": 61,
   "id": "f8e696e3",
   "metadata": {},
   "outputs": [],
   "source": [
    "#Mean, median, and mode are close. Will use 29, mean and median.\n",
    "df_ufc_3['B_age'].fillna(29, inplace=True)"
   ]
  },
  {
   "cell_type": "code",
   "execution_count": 62,
   "id": "bd8e2031",
   "metadata": {},
   "outputs": [
    {
     "data": {
      "text/plain": [
       "count    5798.000000\n",
       "mean       29.625043\n",
       "std         4.160213\n",
       "min        19.000000\n",
       "25%        27.000000\n",
       "50%        29.000000\n",
       "75%        32.000000\n",
       "max        47.000000\n",
       "Name: R_age, dtype: float64"
      ]
     },
     "execution_count": 62,
     "metadata": {},
     "output_type": "execute_result"
    }
   ],
   "source": [
    "#Getting statistics on R_age\n",
    "df_ufc_3['R_age'].describe()"
   ]
  },
  {
   "cell_type": "code",
   "execution_count": 63,
   "id": "5a6bf548",
   "metadata": {},
   "outputs": [
    {
     "data": {
      "text/plain": [
       "29.0"
      ]
     },
     "execution_count": 63,
     "metadata": {},
     "output_type": "execute_result"
    }
   ],
   "source": [
    "#Getting median\n",
    "df_ufc_3['R_age'].median()"
   ]
  },
  {
   "cell_type": "code",
   "execution_count": 64,
   "id": "c306b09a",
   "metadata": {},
   "outputs": [
    {
     "data": {
      "text/plain": [
       "0    29.0\n",
       "Name: R_age, dtype: float64"
      ]
     },
     "execution_count": 64,
     "metadata": {},
     "output_type": "execute_result"
    }
   ],
   "source": [
    "#Getting mode\n",
    "df_ufc_3['R_age'].mode()"
   ]
  },
  {
   "cell_type": "code",
   "execution_count": 65,
   "id": "614fe524",
   "metadata": {},
   "outputs": [],
   "source": [
    "#Mean, median, and mode are very close. Will use 29.\n",
    "df_ufc_3['R_age'].fillna(29, inplace=True)"
   ]
  },
  {
   "cell_type": "code",
   "execution_count": 66,
   "id": "c93013d4",
   "metadata": {},
   "outputs": [
    {
     "data": {
      "text/plain": [
       "R_fighter    0\n",
       "B_fighter    0\n",
       "Referee      0\n",
       "location     0\n",
       "Winner       0\n",
       "            ..\n",
       "B_age        0\n",
       "R_age        0\n",
       "Day          0\n",
       "Month        0\n",
       "Year         0\n",
       "Length: 146, dtype: int64"
      ]
     },
     "execution_count": 66,
     "metadata": {},
     "output_type": "execute_result"
    }
   ],
   "source": [
    "#Checking for missing values in columns we changed\n",
    "df_ufc_3.isnull().sum()"
   ]
  },
  {
   "cell_type": "code",
   "execution_count": 67,
   "id": "3e404dae",
   "metadata": {},
   "outputs": [],
   "source": [
    "#Assigning missing values\n",
    "missing3 = df_ufc_3.isnull().sum()\n",
    "#Exporting to clipboard\n",
    "missing3.to_clipboard()"
   ]
  },
  {
   "cell_type": "code",
   "execution_count": 68,
   "id": "0f82df13",
   "metadata": {},
   "outputs": [
    {
     "data": {
      "text/html": [
       "<div>\n",
       "<style scoped>\n",
       "    .dataframe tbody tr th:only-of-type {\n",
       "        vertical-align: middle;\n",
       "    }\n",
       "\n",
       "    .dataframe tbody tr th {\n",
       "        vertical-align: top;\n",
       "    }\n",
       "\n",
       "    .dataframe thead th {\n",
       "        text-align: right;\n",
       "    }\n",
       "</style>\n",
       "<table border=\"1\" class=\"dataframe\">\n",
       "  <thead>\n",
       "    <tr style=\"text-align: right;\">\n",
       "      <th></th>\n",
       "      <th>R_fighter</th>\n",
       "      <th>B_fighter</th>\n",
       "      <th>Referee</th>\n",
       "      <th>location</th>\n",
       "      <th>Winner</th>\n",
       "      <th>title_bout</th>\n",
       "      <th>weight_class</th>\n",
       "      <th>B_avg_KD</th>\n",
       "      <th>B_avg_opp_KD</th>\n",
       "      <th>B_avg_SIG_STR_pct</th>\n",
       "      <th>...</th>\n",
       "      <th>R_win_by_TKO_Doctor_Stoppage</th>\n",
       "      <th>R_Stance</th>\n",
       "      <th>R_Height_cms</th>\n",
       "      <th>R_Reach_cms</th>\n",
       "      <th>R_Weight_lbs</th>\n",
       "      <th>B_age</th>\n",
       "      <th>R_age</th>\n",
       "      <th>Day</th>\n",
       "      <th>Month</th>\n",
       "      <th>Year</th>\n",
       "    </tr>\n",
       "  </thead>\n",
       "  <tbody>\n",
       "    <tr>\n",
       "      <th>0</th>\n",
       "      <td>Adrian Yanez</td>\n",
       "      <td>Gustavo Lopez</td>\n",
       "      <td>Chris Tognoni</td>\n",
       "      <td>Las Vegas, Nevada, USA</td>\n",
       "      <td>Red</td>\n",
       "      <td>False</td>\n",
       "      <td>Bantamweight</td>\n",
       "      <td>0.000</td>\n",
       "      <td>0.0</td>\n",
       "      <td>0.420000</td>\n",
       "      <td>...</td>\n",
       "      <td>0</td>\n",
       "      <td>Orthodox</td>\n",
       "      <td>170.18</td>\n",
       "      <td>177.80</td>\n",
       "      <td>135.0</td>\n",
       "      <td>31.0</td>\n",
       "      <td>27.0</td>\n",
       "      <td>20</td>\n",
       "      <td>3</td>\n",
       "      <td>2021</td>\n",
       "    </tr>\n",
       "    <tr>\n",
       "      <th>1</th>\n",
       "      <td>Trevin Giles</td>\n",
       "      <td>Roman Dolidze</td>\n",
       "      <td>Herb Dean</td>\n",
       "      <td>Las Vegas, Nevada, USA</td>\n",
       "      <td>Red</td>\n",
       "      <td>False</td>\n",
       "      <td>Middleweight</td>\n",
       "      <td>0.500</td>\n",
       "      <td>0.0</td>\n",
       "      <td>0.660000</td>\n",
       "      <td>...</td>\n",
       "      <td>0</td>\n",
       "      <td>Orthodox</td>\n",
       "      <td>182.88</td>\n",
       "      <td>187.96</td>\n",
       "      <td>185.0</td>\n",
       "      <td>32.0</td>\n",
       "      <td>28.0</td>\n",
       "      <td>20</td>\n",
       "      <td>3</td>\n",
       "      <td>2021</td>\n",
       "    </tr>\n",
       "    <tr>\n",
       "      <th>2</th>\n",
       "      <td>Tai Tuivasa</td>\n",
       "      <td>Harry Hunsucker</td>\n",
       "      <td>Herb Dean</td>\n",
       "      <td>Las Vegas, Nevada, USA</td>\n",
       "      <td>Red</td>\n",
       "      <td>False</td>\n",
       "      <td>Heavyweight</td>\n",
       "      <td>NaN</td>\n",
       "      <td>NaN</td>\n",
       "      <td>NaN</td>\n",
       "      <td>...</td>\n",
       "      <td>0</td>\n",
       "      <td>Southpaw</td>\n",
       "      <td>187.96</td>\n",
       "      <td>190.50</td>\n",
       "      <td>264.0</td>\n",
       "      <td>32.0</td>\n",
       "      <td>28.0</td>\n",
       "      <td>20</td>\n",
       "      <td>3</td>\n",
       "      <td>2021</td>\n",
       "    </tr>\n",
       "    <tr>\n",
       "      <th>3</th>\n",
       "      <td>Cheyanne Buys</td>\n",
       "      <td>Montserrat Conejo</td>\n",
       "      <td>Mark Smith</td>\n",
       "      <td>Las Vegas, Nevada, USA</td>\n",
       "      <td>Blue</td>\n",
       "      <td>False</td>\n",
       "      <td>WomenStrawweight</td>\n",
       "      <td>NaN</td>\n",
       "      <td>NaN</td>\n",
       "      <td>NaN</td>\n",
       "      <td>...</td>\n",
       "      <td>0</td>\n",
       "      <td>Switch</td>\n",
       "      <td>160.02</td>\n",
       "      <td>160.02</td>\n",
       "      <td>115.0</td>\n",
       "      <td>28.0</td>\n",
       "      <td>25.0</td>\n",
       "      <td>20</td>\n",
       "      <td>3</td>\n",
       "      <td>2021</td>\n",
       "    </tr>\n",
       "    <tr>\n",
       "      <th>4</th>\n",
       "      <td>Marion Reneau</td>\n",
       "      <td>Macy Chiasson</td>\n",
       "      <td>Mark Smith</td>\n",
       "      <td>Las Vegas, Nevada, USA</td>\n",
       "      <td>Blue</td>\n",
       "      <td>False</td>\n",
       "      <td>WomenBantamweight</td>\n",
       "      <td>0.125</td>\n",
       "      <td>0.0</td>\n",
       "      <td>0.535625</td>\n",
       "      <td>...</td>\n",
       "      <td>0</td>\n",
       "      <td>Orthodox</td>\n",
       "      <td>167.64</td>\n",
       "      <td>172.72</td>\n",
       "      <td>135.0</td>\n",
       "      <td>29.0</td>\n",
       "      <td>43.0</td>\n",
       "      <td>20</td>\n",
       "      <td>3</td>\n",
       "      <td>2021</td>\n",
       "    </tr>\n",
       "  </tbody>\n",
       "</table>\n",
       "<p>5 rows × 146 columns</p>\n",
       "</div>"
      ],
      "text/plain": [
       "       R_fighter          B_fighter        Referee                location  \\\n",
       "0   Adrian Yanez      Gustavo Lopez  Chris Tognoni  Las Vegas, Nevada, USA   \n",
       "1   Trevin Giles      Roman Dolidze      Herb Dean  Las Vegas, Nevada, USA   \n",
       "2    Tai Tuivasa    Harry Hunsucker      Herb Dean  Las Vegas, Nevada, USA   \n",
       "3  Cheyanne Buys  Montserrat Conejo     Mark Smith  Las Vegas, Nevada, USA   \n",
       "4  Marion Reneau      Macy Chiasson     Mark Smith  Las Vegas, Nevada, USA   \n",
       "\n",
       "  Winner  title_bout       weight_class  B_avg_KD  B_avg_opp_KD  \\\n",
       "0    Red       False       Bantamweight     0.000           0.0   \n",
       "1    Red       False       Middleweight     0.500           0.0   \n",
       "2    Red       False        Heavyweight       NaN           NaN   \n",
       "3   Blue       False   WomenStrawweight       NaN           NaN   \n",
       "4   Blue       False  WomenBantamweight     0.125           0.0   \n",
       "\n",
       "   B_avg_SIG_STR_pct  ...  R_win_by_TKO_Doctor_Stoppage  R_Stance  \\\n",
       "0           0.420000  ...                             0  Orthodox   \n",
       "1           0.660000  ...                             0  Orthodox   \n",
       "2                NaN  ...                             0  Southpaw   \n",
       "3                NaN  ...                             0    Switch   \n",
       "4           0.535625  ...                             0  Orthodox   \n",
       "\n",
       "   R_Height_cms  R_Reach_cms  R_Weight_lbs  B_age  R_age  Day  Month  Year  \n",
       "0        170.18       177.80         135.0   31.0   27.0   20      3  2021  \n",
       "1        182.88       187.96         185.0   32.0   28.0   20      3  2021  \n",
       "2        187.96       190.50         264.0   32.0   28.0   20      3  2021  \n",
       "3        160.02       160.02         115.0   28.0   25.0   20      3  2021  \n",
       "4        167.64       172.72         135.0   29.0   43.0   20      3  2021  \n",
       "\n",
       "[5 rows x 146 columns]"
      ]
     },
     "execution_count": 68,
     "metadata": {},
     "output_type": "execute_result"
    }
   ],
   "source": [
    "#Checking output\n",
    "df_ufc_3.head()"
   ]
  },
  {
   "cell_type": "code",
   "execution_count": 69,
   "id": "9c217b34",
   "metadata": {},
   "outputs": [
    {
     "data": {
      "text/plain": [
       "R_Stance\n",
       "Orthodox       4396\n",
       "Southpaw       1195\n",
       "Switch          181\n",
       "nan              22\n",
       "Open Stance      15\n",
       "Name: count, dtype: int64"
      ]
     },
     "execution_count": 69,
     "metadata": {},
     "output_type": "execute_result"
    }
   ],
   "source": [
    "#When viewing missing values in df_nan1427 some values in R_Stance are 'nan.' They did not show up in missings check. Checking R_Stance\n",
    "df_ufc_3['R_Stance'].value_counts(dropna = False)"
   ]
  },
  {
   "cell_type": "code",
   "execution_count": 70,
   "id": "4a105791",
   "metadata": {},
   "outputs": [
    {
     "data": {
      "text/plain": [
       "B_Stance\n",
       "Orthodox       4394\n",
       "Southpaw       1135\n",
       "Switch          227\n",
       "nan              45\n",
       "Open Stance       7\n",
       "Sideways          1\n",
       "Name: count, dtype: int64"
      ]
     },
     "execution_count": 70,
     "metadata": {},
     "output_type": "execute_result"
    }
   ],
   "source": [
    "#Checking B_Stance\n",
    "df_ufc_3['B_Stance'].value_counts(dropna = False)"
   ]
  },
  {
   "cell_type": "code",
   "execution_count": 71,
   "id": "6da8d51f",
   "metadata": {},
   "outputs": [],
   "source": [
    "#Replacing nan in R_Stance with most common stance, Orthodox\n",
    "df_ufc_3['R_Stance'].replace(['nan'], 'Orthodox', inplace=True)"
   ]
  },
  {
   "cell_type": "code",
   "execution_count": 72,
   "id": "05d3aa7f",
   "metadata": {},
   "outputs": [
    {
     "data": {
      "text/plain": [
       "R_Stance\n",
       "Orthodox       4418\n",
       "Southpaw       1195\n",
       "Switch          181\n",
       "Open Stance      15\n",
       "Name: count, dtype: int64"
      ]
     },
     "execution_count": 72,
     "metadata": {},
     "output_type": "execute_result"
    }
   ],
   "source": [
    "#Checking replacement\n",
    "df_ufc_3['R_Stance'].value_counts(dropna = False)"
   ]
  },
  {
   "cell_type": "code",
   "execution_count": 73,
   "id": "839ef70e",
   "metadata": {},
   "outputs": [],
   "source": [
    "#Replacing nan in B_Stance with most common stance, Orthodox\n",
    "df_ufc_3['B_Stance'].replace(['nan'], 'Orthodox', inplace=True)"
   ]
  },
  {
   "cell_type": "code",
   "execution_count": 74,
   "id": "72233f23",
   "metadata": {},
   "outputs": [
    {
     "data": {
      "text/plain": [
       "B_Stance\n",
       "Orthodox       4439\n",
       "Southpaw       1135\n",
       "Switch          227\n",
       "Open Stance       7\n",
       "Sideways          1\n",
       "Name: count, dtype: int64"
      ]
     },
     "execution_count": 74,
     "metadata": {},
     "output_type": "execute_result"
    }
   ],
   "source": [
    "#Checking replacement\n",
    "df_ufc_3['B_Stance'].value_counts(dropna = False)"
   ]
  },
  {
   "cell_type": "code",
   "execution_count": 75,
   "id": "072ad554",
   "metadata": {},
   "outputs": [
    {
     "data": {
      "text/html": [
       "<div>\n",
       "<style scoped>\n",
       "    .dataframe tbody tr th:only-of-type {\n",
       "        vertical-align: middle;\n",
       "    }\n",
       "\n",
       "    .dataframe tbody tr th {\n",
       "        vertical-align: top;\n",
       "    }\n",
       "\n",
       "    .dataframe thead th {\n",
       "        text-align: right;\n",
       "    }\n",
       "</style>\n",
       "<table border=\"1\" class=\"dataframe\">\n",
       "  <thead>\n",
       "    <tr style=\"text-align: right;\">\n",
       "      <th></th>\n",
       "      <th>R_fighter</th>\n",
       "      <th>B_fighter</th>\n",
       "      <th>Referee</th>\n",
       "      <th>location</th>\n",
       "      <th>Winner</th>\n",
       "      <th>title_bout</th>\n",
       "      <th>weight_class</th>\n",
       "      <th>B_avg_KD</th>\n",
       "      <th>B_avg_opp_KD</th>\n",
       "      <th>B_avg_SIG_STR_pct</th>\n",
       "      <th>...</th>\n",
       "      <th>R_win_by_TKO_Doctor_Stoppage</th>\n",
       "      <th>R_Stance</th>\n",
       "      <th>R_Height_cms</th>\n",
       "      <th>R_Reach_cms</th>\n",
       "      <th>R_Weight_lbs</th>\n",
       "      <th>B_age</th>\n",
       "      <th>R_age</th>\n",
       "      <th>Day</th>\n",
       "      <th>Month</th>\n",
       "      <th>Year</th>\n",
       "    </tr>\n",
       "  </thead>\n",
       "  <tbody>\n",
       "    <tr>\n",
       "      <th>0</th>\n",
       "      <td>False</td>\n",
       "      <td>False</td>\n",
       "      <td>False</td>\n",
       "      <td>False</td>\n",
       "      <td>False</td>\n",
       "      <td>False</td>\n",
       "      <td>False</td>\n",
       "      <td>False</td>\n",
       "      <td>False</td>\n",
       "      <td>False</td>\n",
       "      <td>...</td>\n",
       "      <td>False</td>\n",
       "      <td>False</td>\n",
       "      <td>False</td>\n",
       "      <td>False</td>\n",
       "      <td>False</td>\n",
       "      <td>False</td>\n",
       "      <td>False</td>\n",
       "      <td>False</td>\n",
       "      <td>False</td>\n",
       "      <td>False</td>\n",
       "    </tr>\n",
       "    <tr>\n",
       "      <th>1</th>\n",
       "      <td>False</td>\n",
       "      <td>False</td>\n",
       "      <td>False</td>\n",
       "      <td>False</td>\n",
       "      <td>False</td>\n",
       "      <td>False</td>\n",
       "      <td>False</td>\n",
       "      <td>False</td>\n",
       "      <td>False</td>\n",
       "      <td>False</td>\n",
       "      <td>...</td>\n",
       "      <td>False</td>\n",
       "      <td>False</td>\n",
       "      <td>False</td>\n",
       "      <td>False</td>\n",
       "      <td>False</td>\n",
       "      <td>False</td>\n",
       "      <td>False</td>\n",
       "      <td>False</td>\n",
       "      <td>False</td>\n",
       "      <td>False</td>\n",
       "    </tr>\n",
       "    <tr>\n",
       "      <th>2</th>\n",
       "      <td>False</td>\n",
       "      <td>False</td>\n",
       "      <td>False</td>\n",
       "      <td>False</td>\n",
       "      <td>False</td>\n",
       "      <td>False</td>\n",
       "      <td>False</td>\n",
       "      <td>False</td>\n",
       "      <td>False</td>\n",
       "      <td>False</td>\n",
       "      <td>...</td>\n",
       "      <td>False</td>\n",
       "      <td>False</td>\n",
       "      <td>False</td>\n",
       "      <td>False</td>\n",
       "      <td>False</td>\n",
       "      <td>False</td>\n",
       "      <td>False</td>\n",
       "      <td>False</td>\n",
       "      <td>False</td>\n",
       "      <td>False</td>\n",
       "    </tr>\n",
       "    <tr>\n",
       "      <th>3</th>\n",
       "      <td>False</td>\n",
       "      <td>False</td>\n",
       "      <td>False</td>\n",
       "      <td>False</td>\n",
       "      <td>False</td>\n",
       "      <td>False</td>\n",
       "      <td>False</td>\n",
       "      <td>False</td>\n",
       "      <td>False</td>\n",
       "      <td>False</td>\n",
       "      <td>...</td>\n",
       "      <td>False</td>\n",
       "      <td>False</td>\n",
       "      <td>False</td>\n",
       "      <td>False</td>\n",
       "      <td>False</td>\n",
       "      <td>False</td>\n",
       "      <td>False</td>\n",
       "      <td>False</td>\n",
       "      <td>False</td>\n",
       "      <td>False</td>\n",
       "    </tr>\n",
       "    <tr>\n",
       "      <th>4</th>\n",
       "      <td>False</td>\n",
       "      <td>False</td>\n",
       "      <td>False</td>\n",
       "      <td>False</td>\n",
       "      <td>False</td>\n",
       "      <td>False</td>\n",
       "      <td>False</td>\n",
       "      <td>False</td>\n",
       "      <td>False</td>\n",
       "      <td>False</td>\n",
       "      <td>...</td>\n",
       "      <td>False</td>\n",
       "      <td>False</td>\n",
       "      <td>False</td>\n",
       "      <td>False</td>\n",
       "      <td>False</td>\n",
       "      <td>False</td>\n",
       "      <td>False</td>\n",
       "      <td>False</td>\n",
       "      <td>False</td>\n",
       "      <td>False</td>\n",
       "    </tr>\n",
       "    <tr>\n",
       "      <th>...</th>\n",
       "      <td>...</td>\n",
       "      <td>...</td>\n",
       "      <td>...</td>\n",
       "      <td>...</td>\n",
       "      <td>...</td>\n",
       "      <td>...</td>\n",
       "      <td>...</td>\n",
       "      <td>...</td>\n",
       "      <td>...</td>\n",
       "      <td>...</td>\n",
       "      <td>...</td>\n",
       "      <td>...</td>\n",
       "      <td>...</td>\n",
       "      <td>...</td>\n",
       "      <td>...</td>\n",
       "      <td>...</td>\n",
       "      <td>...</td>\n",
       "      <td>...</td>\n",
       "      <td>...</td>\n",
       "      <td>...</td>\n",
       "      <td>...</td>\n",
       "    </tr>\n",
       "    <tr>\n",
       "      <th>5804</th>\n",
       "      <td>False</td>\n",
       "      <td>False</td>\n",
       "      <td>False</td>\n",
       "      <td>False</td>\n",
       "      <td>False</td>\n",
       "      <td>False</td>\n",
       "      <td>False</td>\n",
       "      <td>False</td>\n",
       "      <td>False</td>\n",
       "      <td>False</td>\n",
       "      <td>...</td>\n",
       "      <td>False</td>\n",
       "      <td>False</td>\n",
       "      <td>False</td>\n",
       "      <td>False</td>\n",
       "      <td>False</td>\n",
       "      <td>False</td>\n",
       "      <td>False</td>\n",
       "      <td>False</td>\n",
       "      <td>False</td>\n",
       "      <td>False</td>\n",
       "    </tr>\n",
       "    <tr>\n",
       "      <th>5805</th>\n",
       "      <td>False</td>\n",
       "      <td>False</td>\n",
       "      <td>False</td>\n",
       "      <td>False</td>\n",
       "      <td>False</td>\n",
       "      <td>False</td>\n",
       "      <td>False</td>\n",
       "      <td>False</td>\n",
       "      <td>False</td>\n",
       "      <td>False</td>\n",
       "      <td>...</td>\n",
       "      <td>False</td>\n",
       "      <td>False</td>\n",
       "      <td>False</td>\n",
       "      <td>False</td>\n",
       "      <td>False</td>\n",
       "      <td>False</td>\n",
       "      <td>False</td>\n",
       "      <td>False</td>\n",
       "      <td>False</td>\n",
       "      <td>False</td>\n",
       "    </tr>\n",
       "    <tr>\n",
       "      <th>5806</th>\n",
       "      <td>False</td>\n",
       "      <td>False</td>\n",
       "      <td>False</td>\n",
       "      <td>False</td>\n",
       "      <td>False</td>\n",
       "      <td>False</td>\n",
       "      <td>False</td>\n",
       "      <td>False</td>\n",
       "      <td>False</td>\n",
       "      <td>False</td>\n",
       "      <td>...</td>\n",
       "      <td>False</td>\n",
       "      <td>False</td>\n",
       "      <td>False</td>\n",
       "      <td>False</td>\n",
       "      <td>False</td>\n",
       "      <td>False</td>\n",
       "      <td>False</td>\n",
       "      <td>False</td>\n",
       "      <td>False</td>\n",
       "      <td>False</td>\n",
       "    </tr>\n",
       "    <tr>\n",
       "      <th>5807</th>\n",
       "      <td>False</td>\n",
       "      <td>False</td>\n",
       "      <td>False</td>\n",
       "      <td>False</td>\n",
       "      <td>False</td>\n",
       "      <td>False</td>\n",
       "      <td>False</td>\n",
       "      <td>False</td>\n",
       "      <td>False</td>\n",
       "      <td>False</td>\n",
       "      <td>...</td>\n",
       "      <td>False</td>\n",
       "      <td>False</td>\n",
       "      <td>False</td>\n",
       "      <td>False</td>\n",
       "      <td>False</td>\n",
       "      <td>False</td>\n",
       "      <td>False</td>\n",
       "      <td>False</td>\n",
       "      <td>False</td>\n",
       "      <td>False</td>\n",
       "    </tr>\n",
       "    <tr>\n",
       "      <th>5808</th>\n",
       "      <td>False</td>\n",
       "      <td>False</td>\n",
       "      <td>False</td>\n",
       "      <td>False</td>\n",
       "      <td>False</td>\n",
       "      <td>False</td>\n",
       "      <td>False</td>\n",
       "      <td>False</td>\n",
       "      <td>False</td>\n",
       "      <td>False</td>\n",
       "      <td>...</td>\n",
       "      <td>False</td>\n",
       "      <td>False</td>\n",
       "      <td>False</td>\n",
       "      <td>False</td>\n",
       "      <td>False</td>\n",
       "      <td>False</td>\n",
       "      <td>False</td>\n",
       "      <td>False</td>\n",
       "      <td>False</td>\n",
       "      <td>False</td>\n",
       "    </tr>\n",
       "  </tbody>\n",
       "</table>\n",
       "<p>5809 rows × 146 columns</p>\n",
       "</div>"
      ],
      "text/plain": [
       "      R_fighter  B_fighter  Referee  location  Winner  title_bout  \\\n",
       "0         False      False    False     False   False       False   \n",
       "1         False      False    False     False   False       False   \n",
       "2         False      False    False     False   False       False   \n",
       "3         False      False    False     False   False       False   \n",
       "4         False      False    False     False   False       False   \n",
       "...         ...        ...      ...       ...     ...         ...   \n",
       "5804      False      False    False     False   False       False   \n",
       "5805      False      False    False     False   False       False   \n",
       "5806      False      False    False     False   False       False   \n",
       "5807      False      False    False     False   False       False   \n",
       "5808      False      False    False     False   False       False   \n",
       "\n",
       "      weight_class  B_avg_KD  B_avg_opp_KD  B_avg_SIG_STR_pct  ...  \\\n",
       "0            False     False         False              False  ...   \n",
       "1            False     False         False              False  ...   \n",
       "2            False     False         False              False  ...   \n",
       "3            False     False         False              False  ...   \n",
       "4            False     False         False              False  ...   \n",
       "...            ...       ...           ...                ...  ...   \n",
       "5804         False     False         False              False  ...   \n",
       "5805         False     False         False              False  ...   \n",
       "5806         False     False         False              False  ...   \n",
       "5807         False     False         False              False  ...   \n",
       "5808         False     False         False              False  ...   \n",
       "\n",
       "      R_win_by_TKO_Doctor_Stoppage  R_Stance  R_Height_cms  R_Reach_cms  \\\n",
       "0                            False     False         False        False   \n",
       "1                            False     False         False        False   \n",
       "2                            False     False         False        False   \n",
       "3                            False     False         False        False   \n",
       "4                            False     False         False        False   \n",
       "...                            ...       ...           ...          ...   \n",
       "5804                         False     False         False        False   \n",
       "5805                         False     False         False        False   \n",
       "5806                         False     False         False        False   \n",
       "5807                         False     False         False        False   \n",
       "5808                         False     False         False        False   \n",
       "\n",
       "      R_Weight_lbs  B_age  R_age    Day  Month   Year  \n",
       "0            False  False  False  False  False  False  \n",
       "1            False  False  False  False  False  False  \n",
       "2            False  False  False  False  False  False  \n",
       "3            False  False  False  False  False  False  \n",
       "4            False  False  False  False  False  False  \n",
       "...            ...    ...    ...    ...    ...    ...  \n",
       "5804         False  False  False  False  False  False  \n",
       "5805         False  False  False  False  False  False  \n",
       "5806         False  False  False  False  False  False  \n",
       "5807         False  False  False  False  False  False  \n",
       "5808         False  False  False  False  False  False  \n",
       "\n",
       "[5809 rows x 146 columns]"
      ]
     },
     "execution_count": 75,
     "metadata": {},
     "output_type": "execute_result"
    }
   ],
   "source": [
    "#Searching entire dataframe for 'nan'\n",
    "df_ufc_3.isin(['nan'])"
   ]
  },
  {
   "cell_type": "code",
   "execution_count": 76,
   "id": "e117f723",
   "metadata": {},
   "outputs": [],
   "source": [
    "#Assigning nan \n",
    "nan = df_ufc_3.isin(['nan'])"
   ]
  },
  {
   "cell_type": "code",
   "execution_count": 77,
   "id": "a6898707",
   "metadata": {},
   "outputs": [],
   "source": [
    "#Exporting to clipboard to seah entire view\n",
    "nan.to_clipboard()"
   ]
  },
  {
   "cell_type": "markdown",
   "id": "6a813421",
   "metadata": {},
   "source": [
    "### While not missing, there are 31 'nan' values in Referee. I will leave these. We need the other data in the rows, and I don't know if Referee will be needed for analysis or not."
   ]
  },
  {
   "cell_type": "markdown",
   "id": "33756fc3",
   "metadata": {},
   "source": [
    "## 05. Duplicates Check"
   ]
  },
  {
   "cell_type": "code",
   "execution_count": 78,
   "id": "47eaf86b",
   "metadata": {},
   "outputs": [],
   "source": [
    "#Searching for duplicates\n",
    "df_dups = df_ufc_3[df_ufc_3.duplicated()]"
   ]
  },
  {
   "cell_type": "code",
   "execution_count": 79,
   "id": "d6661711",
   "metadata": {},
   "outputs": [
    {
     "data": {
      "text/html": [
       "<div>\n",
       "<style scoped>\n",
       "    .dataframe tbody tr th:only-of-type {\n",
       "        vertical-align: middle;\n",
       "    }\n",
       "\n",
       "    .dataframe tbody tr th {\n",
       "        vertical-align: top;\n",
       "    }\n",
       "\n",
       "    .dataframe thead th {\n",
       "        text-align: right;\n",
       "    }\n",
       "</style>\n",
       "<table border=\"1\" class=\"dataframe\">\n",
       "  <thead>\n",
       "    <tr style=\"text-align: right;\">\n",
       "      <th></th>\n",
       "      <th>R_fighter</th>\n",
       "      <th>B_fighter</th>\n",
       "      <th>Referee</th>\n",
       "      <th>location</th>\n",
       "      <th>Winner</th>\n",
       "      <th>title_bout</th>\n",
       "      <th>weight_class</th>\n",
       "      <th>B_avg_KD</th>\n",
       "      <th>B_avg_opp_KD</th>\n",
       "      <th>B_avg_SIG_STR_pct</th>\n",
       "      <th>...</th>\n",
       "      <th>R_win_by_TKO_Doctor_Stoppage</th>\n",
       "      <th>R_Stance</th>\n",
       "      <th>R_Height_cms</th>\n",
       "      <th>R_Reach_cms</th>\n",
       "      <th>R_Weight_lbs</th>\n",
       "      <th>B_age</th>\n",
       "      <th>R_age</th>\n",
       "      <th>Day</th>\n",
       "      <th>Month</th>\n",
       "      <th>Year</th>\n",
       "    </tr>\n",
       "  </thead>\n",
       "  <tbody>\n",
       "  </tbody>\n",
       "</table>\n",
       "<p>0 rows × 146 columns</p>\n",
       "</div>"
      ],
      "text/plain": [
       "Empty DataFrame\n",
       "Columns: [R_fighter, B_fighter, Referee, location, Winner, title_bout, weight_class, B_avg_KD, B_avg_opp_KD, B_avg_SIG_STR_pct, B_avg_opp_SIG_STR_pct, B_avg_TD_pct, B_avg_opp_TD_pct, B_avg_SUB_ATT, B_avg_opp_SUB_ATT, B_avg_REV, B_avg_opp_REV, B_avg_SIG_STR_att, B_avg_SIG_STR_landed, B_avg_opp_SIG_STR_att, B_avg_opp_SIG_STR_landed, B_avg_TOTAL_STR_att, B_avg_TOTAL_STR_landed, B_avg_opp_TOTAL_STR_att, B_avg_opp_TOTAL_STR_landed, B_avg_TD_att, B_avg_TD_landed, B_avg_opp_TD_att, B_avg_opp_TD_landed, B_avg_HEAD_att, B_avg_HEAD_landed, B_avg_opp_HEAD_att, B_avg_opp_HEAD_landed, B_avg_BODY_att, B_avg_BODY_landed, B_avg_opp_BODY_att, B_avg_opp_BODY_landed, B_avg_LEG_att, B_avg_LEG_landed, B_avg_opp_LEG_att, B_avg_opp_LEG_landed, B_avg_DISTANCE_att, B_avg_DISTANCE_landed, B_avg_opp_DISTANCE_att, B_avg_opp_DISTANCE_landed, B_avg_CLINCH_att, B_avg_CLINCH_landed, B_avg_opp_CLINCH_att, B_avg_opp_CLINCH_landed, B_avg_GROUND_att, B_avg_GROUND_landed, B_avg_opp_GROUND_att, B_avg_opp_GROUND_landed, B_avg_CTRL_time(seconds), B_avg_opp_CTRL_time(seconds), B_total_time_fought(seconds), B_total_rounds_fought, B_total_title_bouts, B_current_win_streak, B_current_lose_streak, B_longest_win_streak, B_wins, B_losses, B_draw, B_win_by_Decision_Majority, B_win_by_Decision_Split, B_win_by_Decision_Unanimous, B_win_by_KO/TKO, B_win_by_Submission, B_win_by_TKO_Doctor_Stoppage, B_Stance, B_Height_cms, B_Reach_cms, B_Weight_lbs, R_avg_KD, R_avg_opp_KD, R_avg_SIG_STR_pct, R_avg_opp_SIG_STR_pct, R_avg_TD_pct, R_avg_opp_TD_pct, R_avg_SUB_ATT, R_avg_opp_SUB_ATT, R_avg_REV, R_avg_opp_REV, R_avg_SIG_STR_att, R_avg_SIG_STR_landed, R_avg_opp_SIG_STR_att, R_avg_opp_SIG_STR_landed, R_avg_TOTAL_STR_att, R_avg_TOTAL_STR_landed, R_avg_opp_TOTAL_STR_att, R_avg_opp_TOTAL_STR_landed, R_avg_TD_att, R_avg_TD_landed, R_avg_opp_TD_att, R_avg_opp_TD_landed, R_avg_HEAD_att, R_avg_HEAD_landed, R_avg_opp_HEAD_att, R_avg_opp_HEAD_landed, ...]\n",
       "Index: []\n",
       "\n",
       "[0 rows x 146 columns]"
      ]
     },
     "execution_count": 79,
     "metadata": {},
     "output_type": "execute_result"
    }
   ],
   "source": [
    "df_dups"
   ]
  },
  {
   "cell_type": "markdown",
   "id": "b2b89223",
   "metadata": {},
   "source": [
    "### There are no duplicates in the data."
   ]
  },
  {
   "cell_type": "markdown",
   "id": "dfddbe94",
   "metadata": {},
   "source": [
    "## 06. Export"
   ]
  },
  {
   "cell_type": "code",
   "execution_count": 80,
   "id": "38bf4613",
   "metadata": {},
   "outputs": [
    {
     "data": {
      "text/plain": [
       "(5809, 146)"
      ]
     },
     "execution_count": 80,
     "metadata": {},
     "output_type": "execute_result"
    }
   ],
   "source": [
    "#Checking shape of data\n",
    "df_ufc_3.shape"
   ]
  },
  {
   "cell_type": "code",
   "execution_count": 81,
   "id": "00f1e4f0",
   "metadata": {},
   "outputs": [],
   "source": [
    "#Exporting data with averages columns\n",
    "df_ufc_3.to_csv(os.path.join(path, 'Prepared_Data', 'ufc_opp_avgs.csv'))"
   ]
  },
  {
   "cell_type": "code",
   "execution_count": 82,
   "id": "c58f1b48",
   "metadata": {},
   "outputs": [],
   "source": [
    "#Checking columns of data\n",
    "ufccolumns = df_ufc_3.head()"
   ]
  },
  {
   "cell_type": "code",
   "execution_count": 83,
   "id": "25c8d329",
   "metadata": {},
   "outputs": [],
   "source": [
    "#Exporting to clipboard to view\n",
    "ufccolumns.to_clipboard()"
   ]
  },
  {
   "cell_type": "code",
   "execution_count": 84,
   "id": "f7b9b738",
   "metadata": {},
   "outputs": [],
   "source": [
    "#Creating subset of data without averages columns\n",
    "df_ufc_4 = df_ufc_3.filter(['R_fighter', 'B_fighter', 'Referee', 'location', 'Winner', 'title_bout' , 'weight_class', 'B_total_time_fought(seconds)', 'B_total_rounds_fought', 'B_total_title_bouts', 'B_current_win_streak', 'B_current_lose_streak', 'B_longest_win_streak', 'B_wins', 'B_losses', 'B_draw', 'B_win_by_Decision_Majority', 'B_win_by_Decision_Split', 'B_win_by_Decision_Unanimous', 'B_win_by_KO/TKO', 'B_win_by_Submission', 'B_win_by_TKO_Doctor_Stoppage', 'B_Stance', 'B_Height_cms', 'B_Reach_cms', 'B_Weight_lbs','R_total_time_fought(seconds)', 'R_total_rounds_fought', 'R_total_title_bouts', 'R_current_win_streak', 'R_current_lose_streak', 'R_longest_win_streak', 'R_wins', 'R_losses', 'R_draw', 'R_win_by_Decision_Majority', 'R_win_by_Decision_Split', 'R_win_by_Decision_Unanimous', 'R_win_by_KO/TKO', 'R_win_by_Submission', 'R_win_by_TKO_Doctor_Stoppage', 'R_Stance', 'R_Height_cms', 'R_Reach_cms', 'R_Weight_lbs', 'B_age', 'R_age', 'Day', 'Month', 'Year'], axis = 1)"
   ]
  },
  {
   "cell_type": "code",
   "execution_count": 85,
   "id": "61174156",
   "metadata": {},
   "outputs": [],
   "source": [
    "#Checking subset\n",
    "ufckeep = df_ufc_4.head()"
   ]
  },
  {
   "cell_type": "code",
   "execution_count": 86,
   "id": "9b6582c6",
   "metadata": {},
   "outputs": [],
   "source": [
    "#Exporting to clipboard\n",
    "ufckeep.to_clipboard()"
   ]
  },
  {
   "cell_type": "code",
   "execution_count": 87,
   "id": "b6c6b521",
   "metadata": {},
   "outputs": [
    {
     "data": {
      "text/plain": [
       "(5809, 50)"
      ]
     },
     "execution_count": 87,
     "metadata": {},
     "output_type": "execute_result"
    }
   ],
   "source": [
    "df_ufc_4.shape"
   ]
  },
  {
   "cell_type": "code",
   "execution_count": 88,
   "id": "364fc848",
   "metadata": {},
   "outputs": [],
   "source": [
    "#Exporting subset\n",
    "df_ufc_4.to_csv(os.path.join(path, 'Prepared_Data', 'ufc_cleaned.csv'))"
   ]
  }
 ],
 "metadata": {
  "kernelspec": {
   "display_name": "Python 3 (ipykernel)",
   "language": "python",
   "name": "python3"
  },
  "language_info": {
   "codemirror_mode": {
    "name": "ipython",
    "version": 3
   },
   "file_extension": ".py",
   "mimetype": "text/x-python",
   "name": "python",
   "nbconvert_exporter": "python",
   "pygments_lexer": "ipython3",
   "version": "3.11.5"
  }
 },
 "nbformat": 4,
 "nbformat_minor": 5
}
